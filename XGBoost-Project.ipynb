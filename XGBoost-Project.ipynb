{
 "cells": [
  {
   "cell_type": "markdown",
   "id": "7fc67fe2",
   "metadata": {},
   "source": [
    "# Download dependencies/data"
   ]
  },
  {
   "cell_type": "code",
   "execution_count": 1,
   "id": "49c17ba8",
   "metadata": {
    "scrolled": false
   },
   "outputs": [
    {
     "name": "stdout",
     "output_type": "stream",
     "text": [
      "  % Total    % Received % Xferd  Average Speed   Time    Time     Time  Current\n",
      "                                 Dload  Upload   Total   Spent    Left  Speed\n",
      "100    17    0    17    0     0     57      0 --:--:-- --:--:-- --:--:--    57\n",
      "100   340  100   340    0     0    478      0 --:--:-- --:--:-- --:--:--     0\n",
      "100   534    0   534    0     0    425      0 --:--:--  0:00:01 --:--:--   425\n",
      " 41  515M   41  212M    0     0  46.1M      0  0:00:11  0:00:04  0:00:07 70.7M^C\n",
      "Archive:  kaggle-download.zip\n",
      "  End-of-central-directory signature not found.  Either this file is not\n",
      "  a zipfile, or it constitutes one disk of a multi-part archive.  In the\n",
      "  latter case the central directory and zipfile comment will be found on\n",
      "  the last disk(s) of this archive.\n",
      "unzip:  cannot find zipfile directory in one of kaggle-download.zip or\n",
      "        kaggle-download.zip.zip, and cannot find kaggle-download.zip.ZIP, period.\n"
     ]
    }
   ],
   "source": [
    "!curl -L https://www.dropbox.com/s/rndzndlgpw3coiq/kaggle-download.zip -o kaggle-download.zip\n",
    "!unzip kaggle-download.zip -d kaggle_data"
   ]
  },
  {
   "cell_type": "code",
   "execution_count": null,
   "id": "a3665813",
   "metadata": {
    "scrolled": true
   },
   "outputs": [],
   "source": [
    "pip install xgboost"
   ]
  },
  {
   "cell_type": "code",
   "execution_count": 109,
   "id": "818534c0",
   "metadata": {
    "scrolled": true
   },
   "outputs": [
    {
     "name": "stdout",
     "output_type": "stream",
     "text": [
      "Defaulting to user installation because normal site-packages is not writeable\n",
      "Collecting hyperopt\n",
      "  Downloading hyperopt-0.2.7-py2.py3-none-any.whl (1.6 MB)\n",
      "\u001b[K     |████████████████████████████████| 1.6 MB 14.4 MB/s eta 0:00:01\n",
      "\u001b[?25hRequirement already satisfied: numpy in /opt/conda/lib/python3.9/site-packages (from hyperopt) (1.22.4)\n",
      "Requirement already satisfied: scipy in /opt/conda/lib/python3.9/site-packages (from hyperopt) (1.7.0)\n",
      "Requirement already satisfied: six in /opt/conda/lib/python3.9/site-packages (from hyperopt) (1.16.0)\n",
      "Requirement already satisfied: cloudpickle in /opt/conda/lib/python3.9/site-packages (from hyperopt) (1.6.0)\n",
      "Collecting future\n",
      "  Downloading future-0.18.3.tar.gz (840 kB)\n",
      "\u001b[K     |████████████████████████████████| 840 kB 57.8 MB/s eta 0:00:01\n",
      "\u001b[?25hRequirement already satisfied: networkx>=2.2 in /opt/conda/lib/python3.9/site-packages (from hyperopt) (2.5)\n",
      "Requirement already satisfied: tqdm in /opt/conda/lib/python3.9/site-packages (from hyperopt) (4.61.2)\n",
      "Collecting py4j\n",
      "  Downloading py4j-0.10.9.7-py2.py3-none-any.whl (200 kB)\n",
      "\u001b[K     |████████████████████████████████| 200 kB 53.3 MB/s eta 0:00:01\n",
      "\u001b[?25hRequirement already satisfied: decorator>=4.3.0 in /opt/conda/lib/python3.9/site-packages (from networkx>=2.2->hyperopt) (5.0.9)\n",
      "Building wheels for collected packages: future\n",
      "  Building wheel for future (setup.py) ... \u001b[?25ldone\n",
      "\u001b[?25h  Created wheel for future: filename=future-0.18.3-py3-none-any.whl size=492026 sha256=ec372d44630e94bb8052c2a3a28630c7890d98d786025dd7107cdf093e6684fb\n",
      "  Stored in directory: /home/acz001/.cache/pip/wheels/bf/5d/6a/2e53874f7ec4e2bede522385439531fafec8fafe005b5c3d1b\n",
      "Successfully built future\n",
      "Installing collected packages: py4j, future, hyperopt\n",
      "\u001b[33m  WARNING: The scripts futurize and pasteurize are installed in '/home/acz001/.local/bin' which is not on PATH.\n",
      "  Consider adding this directory to PATH or, if you prefer to suppress this warning, use --no-warn-script-location.\u001b[0m\n",
      "\u001b[33m  WARNING: The script hyperopt-mongo-worker is installed in '/home/acz001/.local/bin' which is not on PATH.\n",
      "  Consider adding this directory to PATH or, if you prefer to suppress this warning, use --no-warn-script-location.\u001b[0m\n",
      "Successfully installed future-0.18.3 hyperopt-0.2.7 py4j-0.10.9.7\n",
      "Note: you may need to restart the kernel to use updated packages.\n"
     ]
    }
   ],
   "source": [
    "pip install hyperopt"
   ]
  },
  {
   "cell_type": "code",
   "execution_count": 1,
   "id": "c5411bf0",
   "metadata": {},
   "outputs": [],
   "source": [
    "import numpy as np, pandas as pd\n",
    "import matplotlib.pyplot as plt\n",
    "import torch\n",
    "from torch.utils.data import Dataset\n",
    "import torch.nn as nn\n",
    "import xgboost\n",
    "import sklearn"
   ]
  },
  {
   "cell_type": "markdown",
   "id": "aefdeef9",
   "metadata": {},
   "source": [
    "# Processing data"
   ]
  },
  {
   "cell_type": "code",
   "execution_count": 2,
   "id": "04c73b0f",
   "metadata": {},
   "outputs": [],
   "source": [
    "df_taxi_data = pd.read_csv(\"kaggle_data/metaData_taxistandsID_name_GPSlocation.csv\")\n",
    "# The following code normalizes longitudes and latitudes.\n",
    "# df_taxi_data[\"Longitude\"] = (df_taxi_data[\"Longitude\"] - df_taxi_data[\"Longitude\"].mean()) / df_taxi_data[\"Longitude\"].std()\n",
    "# df_taxi_data[\"Latitude\"] = (df_taxi_data[\"Latitude\"] - df_taxi_data[\"Latitude\"].mean()) / df_taxi_data[\"Latitude\"].std()"
   ]
  },
  {
   "cell_type": "code",
   "execution_count": 3,
   "id": "a056e237",
   "metadata": {
    "scrolled": true
   },
   "outputs": [],
   "source": [
    "from datetime import datetime\n",
    "import math\n",
    "\n",
    "def process_df(df):\n",
    "    def parse_time(x):\n",
    "        # We are using python's builtin datetime library\n",
    "        # https://docs.python.org/3/library/datetime.html#datetime.date.fromtimestamp\n",
    "\n",
    "        # Each x is essentially a 1 row, 1 column pandas Series\n",
    "        dt = datetime.fromtimestamp(x[\"TIMESTAMP\"])\n",
    "        return dt.year, dt.month, dt.day, dt.hour, dt.weekday()\n",
    "\n",
    "    def get_lat_long(x):\n",
    "        if math.isnan(x[\"ORIGIN_STAND\"]):\n",
    "            return 0, 0\n",
    "        taxi_row = df_taxi_data.iloc[int(x[\"ORIGIN_STAND\"]) - 1]\n",
    "        return float(taxi_row[\"Latitude\"]), float(taxi_row[\"Longitude\"])\n",
    "    \n",
    "    def augment_lat_long(df):\n",
    "        if \"POLYLINE\" not in df:\n",
    "            return df\n",
    "        augmented_df = []\n",
    "        for i, row in df.iterrows():\n",
    "            if math.isnan(row[\"ORIGIN_STAND\"]):\n",
    "                    start = [i.replace(']', '').replace('[', '').split(',') for i in row[\"POLYLINE\"].split('],')][0]\n",
    "                    if len(start) == 2:\n",
    "                        row.LATITUDE = float(start[0])\n",
    "                        row.LONGITUDE = float(start[1])\n",
    "                        augmented_df.append(row)\n",
    "        return pd.concat([df, pd.DataFrame(augmented_df, columns=df.columns)], ignore_index=True)\n",
    "\n",
    "    df[[\"LATITUDE\", \"LONGITUDE\"]] = df.apply(get_lat_long, axis=1, result_type=\"expand\")\n",
    "    df[[\"YR\", \"MON\", \"DAY\", \"HR\", \"WK\"]] = df.apply(parse_time, axis=1, result_type=\"expand\")\n",
    "    #df = augment_lat_long(df)\n",
    "    df.drop(['TRIP_ID', \"POLYLINE\", 'MISSING_DATA', 'TAXI_ID', 'DAY_TYPE'], axis=1, inplace=True, errors=\"ignore\")\n",
    "    \n",
    "    categorical_cols = ['CALL_TYPE', 'ORIGIN_CALL', 'ORIGIN_STAND', 'YR', 'MON', 'DAY', 'HR', 'WK']\n",
    "    for col in categorical_cols:\n",
    "        df[col] = df[col].astype('category')\n",
    "    if 'LEN' in df.columns:\n",
    "        df['LEN'] = df['LEN'].astype('float64')\n",
    "    \n",
    "    return df"
   ]
  },
  {
   "cell_type": "markdown",
   "id": "3a9ae7e7",
   "metadata": {},
   "source": [
    "## Do if you haven't run this notebook yet"
   ]
  },
  {
   "cell_type": "code",
   "execution_count": 5,
   "id": "2b46b2fb",
   "metadata": {},
   "outputs": [
    {
     "name": "stdout",
     "output_type": "stream",
     "text": [
      "rows_removed=10\n"
     ]
    }
   ],
   "source": [
    "# These are all of the files you are given\n",
    "original_df_tr = pd.read_csv(\"kaggle_data/train.csv\")\n",
    "\n",
    "# getting rid of incomplete rows\n",
    "original_rows = original_df_tr.shape[0]\n",
    "\n",
    "df_tr = original_df_tr.loc[original_df_tr['MISSING_DATA'] == False]\n",
    "\n",
    "rows_removed = original_rows - df_tr.shape[0]\n",
    "print(f\"{rows_removed=}\")"
   ]
  },
  {
   "cell_type": "code",
   "execution_count": 7,
   "id": "7b2c5504",
   "metadata": {},
   "outputs": [
    {
     "data": {
      "text/html": [
       "<div>\n",
       "<style scoped>\n",
       "    .dataframe tbody tr th:only-of-type {\n",
       "        vertical-align: middle;\n",
       "    }\n",
       "\n",
       "    .dataframe tbody tr th {\n",
       "        vertical-align: top;\n",
       "    }\n",
       "\n",
       "    .dataframe thead th {\n",
       "        text-align: right;\n",
       "    }\n",
       "</style>\n",
       "<table border=\"1\" class=\"dataframe\">\n",
       "  <thead>\n",
       "    <tr style=\"text-align: right;\">\n",
       "      <th></th>\n",
       "      <th>TRIP_ID</th>\n",
       "      <th>CALL_TYPE</th>\n",
       "      <th>ORIGIN_CALL</th>\n",
       "      <th>ORIGIN_STAND</th>\n",
       "      <th>TAXI_ID</th>\n",
       "      <th>TIMESTAMP</th>\n",
       "      <th>DAY_TYPE</th>\n",
       "      <th>MISSING_DATA</th>\n",
       "      <th>POLYLINE</th>\n",
       "    </tr>\n",
       "  </thead>\n",
       "  <tbody>\n",
       "    <tr>\n",
       "      <th>0</th>\n",
       "      <td>1372636858620000589</td>\n",
       "      <td>C</td>\n",
       "      <td>NaN</td>\n",
       "      <td>NaN</td>\n",
       "      <td>20000589</td>\n",
       "      <td>1372636858</td>\n",
       "      <td>A</td>\n",
       "      <td>False</td>\n",
       "      <td>[[-8.618643,41.141412],[-8.618499,41.141376],[...</td>\n",
       "    </tr>\n",
       "    <tr>\n",
       "      <th>1</th>\n",
       "      <td>1372637303620000596</td>\n",
       "      <td>B</td>\n",
       "      <td>NaN</td>\n",
       "      <td>7.0</td>\n",
       "      <td>20000596</td>\n",
       "      <td>1372637303</td>\n",
       "      <td>A</td>\n",
       "      <td>False</td>\n",
       "      <td>[[-8.639847,41.159826],[-8.640351,41.159871],[...</td>\n",
       "    </tr>\n",
       "    <tr>\n",
       "      <th>2</th>\n",
       "      <td>1372636951620000320</td>\n",
       "      <td>C</td>\n",
       "      <td>NaN</td>\n",
       "      <td>NaN</td>\n",
       "      <td>20000320</td>\n",
       "      <td>1372636951</td>\n",
       "      <td>A</td>\n",
       "      <td>False</td>\n",
       "      <td>[[-8.612964,41.140359],[-8.613378,41.14035],[-...</td>\n",
       "    </tr>\n",
       "    <tr>\n",
       "      <th>3</th>\n",
       "      <td>1372636854620000520</td>\n",
       "      <td>C</td>\n",
       "      <td>NaN</td>\n",
       "      <td>NaN</td>\n",
       "      <td>20000520</td>\n",
       "      <td>1372636854</td>\n",
       "      <td>A</td>\n",
       "      <td>False</td>\n",
       "      <td>[[-8.574678,41.151951],[-8.574705,41.151942],[...</td>\n",
       "    </tr>\n",
       "    <tr>\n",
       "      <th>4</th>\n",
       "      <td>1372637091620000337</td>\n",
       "      <td>C</td>\n",
       "      <td>NaN</td>\n",
       "      <td>NaN</td>\n",
       "      <td>20000337</td>\n",
       "      <td>1372637091</td>\n",
       "      <td>A</td>\n",
       "      <td>False</td>\n",
       "      <td>[[-8.645994,41.18049],[-8.645949,41.180517],[-...</td>\n",
       "    </tr>\n",
       "  </tbody>\n",
       "</table>\n",
       "</div>"
      ],
      "text/plain": [
       "               TRIP_ID CALL_TYPE  ORIGIN_CALL  ORIGIN_STAND   TAXI_ID  \\\n",
       "0  1372636858620000589         C          NaN           NaN  20000589   \n",
       "1  1372637303620000596         B          NaN           7.0  20000596   \n",
       "2  1372636951620000320         C          NaN           NaN  20000320   \n",
       "3  1372636854620000520         C          NaN           NaN  20000520   \n",
       "4  1372637091620000337         C          NaN           NaN  20000337   \n",
       "\n",
       "    TIMESTAMP DAY_TYPE  MISSING_DATA  \\\n",
       "0  1372636858        A         False   \n",
       "1  1372637303        A         False   \n",
       "2  1372636951        A         False   \n",
       "3  1372636854        A         False   \n",
       "4  1372637091        A         False   \n",
       "\n",
       "                                            POLYLINE  \n",
       "0  [[-8.618643,41.141412],[-8.618499,41.141376],[...  \n",
       "1  [[-8.639847,41.159826],[-8.640351,41.159871],[...  \n",
       "2  [[-8.612964,41.140359],[-8.613378,41.14035],[-...  \n",
       "3  [[-8.574678,41.151951],[-8.574705,41.151942],[...  \n",
       "4  [[-8.645994,41.18049],[-8.645949,41.180517],[-...  "
      ]
     },
     "execution_count": 7,
     "metadata": {},
     "output_type": "execute_result"
    }
   ],
   "source": [
    "df_tr.head()"
   ]
  },
  {
   "cell_type": "code",
   "execution_count": null,
   "id": "f6e7e19a",
   "metadata": {
    "scrolled": true
   },
   "outputs": [],
   "source": [
    "def polyline_to_trip_duration(polyline):\n",
    "    return max(polyline.count(\"[\") - 2, 0) * 15\n",
    "\n",
    "# This code creates a new column, \"LEN\", in our dataframe. The value is\n",
    "# the (polyline_length - 1) * 15, where polyline_length = count(\"[\") - 1\n",
    "df_tr[\"LEN\"] = df_tr[\"POLYLINE\"].apply(polyline_to_trip_duration)\n",
    "\n",
    "df_tr = process_df(df_tr)\n",
    "df_tr.to_csv(\"processed_train.csv\", index=False)"
   ]
  },
  {
   "cell_type": "markdown",
   "id": "72d1a7ba",
   "metadata": {},
   "source": [
    "## Run if you already have \"processed_train.csv\" saved"
   ]
  },
  {
   "cell_type": "code",
   "execution_count": 8,
   "id": "469021f0",
   "metadata": {
    "scrolled": true
   },
   "outputs": [],
   "source": [
    "df_tr = pd.read_csv(\"processed_train.csv\")\n",
    "categorical_cols = ['CALL_TYPE', 'ORIGIN_CALL', 'ORIGIN_STAND', 'YR', 'MON', 'DAY', 'HR', 'WK']\n",
    "for col in categorical_cols:\n",
    "    df_tr[col] = df_tr[col].astype('category')\n",
    "if 'LEN' in df_tr.columns:\n",
    "    df_tr['LEN'] = df_tr['LEN'].astype('float64')"
   ]
  },
  {
   "cell_type": "markdown",
   "id": "48e37ec3",
   "metadata": {},
   "source": [
    "## Run this in both cases"
   ]
  },
  {
   "cell_type": "code",
   "execution_count": 9,
   "id": "c53595b4",
   "metadata": {},
   "outputs": [],
   "source": [
    "len_mean = df_tr['LEN'].mean()\n",
    "len_std = df_tr['LEN'].std()\n",
    "len_range = (len_mean - 3 * len_std, len_mean + 3 * len_std)\n",
    "df_tr = df_tr.loc[df_tr['LEN'] < len_mean + 3 * len_std]"
   ]
  },
  {
   "cell_type": "code",
   "execution_count": 10,
   "id": "ad176d47",
   "metadata": {},
   "outputs": [],
   "source": [
    "from sklearn.model_selection import train_test_split\n",
    "\n",
    "X = df_tr.drop('LEN', axis=1)\n",
    "y = df_tr['LEN']\n",
    "\n",
    "X_train, X_test, y_train, y_test = train_test_split(X, y, random_state=1, test_size=0.1)"
   ]
  },
  {
   "cell_type": "code",
   "execution_count": 55,
   "id": "ec406b47",
   "metadata": {
    "scrolled": true
   },
   "outputs": [],
   "source": [
    "# Experimentation: trying a different model for each call type\n",
    "a_df_tr = df_tr.loc[df_tr['CALL_TYPE'] == 'A']\n",
    "b_df_tr = df_tr.loc[df_tr['CALL_TYPE'] == 'B']\n",
    "c_df_tr = df_tr.loc[df_tr['CALL_TYPE'] == 'C']"
   ]
  },
  {
   "cell_type": "code",
   "execution_count": 57,
   "id": "b20034ed",
   "metadata": {},
   "outputs": [
    {
     "data": {
      "text/html": [
       "<div>\n",
       "<style scoped>\n",
       "    .dataframe tbody tr th:only-of-type {\n",
       "        vertical-align: middle;\n",
       "    }\n",
       "\n",
       "    .dataframe tbody tr th {\n",
       "        vertical-align: top;\n",
       "    }\n",
       "\n",
       "    .dataframe thead th {\n",
       "        text-align: right;\n",
       "    }\n",
       "</style>\n",
       "<table border=\"1\" class=\"dataframe\">\n",
       "  <thead>\n",
       "    <tr style=\"text-align: right;\">\n",
       "      <th></th>\n",
       "      <th>CALL_TYPE</th>\n",
       "      <th>ORIGIN_CALL</th>\n",
       "      <th>ORIGIN_STAND</th>\n",
       "      <th>TIMESTAMP</th>\n",
       "      <th>LEN</th>\n",
       "      <th>LATITUDE</th>\n",
       "      <th>LONGITUDE</th>\n",
       "      <th>YR</th>\n",
       "      <th>MON</th>\n",
       "      <th>DAY</th>\n",
       "      <th>HR</th>\n",
       "      <th>WK</th>\n",
       "    </tr>\n",
       "  </thead>\n",
       "  <tbody>\n",
       "    <tr>\n",
       "      <th>12</th>\n",
       "      <td>A</td>\n",
       "      <td>31508.0</td>\n",
       "      <td>NaN</td>\n",
       "      <td>1372637343</td>\n",
       "      <td>465.0</td>\n",
       "      <td>0.0</td>\n",
       "      <td>0.0</td>\n",
       "      <td>2013</td>\n",
       "      <td>7</td>\n",
       "      <td>1</td>\n",
       "      <td>0</td>\n",
       "      <td>0</td>\n",
       "    </tr>\n",
       "    <tr>\n",
       "      <th>17</th>\n",
       "      <td>A</td>\n",
       "      <td>33180.0</td>\n",
       "      <td>NaN</td>\n",
       "      <td>1372639135</td>\n",
       "      <td>270.0</td>\n",
       "      <td>0.0</td>\n",
       "      <td>0.0</td>\n",
       "      <td>2013</td>\n",
       "      <td>7</td>\n",
       "      <td>1</td>\n",
       "      <td>0</td>\n",
       "      <td>0</td>\n",
       "    </tr>\n",
       "    <tr>\n",
       "      <th>21</th>\n",
       "      <td>A</td>\n",
       "      <td>39233.0</td>\n",
       "      <td>NaN</td>\n",
       "      <td>1372637254</td>\n",
       "      <td>630.0</td>\n",
       "      <td>0.0</td>\n",
       "      <td>0.0</td>\n",
       "      <td>2013</td>\n",
       "      <td>7</td>\n",
       "      <td>1</td>\n",
       "      <td>0</td>\n",
       "      <td>0</td>\n",
       "    </tr>\n",
       "    <tr>\n",
       "      <th>24</th>\n",
       "      <td>A</td>\n",
       "      <td>22864.0</td>\n",
       "      <td>NaN</td>\n",
       "      <td>1372637658</td>\n",
       "      <td>375.0</td>\n",
       "      <td>0.0</td>\n",
       "      <td>0.0</td>\n",
       "      <td>2013</td>\n",
       "      <td>7</td>\n",
       "      <td>1</td>\n",
       "      <td>0</td>\n",
       "      <td>0</td>\n",
       "    </tr>\n",
       "    <tr>\n",
       "      <th>26</th>\n",
       "      <td>A</td>\n",
       "      <td>25862.0</td>\n",
       "      <td>NaN</td>\n",
       "      <td>1372639535</td>\n",
       "      <td>840.0</td>\n",
       "      <td>0.0</td>\n",
       "      <td>0.0</td>\n",
       "      <td>2013</td>\n",
       "      <td>7</td>\n",
       "      <td>1</td>\n",
       "      <td>0</td>\n",
       "      <td>0</td>\n",
       "    </tr>\n",
       "  </tbody>\n",
       "</table>\n",
       "</div>"
      ],
      "text/plain": [
       "   CALL_TYPE ORIGIN_CALL ORIGIN_STAND   TIMESTAMP    LEN  LATITUDE  LONGITUDE  \\\n",
       "12         A     31508.0          NaN  1372637343  465.0       0.0        0.0   \n",
       "17         A     33180.0          NaN  1372639135  270.0       0.0        0.0   \n",
       "21         A     39233.0          NaN  1372637254  630.0       0.0        0.0   \n",
       "24         A     22864.0          NaN  1372637658  375.0       0.0        0.0   \n",
       "26         A     25862.0          NaN  1372639535  840.0       0.0        0.0   \n",
       "\n",
       "      YR MON DAY HR WK  \n",
       "12  2013   7   1  0  0  \n",
       "17  2013   7   1  0  0  \n",
       "21  2013   7   1  0  0  \n",
       "24  2013   7   1  0  0  \n",
       "26  2013   7   1  0  0  "
      ]
     },
     "execution_count": 57,
     "metadata": {},
     "output_type": "execute_result"
    }
   ],
   "source": [
    "a_df_tr.head()"
   ]
  },
  {
   "cell_type": "code",
   "execution_count": 42,
   "id": "7f26cc6e",
   "metadata": {},
   "outputs": [],
   "source": [
    "class CallType:\n",
    "    def __init__(self, df):\n",
    "        self.X = df.drop('LEN', axis=1)\n",
    "        self.y = df['LEN']\n",
    "        self.X_train, self.X_test, self.y_train, self.y_test = train_test_split(self.X, self.y, random_state=1, test_size=0.2)"
   ]
  },
  {
   "cell_type": "code",
   "execution_count": 43,
   "id": "69f1409c",
   "metadata": {},
   "outputs": [],
   "source": [
    "callTypeModels = {\"A\": CallType(a_df_tr), \"B\": CallType(b_df_tr), \"C\": CallType(c_df_tr)}"
   ]
  },
  {
   "cell_type": "markdown",
   "id": "e2bd1674",
   "metadata": {},
   "source": [
    "## Data exploration"
   ]
  },
  {
   "cell_type": "code",
   "execution_count": 12,
   "id": "81f24d6c",
   "metadata": {
    "scrolled": true
   },
   "outputs": [
    {
     "data": {
      "text/plain": [
       "{(2014, 8, 14): 'A',\n",
       " (2014, 9, 30): 'A',\n",
       " (2014, 10, 6): 'A',\n",
       " (2014, 11, 1): 'A',\n",
       " (2014, 12, 21): 'A'}"
      ]
     },
     "execution_count": 12,
     "metadata": {},
     "output_type": "execute_result"
    }
   ],
   "source": [
    "{ (x[\"YR\"], x[\"MON\"], x[\"DAY\"]):x[\"DAY_TYPE\"] for (i, x) in df_test.iterrows()}\n",
    "# There are only Type A days in both the training and test datasets, so we remove DAY_TYPE from the model"
   ]
  },
  {
   "cell_type": "code",
   "execution_count": null,
   "id": "98675080",
   "metadata": {},
   "outputs": [],
   "source": [
    "# Data visualization of all trip times\n",
    "plt.hist(raw_train[1].tolist(), bins=50, range=(0, 5000), linewidth=1, edgecolor='black')\n",
    "plt.xlabel('Taxi Trip Time')\n",
    "plt.ylabel('Frequency')\n",
    "plt.show()"
   ]
  },
  {
   "cell_type": "code",
   "execution_count": 30,
   "id": "82dfc9ee",
   "metadata": {
    "scrolled": true
   },
   "outputs": [
    {
     "data": {
      "image/png": "[encoded data removed]",
      "text/plain": [
       "<Figure size 432x288 with 1 Axes>"
      ]
     },
     "metadata": {
      "needs_background": "light"
     },
     "output_type": "display_data"
    }
   ],
   "source": [
    "# Heatmap visualization of trip start points\n",
    "import matplotlib.colors as mcolors\n",
    "plt.hist2d(latlong[0], latlong[1], bins=15, norm=mcolors.PowerNorm(0.5))\n",
    "plt.title('Latitude/Longitude Distribution (Heatmap)')\n",
    "plt.xlabel('Latitude')\n",
    "plt.ylabel('Longitude')\n",
    "plt.show()"
   ]
  },
  {
   "cell_type": "markdown",
   "id": "d79c4f11",
   "metadata": {
    "scrolled": true
   },
   "source": [
    "# Model training"
   ]
  },
  {
   "cell_type": "code",
   "execution_count": 11,
   "id": "83e5dd27",
   "metadata": {
    "scrolled": true
   },
   "outputs": [],
   "source": [
    "import xgboost as xgb\n",
    "\n",
    "dfull_reg = xgb.DMatrix(X, y, enable_categorical=True)\n",
    "dtrain_reg = xgb.DMatrix(X_train, y_train, enable_categorical=True)\n",
    "dtest_reg = xgb.DMatrix(X_test, y_test, enable_categorical=True)"
   ]
  },
  {
   "cell_type": "code",
   "execution_count": 12,
   "id": "876bc4ac",
   "metadata": {
    "scrolled": false
   },
   "outputs": [],
   "source": [
    "# Hyperparameters\n",
    "untuned_params = {'eval_metric': 'rmse','objective': 'reg:squarederror', 'tree_method': 'hist'}\n",
    "params = {'colsample_bytree': 0.8, 'eta': 0.025, 'eval_metric': 'rmse', 'gamma': 0.6000000000000001, 'max_depth': 8, 'min_child_weight': 6.0, 'objective': 'reg:squarederror', 'reg_alpha': 50.0, 'reg_lambda': 0.1, 'seed': 314159265, 'subsample': 0.9, 'tree_method': 'hist'}\n",
    "\n",
    "n = 10000\n",
    "EARLY_STOP = 50"
   ]
  },
  {
   "cell_type": "code",
   "execution_count": 13,
   "id": "34f2b60c",
   "metadata": {},
   "outputs": [],
   "source": [
    "# These are all of the files you are given\n",
    "# Writing the output to submit to kaggle\n",
    "df_test = pd.read_csv(\"kaggle_data/test_public.csv\")\n",
    "titles = df_test['TRIP_ID']\n",
    "df_test = process_df(df_test)"
   ]
  },
  {
   "cell_type": "code",
   "execution_count": 14,
   "id": "26af646d",
   "metadata": {},
   "outputs": [],
   "source": [
    "X_submission = df_test\n",
    "dsubmission_reg = xgb.DMatrix(X_submission, enable_categorical=True)"
   ]
  },
  {
   "cell_type": "code",
   "execution_count": 37,
   "id": "af60b24b",
   "metadata": {
    "scrolled": true
   },
   "outputs": [
    {
     "name": "stdout",
     "output_type": "stream",
     "text": [
      "nFold:  1\n",
      "[0]\ttrain-rmse:769.62330\teval-rmse:770.48691\n",
      "[100]\ttrain-rmse:392.94627\teval-rmse:395.22050\n",
      "[200]\ttrain-rmse:386.87928\teval-rmse:390.01041\n",
      "[300]\ttrain-rmse:385.40859\teval-rmse:389.15654\n",
      "[400]\ttrain-rmse:384.14552\teval-rmse:388.51499\n",
      "[500]\ttrain-rmse:383.22450\teval-rmse:388.07839\n",
      "[600]\ttrain-rmse:382.49173\teval-rmse:387.80249\n",
      "[700]\ttrain-rmse:381.89298\teval-rmse:387.60864\n",
      "[800]\ttrain-rmse:381.33563\teval-rmse:387.45357\n",
      "[900]\ttrain-rmse:380.85036\teval-rmse:387.33177\n",
      "[1000]\ttrain-rmse:380.42044\teval-rmse:387.24936\n",
      "[1100]\ttrain-rmse:379.98914\teval-rmse:387.17120\n",
      "[1200]\ttrain-rmse:379.58028\teval-rmse:387.12189\n",
      "[1300]\ttrain-rmse:379.22393\teval-rmse:387.08321\n",
      "[1400]\ttrain-rmse:378.79075\teval-rmse:387.02702\n",
      "[1500]\ttrain-rmse:378.40995\teval-rmse:386.99912\n",
      "[1600]\ttrain-rmse:378.06319\teval-rmse:386.98348\n",
      "[1700]\ttrain-rmse:377.74834\teval-rmse:386.97500\n",
      "[1800]\ttrain-rmse:377.44026\teval-rmse:386.96749\n",
      "[1870]\ttrain-rmse:377.19589\teval-rmse:386.96678\n",
      "nFold:  2\n",
      "[0]\ttrain-rmse:769.92855\teval-rmse:769.22457\n",
      "[100]\ttrain-rmse:392.95953\teval-rmse:394.77833\n",
      "[200]\ttrain-rmse:386.90637\teval-rmse:389.77932\n",
      "[300]\ttrain-rmse:385.45767\teval-rmse:388.95348\n",
      "[400]\ttrain-rmse:384.22444\teval-rmse:388.30756\n",
      "[500]\ttrain-rmse:383.33003\teval-rmse:387.89903\n",
      "[600]\ttrain-rmse:382.60485\teval-rmse:387.63359\n",
      "[700]\ttrain-rmse:382.00959\teval-rmse:387.44804\n",
      "[800]\ttrain-rmse:381.44799\teval-rmse:387.28639\n",
      "[900]\ttrain-rmse:380.94739\teval-rmse:387.17000\n",
      "[1000]\ttrain-rmse:380.52912\teval-rmse:387.10154\n",
      "[1100]\ttrain-rmse:380.11143\teval-rmse:387.04374\n",
      "[1200]\ttrain-rmse:379.69979\teval-rmse:386.99319\n",
      "[1300]\ttrain-rmse:379.33351\teval-rmse:386.95299\n",
      "[1400]\ttrain-rmse:378.88620\teval-rmse:386.91477\n",
      "[1500]\ttrain-rmse:378.51918\teval-rmse:386.89025\n",
      "[1600]\ttrain-rmse:378.17924\teval-rmse:386.87058\n",
      "[1700]\ttrain-rmse:377.86611\teval-rmse:386.85981\n",
      "[1780]\ttrain-rmse:377.62255\teval-rmse:386.85563\n",
      "nFold:  3\n",
      "[0]\ttrain-rmse:769.82164\teval-rmse:769.68724\n",
      "[100]\ttrain-rmse:393.09277\teval-rmse:394.56907\n",
      "[200]\ttrain-rmse:387.00932\teval-rmse:389.40890\n",
      "[300]\ttrain-rmse:385.51625\teval-rmse:388.54433\n",
      "[400]\ttrain-rmse:384.22656\teval-rmse:387.91372\n",
      "[500]\ttrain-rmse:383.32137\teval-rmse:387.54757\n",
      "[600]\ttrain-rmse:382.58808\teval-rmse:387.30454\n",
      "[700]\ttrain-rmse:381.97356\teval-rmse:387.12224\n",
      "[800]\ttrain-rmse:381.41710\teval-rmse:386.98613\n",
      "[900]\ttrain-rmse:380.92764\teval-rmse:386.87011\n",
      "[1000]\ttrain-rmse:380.51223\teval-rmse:386.80586\n",
      "[1100]\ttrain-rmse:380.08201\teval-rmse:386.74033\n",
      "[1200]\ttrain-rmse:379.66794\teval-rmse:386.69465\n",
      "[1300]\ttrain-rmse:379.31752\teval-rmse:386.65886\n",
      "[1400]\ttrain-rmse:378.88606\teval-rmse:386.61825\n",
      "[1500]\ttrain-rmse:378.48609\teval-rmse:386.57915\n",
      "[1600]\ttrain-rmse:378.13819\teval-rmse:386.56392\n",
      "[1700]\ttrain-rmse:377.81685\teval-rmse:386.54886\n",
      "[1737]\ttrain-rmse:377.70928\teval-rmse:386.55186\n",
      "nFold:  4\n",
      "[0]\ttrain-rmse:770.10867\teval-rmse:768.52088\n",
      "[100]\ttrain-rmse:393.23295\teval-rmse:393.70129\n",
      "[200]\ttrain-rmse:387.15333\teval-rmse:388.68836\n",
      "[300]\ttrain-rmse:385.69584\teval-rmse:387.88206\n",
      "[400]\ttrain-rmse:384.46650\teval-rmse:387.25829\n",
      "[500]\ttrain-rmse:383.57866\teval-rmse:386.85939\n",
      "[600]\ttrain-rmse:382.85927\teval-rmse:386.61272\n",
      "[700]\ttrain-rmse:382.25279\teval-rmse:386.42731\n",
      "[800]\ttrain-rmse:381.69468\teval-rmse:386.27957\n",
      "[900]\ttrain-rmse:381.20313\teval-rmse:386.16619\n",
      "[1000]\ttrain-rmse:380.78354\teval-rmse:386.09500\n",
      "[1100]\ttrain-rmse:380.36617\teval-rmse:386.03594\n",
      "[1200]\ttrain-rmse:379.96110\teval-rmse:385.97824\n",
      "[1300]\ttrain-rmse:379.60403\teval-rmse:385.94364\n",
      "[1400]\ttrain-rmse:379.16304\teval-rmse:385.89459\n",
      "[1500]\ttrain-rmse:378.79634\teval-rmse:385.86363\n",
      "[1600]\ttrain-rmse:378.45444\teval-rmse:385.84411\n",
      "[1700]\ttrain-rmse:378.14045\teval-rmse:385.83341\n",
      "[1736]\ttrain-rmse:378.03718\teval-rmse:385.83358\n",
      "nFold:  5\n",
      "[0]\ttrain-rmse:769.43611\teval-rmse:771.23839\n",
      "[100]\ttrain-rmse:392.52703\teval-rmse:396.58743\n",
      "[200]\ttrain-rmse:386.44431\teval-rmse:391.45285\n",
      "[300]\ttrain-rmse:384.98480\teval-rmse:390.63480\n",
      "[400]\ttrain-rmse:383.71203\teval-rmse:390.01030\n",
      "[500]\ttrain-rmse:382.82641\teval-rmse:389.61823\n",
      "[600]\ttrain-rmse:382.09453\teval-rmse:389.35096\n",
      "[700]\ttrain-rmse:381.49101\teval-rmse:389.17192\n",
      "[800]\ttrain-rmse:380.93493\teval-rmse:389.03708\n",
      "[900]\ttrain-rmse:380.45740\teval-rmse:388.92092\n",
      "[1000]\ttrain-rmse:380.03683\teval-rmse:388.84024\n",
      "[1100]\ttrain-rmse:379.61147\teval-rmse:388.76933\n",
      "[1200]\ttrain-rmse:379.20726\teval-rmse:388.72080\n",
      "[1300]\ttrain-rmse:378.85401\teval-rmse:388.69339\n",
      "[1400]\ttrain-rmse:378.42262\teval-rmse:388.64303\n",
      "[1500]\ttrain-rmse:378.04453\teval-rmse:388.61298\n",
      "[1600]\ttrain-rmse:377.70783\teval-rmse:388.60095\n",
      "[1700]\ttrain-rmse:377.39252\teval-rmse:388.58194\n",
      "[1800]\ttrain-rmse:377.08991\teval-rmse:388.57396\n",
      "[1885]\ttrain-rmse:376.80703\teval-rmse:388.57593\n"
     ]
    }
   ],
   "source": [
    "# Training and evaluating on the public dataset\n",
    "from sklearn.model_selection import KFold\n",
    "# This approach averages the results from each model trained on a different fold of the dataset\n",
    "nfold=5\n",
    "kf = KFold(n_splits=nfold, shuffle=True, random_state=1)\n",
    "\n",
    "predictions = np.zeros(len(df_test))\n",
    "i = 1\n",
    "for train_index, valid_index in kf.split(X):\n",
    "    print(\"nFold: \", i)\n",
    "    xg_train = xgb.DMatrix(X.iloc[train_index], y.iloc[train_index], enable_categorical=True)\n",
    "    xg_valid = xgb.DMatrix(X.iloc[valid_index], y.iloc[valid_index], enable_categorical=True)\n",
    "    \n",
    "    model = xgb.train(params, xg_train, num_boost_round=n, evals=[(xg_train, \"train\"), (xg_valid, \"eval\")], \n",
    "                      early_stopping_rounds=EARLY_STOP, verbose_eval=100)\n",
    "    predictions += model.predict(dsubmission_reg) / nfold\n",
    "    i = i + 1\n",
    "\n",
    "df = pd.DataFrame(data={\"TRIP_ID\": titles, \"TRAVEL_TIME\": predictions})\n",
    "df.to_csv(\"solution.csv\", index=False)"
   ]
  },
  {
   "cell_type": "code",
   "execution_count": 49,
   "id": "7f7b45f2",
   "metadata": {
    "scrolled": false
   },
   "outputs": [
    {
     "name": "stdout",
     "output_type": "stream",
     "text": [
      "[0]\ttrain-rmse:769.60060\teval-rmse:771.49605\n",
      "[9]\ttrain-rmse:657.65573\teval-rmse:659.67573\n"
     ]
    }
   ],
   "source": [
    "evals_result = {}\n",
    "# This approach just uses the base train-test split, so it can be saved to memory easier.\n",
    "model = xgb.train(params, dtrain_reg, num_boost_round=10, evals=[(dtrain_reg, \"train\"), (dtest_reg, \"eval\")], \n",
    "                      early_stopping_rounds=50, verbose_eval=100, evals_result=evals_result)\n"
   ]
  },
  {
   "cell_type": "code",
   "execution_count": 18,
   "id": "8c6c9b03",
   "metadata": {
    "scrolled": true
   },
   "outputs": [
    {
     "data": {
      "image/png": "[encoded data removed]",
      "text/plain": [
       "<Figure size 432x288 with 1 Axes>"
      ]
     },
     "metadata": {
      "needs_background": "light"
     },
     "output_type": "display_data"
    }
   ],
   "source": [
    "import numpy as np\n",
    "import matplotlib.pyplot as plt\n",
    "\n",
    "x_axis = np.arange(1, len(evals_result['train']['rmse']) + 1, 1)\n",
    "plt.plot(x_axis, evals_result['train']['rmse'])\n",
    "plt.plot(x_axis, evals_result['eval']['rmse'])\n",
    "plt.title('Training losses (tuned hyperparameters)')\n",
    "plt.xlabel(\"Epochs\")\n",
    "plt.show()"
   ]
  },
  {
   "cell_type": "code",
   "execution_count": 32,
   "id": "131e58c1",
   "metadata": {},
   "outputs": [],
   "source": [
    "predictions = model.predict(dsubmission_reg)\n",
    "df = pd.DataFrame(data={\"TRIP_ID\": titles, \"TRAVEL_TIME\": predictions})\n",
    "df.to_csv(\"solution.csv\", index=False)"
   ]
  },
  {
   "cell_type": "code",
   "execution_count": 51,
   "id": "3d099d3b",
   "metadata": {},
   "outputs": [],
   "source": [
    "model.save_model(\"model.json\")"
   ]
  },
  {
   "cell_type": "code",
   "execution_count": 71,
   "id": "886acb7f",
   "metadata": {
    "scrolled": true
   },
   "outputs": [
    {
     "name": "stdout",
     "output_type": "stream",
     "text": [
      "[0]\ttrain-rmse:809.30574\teval-rmse:809.72518\n",
      "[100]\ttrain-rmse:370.46727\teval-rmse:377.98990\n",
      "[200]\ttrain-rmse:358.89192\teval-rmse:369.54577\n",
      "[300]\ttrain-rmse:353.76758\teval-rmse:367.15738\n",
      "[400]\ttrain-rmse:350.22574\teval-rmse:365.71475\n",
      "[500]\ttrain-rmse:347.47568\teval-rmse:364.77269\n",
      "[600]\ttrain-rmse:345.16997\teval-rmse:364.15638\n",
      "[700]\ttrain-rmse:343.19249\teval-rmse:363.78758\n",
      "[800]\ttrain-rmse:341.57849\teval-rmse:363.58764\n",
      "[900]\ttrain-rmse:340.04300\teval-rmse:363.44442\n",
      "[1000]\ttrain-rmse:338.61419\teval-rmse:363.31403\n",
      "[1100]\ttrain-rmse:337.41716\teval-rmse:363.30225\n",
      "[1110]\ttrain-rmse:337.28544\teval-rmse:363.30762\n",
      "[0]\ttrain-rmse:727.43682\teval-rmse:725.97965\n",
      "[100]\ttrain-rmse:346.55697\teval-rmse:347.15824\n",
      "[200]\ttrain-rmse:339.53722\teval-rmse:342.05565\n",
      "[300]\ttrain-rmse:337.35979\teval-rmse:341.54980\n",
      "[400]\ttrain-rmse:335.64555\teval-rmse:341.40918\n",
      "[500]\ttrain-rmse:334.17147\teval-rmse:341.39678\n",
      "[503]\ttrain-rmse:334.13029\teval-rmse:341.39555\n",
      "[0]\ttrain-rmse:806.22256\teval-rmse:803.79548\n",
      "[100]\ttrain-rmse:463.85362\teval-rmse:463.66835\n",
      "[200]\ttrain-rmse:458.92501\teval-rmse:460.16452\n",
      "[300]\ttrain-rmse:457.73954\teval-rmse:460.07022\n",
      "[305]\ttrain-rmse:457.68364\teval-rmse:460.06767\n"
     ]
    }
   ],
   "source": [
    "# Experimenting with a different model for each call type\n",
    "for key, callType in callTypeModels.items():\n",
    "    callType.evals_result = {}\n",
    "    dtrain_reg = xgb.DMatrix(callType.X_train, callType.y_train, enable_categorical=True)\n",
    "    dtest_reg = xgb.DMatrix(callType.X_test, callType.y_test, enable_categorical=True)\n",
    "    callType.model = xgb.train(params, dtrain_reg, num_boost_round=n, evals=[(dtrain_reg, \"train\"), (dtest_reg, \"eval\")], \n",
    "                      early_stopping_rounds=50, verbose_eval=100, evals_result=callType.evals_result)"
   ]
  },
  {
   "cell_type": "code",
   "execution_count": 72,
   "id": "ac6a8446",
   "metadata": {},
   "outputs": [],
   "source": [
    "a_preds = callTypeModels[\"A\"].model.predict(dsubmission_reg)\n",
    "b_preds = callTypeModels[\"B\"].model.predict(dsubmission_reg)\n",
    "c_preds = callTypeModels[\"C\"].model.predict(dsubmission_reg)\n",
    "\n",
    "final_preds = []\n",
    "for i, row in df_test.iterrows():\n",
    "    if row['CALL_TYPE'] == 'A':\n",
    "        final_preds.append(a_preds[i])\n",
    "    elif row['CALL_TYPE'] == 'B':\n",
    "        final_preds.append(b_preds[i])\n",
    "    else:\n",
    "        final_preds.append(c_preds[i])\n",
    "        \n",
    "\n",
    "df = pd.DataFrame(data={\"TRIP_ID\": titles, \"TRAVEL_TIME\": final_preds})\n",
    "df.to_csv(\"solution.csv\", index=False)"
   ]
  },
  {
   "cell_type": "markdown",
   "id": "71d784a7",
   "metadata": {},
   "source": [
    "# Hyperparameter Optimization"
   ]
  },
  {
   "cell_type": "code",
   "execution_count": null,
   "id": "a1db8519",
   "metadata": {},
   "outputs": [
    {
     "name": "stdout",
     "output_type": "stream",
     "text": [
      "Training with params:                                  \n",
      "{'colsample_bytree': 1.0, 'eta': 0.42500000000000004, 'eval_metric': 'rmse', 'gamma': 0.8, 'max_depth': 9, 'min_child_weight': 3.0, 'objective': 'reg:squarederror', 'reg_alpha': 159.0, 'reg_lambda': 0.30000000000000004, 'seed': 314159265, 'subsample': 0.6000000000000001, 'tree_method': 'hist'}\n",
      "[0]\ttrain-rmse:795.06506\teval-rmse:717.47849           \n",
      "[52]\ttrain-rmse:112.11175\teval-rmse:778.82608          \n",
      "\\RMSE 648.9192132128529                                \n",
      "\n",
      "\n",
      "Training with params:                                                           \n",
      "{'colsample_bytree': 0.65, 'eta': 0.17500000000000002, 'eval_metric': 'rmse', 'gamma': 0.6000000000000001, 'max_depth': 10, 'min_child_weight': 5.0, 'objective': 'reg:squarederror', 'reg_alpha': 111.0, 'reg_lambda': 0.45, 'seed': 314159265, 'subsample': 0.8, 'tree_method': 'hist'}\n",
      "  1%|          | 1/100 [00:11<19:10, 11.62s/trial, best loss: 648.9192132128529]"
     ]
    },
    {
     "name": "stderr",
     "output_type": "stream",
     "text": [
      "/home/acz001/.local/lib/python3.9/site-packages/xgboost/core.py:122: UserWarning: ntree_limit is deprecated, use `iteration_range` or model slicing instead.\n",
      "  warnings.warn(\n",
      "\n"
     ]
    },
    {
     "name": "stdout",
     "output_type": "stream",
     "text": [
      "[0]\ttrain-rmse:916.27997\teval-rmse:819.46101                                    \n",
      "[63]\ttrain-rmse:214.63459\teval-rmse:628.96106                                   \n",
      "\\RMSE 593.1924170965558                                                         \n",
      "\n",
      "\n",
      "Training with params:                                                           \n",
      "{'colsample_bytree': 0.5, 'eta': 0.1, 'eval_metric': 'rmse', 'gamma': 0.8500000000000001, 'max_depth': 2, 'min_child_weight': 5.0, 'objective': 'reg:squarederror', 'reg_alpha': 159.0, 'reg_lambda': 0.2, 'seed': 314159265, 'subsample': 0.9500000000000001, 'tree_method': 'hist'}\n",
      "[0]\ttrain-rmse:965.19374\teval-rmse:863.14371                                    \n",
      "  2%|▏         | 2/100 [00:23<19:06, 11.70s/trial, best loss: 593.1924170965558]"
     ]
    },
    {
     "name": "stderr",
     "output_type": "stream",
     "text": [
      "/home/acz001/.local/lib/python3.9/site-packages/xgboost/core.py:122: UserWarning: ntree_limit is deprecated, use `iteration_range` or model slicing instead.\n",
      "  warnings.warn(\n",
      "\n"
     ]
    },
    {
     "name": "stdout",
     "output_type": "stream",
     "text": [
      "[95]\ttrain-rmse:689.40144\teval-rmse:572.91703                                   \n",
      "\\RMSE 572.0931754588157                                                         \n",
      "\n",
      "\n",
      "Training with params:                                                           \n",
      "{'colsample_bytree': 0.6000000000000001, 'eta': 0.47500000000000003, 'eval_metric': 'rmse', 'gamma': 0.8, 'max_depth': 6, 'min_child_weight': 1.0, 'objective': 'reg:squarederror', 'reg_alpha': 123.0, 'reg_lambda': 0.15000000000000002, 'seed': 314159265, 'subsample': 0.8, 'tree_method': 'hist'}\n",
      "[0]\ttrain-rmse:795.62562\teval-rmse:689.11423                                    \n",
      "  3%|▎         | 3/100 [00:24<10:46,  6.66s/trial, best loss: 572.0931754588157]"
     ]
    },
    {
     "name": "stderr",
     "output_type": "stream",
     "text": [
      "/home/acz001/.local/lib/python3.9/site-packages/xgboost/core.py:122: UserWarning: ntree_limit is deprecated, use `iteration_range` or model slicing instead.\n",
      "  warnings.warn(\n",
      "\n"
     ]
    },
    {
     "name": "stdout",
     "output_type": "stream",
     "text": [
      "[53]\ttrain-rmse:350.09107\teval-rmse:689.29307                                   \n",
      "\\RMSE 612.2615144177147                                                         \n",
      "\n",
      "\n",
      "Training with params:                                                           \n",
      "{'colsample_bytree': 0.55, 'eta': 0.42500000000000004, 'eval_metric': 'rmse', 'gamma': 0.5, 'max_depth': 9, 'min_child_weight': 1.0, 'objective': 'reg:squarederror', 'reg_alpha': 170.0, 'reg_lambda': 0.9500000000000001, 'seed': 314159265, 'subsample': 0.8, 'tree_method': 'hist'}\n",
      "  4%|▍         | 4/100 [00:25<07:36,  4.75s/trial, best loss: 572.0931754588157]"
     ]
    },
    {
     "name": "stderr",
     "output_type": "stream",
     "text": [
      "/home/acz001/.local/lib/python3.9/site-packages/xgboost/core.py:122: UserWarning: ntree_limit is deprecated, use `iteration_range` or model slicing instead.\n",
      "  warnings.warn(\n",
      "\n"
     ]
    },
    {
     "name": "stdout",
     "output_type": "stream",
     "text": [
      "[0]\ttrain-rmse:784.02546\teval-rmse:710.89962                                    \n",
      "[54]\ttrain-rmse:135.49528\teval-rmse:656.34420                                   \n",
      "\\RMSE 615.1124573360802                                                         \n",
      "\n",
      "\n",
      "Training with params:                                                           \n",
      "{'colsample_bytree': 1.0, 'eta': 0.4, 'eval_metric': 'rmse', 'gamma': 0.65, 'max_depth': 2, 'min_child_weight': 6.0, 'objective': 'reg:squarederror', 'reg_alpha': 135.0, 'reg_lambda': 0.35000000000000003, 'seed': 314159265, 'subsample': 0.8, 'tree_method': 'hist'}\n",
      "[0]\ttrain-rmse:830.06319\teval-rmse:715.76572                                    \n",
      "  5%|▌         | 5/100 [00:31<07:53,  4.98s/trial, best loss: 572.0931754588157]"
     ]
    },
    {
     "name": "stderr",
     "output_type": "stream",
     "text": [
      "/home/acz001/.local/lib/python3.9/site-packages/xgboost/core.py:122: UserWarning: ntree_limit is deprecated, use `iteration_range` or model slicing instead.\n",
      "  warnings.warn(\n",
      "\n"
     ]
    },
    {
     "name": "stdout",
     "output_type": "stream",
     "text": [
      "[55]\ttrain-rmse:678.89230\teval-rmse:580.37883                                   \n",
      "\\RMSE 574.3715967912262                                                         \n",
      "\n",
      "\n",
      "Training with params:                                                           \n",
      "{'colsample_bytree': 0.6000000000000001, 'eta': 0.4, 'eval_metric': 'rmse', 'gamma': 0.9, 'max_depth': 12, 'min_child_weight': 2.0, 'objective': 'reg:squarederror', 'reg_alpha': 83.0, 'reg_lambda': 0.7000000000000001, 'seed': 314159265, 'subsample': 0.8, 'tree_method': 'hist'}\n",
      "  6%|▌         | 6/100 [00:31<05:30,  3.52s/trial, best loss: 572.0931754588157]"
     ]
    },
    {
     "name": "stderr",
     "output_type": "stream",
     "text": [
      "/home/acz001/.local/lib/python3.9/site-packages/xgboost/core.py:122: UserWarning: ntree_limit is deprecated, use `iteration_range` or model slicing instead.\n",
      "  warnings.warn(\n",
      "\n"
     ]
    },
    {
     "name": "stdout",
     "output_type": "stream",
     "text": [
      "[0]\ttrain-rmse:799.72076\teval-rmse:706.48823                                    \n",
      "[55]\ttrain-rmse:73.15374\teval-rmse:645.66143                                    \n",
      "\\RMSE 601.3638661142601                                                         \n",
      "\n",
      "\n",
      "Training with params:                                                           \n",
      "{'colsample_bytree': 0.55, 'eta': 0.47500000000000003, 'eval_metric': 'rmse', 'gamma': 0.65, 'max_depth': 12, 'min_child_weight': 5.0, 'objective': 'reg:squarederror', 'reg_alpha': 145.0, 'reg_lambda': 1.0, 'seed': 314159265, 'subsample': 0.8, 'tree_method': 'hist'}\n",
      "  7%|▋         | 7/100 [00:50<12:58,  8.37s/trial, best loss: 572.0931754588157]"
     ]
    },
    {
     "name": "stderr",
     "output_type": "stream",
     "text": [
      "/home/acz001/.local/lib/python3.9/site-packages/xgboost/core.py:122: UserWarning: ntree_limit is deprecated, use `iteration_range` or model slicing instead.\n",
      "  warnings.warn(\n",
      "\n"
     ]
    },
    {
     "name": "stdout",
     "output_type": "stream",
     "text": [
      "[0]\ttrain-rmse:788.93748\teval-rmse:680.01546                                    \n",
      "[52]\ttrain-rmse:91.59471\teval-rmse:687.91564                                    \n",
      "\\RMSE 603.223495598593                                                          \n",
      "\n",
      "\n",
      "Training with params:                                                           \n",
      "{'colsample_bytree': 0.5, 'eta': 0.35000000000000003, 'eval_metric': 'rmse', 'gamma': 0.7000000000000001, 'max_depth': 7, 'min_child_weight': 5.0, 'objective': 'reg:squarederror', 'reg_alpha': 97.0, 'reg_lambda': 0.8500000000000001, 'seed': 314159265, 'subsample': 0.5, 'tree_method': 'hist'}\n",
      "[0]\ttrain-rmse:841.67535\teval-rmse:739.87725                                    \n",
      "  8%|▊         | 8/100 [01:04<15:51, 10.34s/trial, best loss: 572.0931754588157]"
     ]
    },
    {
     "name": "stderr",
     "output_type": "stream",
     "text": [
      "/home/acz001/.local/lib/python3.9/site-packages/xgboost/core.py:122: UserWarning: ntree_limit is deprecated, use `iteration_range` or model slicing instead.\n",
      "  warnings.warn(\n",
      "\n"
     ]
    },
    {
     "name": "stdout",
     "output_type": "stream",
     "text": [
      "[54]\ttrain-rmse:434.36951\teval-rmse:671.56868                                   \n",
      "\\RMSE 600.0324981620545                                                         \n",
      "\n",
      "\n",
      "Training with params:                                                           \n",
      "{'colsample_bytree': 0.65, 'eta': 0.325, 'eval_metric': 'rmse', 'gamma': 0.75, 'max_depth': 1, 'min_child_weight': 4.0, 'objective': 'reg:squarederror', 'reg_alpha': 98.0, 'reg_lambda': 0.5, 'seed': 314159265, 'subsample': 0.7000000000000001, 'tree_method': 'hist'}\n",
      "[0]\ttrain-rmse:862.24398\teval-rmse:748.78975                                    \n",
      "  9%|▉         | 9/100 [01:07<11:49,  7.80s/trial, best loss: 572.0931754588157]"
     ]
    },
    {
     "name": "stderr",
     "output_type": "stream",
     "text": [
      "/home/acz001/.local/lib/python3.9/site-packages/xgboost/core.py:122: UserWarning: ntree_limit is deprecated, use `iteration_range` or model slicing instead.\n",
      "  warnings.warn(\n",
      "\n"
     ]
    },
    {
     "name": "stdout",
     "output_type": "stream",
     "text": [
      "[100]\ttrain-rmse:697.95335\teval-rmse:573.73440                                  \n",
      "[156]\ttrain-rmse:697.74113\teval-rmse:573.94935                                  \n",
      "\\RMSE 573.065446188512                                                          \n",
      "\n",
      "\n",
      "Training with params:                                                            \n",
      "{'colsample_bytree': 0.75, 'eta': 0.45, 'eval_metric': 'rmse', 'gamma': 0.8500000000000001, 'max_depth': 7, 'min_child_weight': 4.0, 'objective': 'reg:squarederror', 'reg_alpha': 84.0, 'reg_lambda': 0.30000000000000004, 'seed': 314159265, 'subsample': 0.8, 'tree_method': 'hist'}\n",
      "[0]\ttrain-rmse:789.19315\teval-rmse:683.96396                                     \n",
      " 10%|█         | 10/100 [01:07<08:23,  5.59s/trial, best loss: 572.0931754588157]"
     ]
    },
    {
     "name": "stderr",
     "output_type": "stream",
     "text": [
      "/home/acz001/.local/lib/python3.9/site-packages/xgboost/core.py:122: UserWarning: ntree_limit is deprecated, use `iteration_range` or model slicing instead.\n",
      "  warnings.warn(\n",
      "\n"
     ]
    },
    {
     "name": "stdout",
     "output_type": "stream",
     "text": [
      "[52]\ttrain-rmse:243.42547\teval-rmse:686.45295                                    \n",
      "\\RMSE 582.0874004796375                                                          \n",
      "\n",
      "\n",
      "Training with params:                                                            \n",
      "{'colsample_bytree': 0.55, 'eta': 0.225, 'eval_metric': 'rmse', 'gamma': 0.9500000000000001, 'max_depth': 4, 'min_child_weight': 5.0, 'objective': 'reg:squarederror', 'reg_alpha': 136.0, 'reg_lambda': 0.55, 'seed': 314159265, 'subsample': 1.0, 'tree_method': 'hist'}\n",
      "[0]\ttrain-rmse:904.84716\teval-rmse:796.76539                                     \n",
      " 11%|█         | 11/100 [01:11<07:15,  4.90s/trial, best loss: 572.0931754588157]"
     ]
    },
    {
     "name": "stderr",
     "output_type": "stream",
     "text": [
      "/home/acz001/.local/lib/python3.9/site-packages/xgboost/core.py:122: UserWarning: ntree_limit is deprecated, use `iteration_range` or model slicing instead.\n",
      "  warnings.warn(\n",
      "\n"
     ]
    },
    {
     "name": "stdout",
     "output_type": "stream",
     "text": [
      "[64]\ttrain-rmse:592.24241\teval-rmse:586.42369                                    \n",
      "\\RMSE 575.4842504608847                                                          \n",
      "\n",
      "\n",
      "Training with params:                                                            \n",
      "{'colsample_bytree': 0.75, 'eta': 0.225, 'eval_metric': 'rmse', 'gamma': 0.55, 'max_depth': 2, 'min_child_weight': 1.0, 'objective': 'reg:squarederror', 'reg_alpha': 58.0, 'reg_lambda': 0.9500000000000001, 'seed': 314159265, 'subsample': 0.6000000000000001, 'tree_method': 'hist'}\n",
      "[0]\ttrain-rmse:904.20808\teval-rmse:798.42695                                     \n",
      " 12%|█▏        | 12/100 [01:11<05:23,  3.67s/trial, best loss: 572.0931754588157]"
     ]
    },
    {
     "name": "stderr",
     "output_type": "stream",
     "text": [
      "/home/acz001/.local/lib/python3.9/site-packages/xgboost/core.py:122: UserWarning: ntree_limit is deprecated, use `iteration_range` or model slicing instead.\n",
      "  warnings.warn(\n",
      "\n"
     ]
    },
    {
     "name": "stdout",
     "output_type": "stream",
     "text": [
      "[70]\ttrain-rmse:665.98011\teval-rmse:579.48068                                    \n",
      "\\RMSE 574.693001586096                                                           \n",
      "\n",
      "\n",
      "Training with params:                                                            \n",
      "{'colsample_bytree': 0.9, 'eta': 0.30000000000000004, 'eval_metric': 'rmse', 'gamma': 0.7000000000000001, 'max_depth': 10, 'min_child_weight': 3.0, 'objective': 'reg:squarederror', 'reg_alpha': 123.0, 'reg_lambda': 0.2, 'seed': 314159265, 'subsample': 0.9500000000000001, 'tree_method': 'hist'}\n",
      " 13%|█▎        | 13/100 [01:12<04:03,  2.80s/trial, best loss: 572.0931754588157]"
     ]
    },
    {
     "name": "stderr",
     "output_type": "stream",
     "text": [
      "/home/acz001/.local/lib/python3.9/site-packages/xgboost/core.py:122: UserWarning: ntree_limit is deprecated, use `iteration_range` or model slicing instead.\n",
      "  warnings.warn(\n",
      "\n"
     ]
    },
    {
     "name": "stdout",
     "output_type": "stream",
     "text": [
      "[0]\ttrain-rmse:837.71970\teval-rmse:765.36267                                     \n",
      "[53]\ttrain-rmse:82.64581\teval-rmse:646.34802                                     \n",
      "\\RMSE 613.2437451305824                                                          \n",
      "\n",
      "\n",
      "Training with params:                                                            \n",
      "{'colsample_bytree': 0.9500000000000001, 'eta': 0.375, 'eval_metric': 'rmse', 'gamma': 0.8500000000000001, 'max_depth': 7, 'min_child_weight': 5.0, 'objective': 'reg:squarederror', 'reg_alpha': 56.0, 'reg_lambda': 0.9500000000000001, 'seed': 314159265, 'subsample': 0.55, 'tree_method': 'hist'}\n",
      "[0]\ttrain-rmse:829.32219\teval-rmse:733.31357                                     \n",
      " 14%|█▍        | 14/100 [01:27<09:09,  6.39s/trial, best loss: 572.0931754588157]"
     ]
    },
    {
     "name": "stderr",
     "output_type": "stream",
     "text": [
      "/home/acz001/.local/lib/python3.9/site-packages/xgboost/core.py:122: UserWarning: ntree_limit is deprecated, use `iteration_range` or model slicing instead.\n",
      "  warnings.warn(\n",
      "\n"
     ]
    },
    {
     "name": "stdout",
     "output_type": "stream",
     "text": [
      "[53]\ttrain-rmse:314.35708\teval-rmse:671.94194                                    \n",
      "\\RMSE 592.8868463697313                                                          \n",
      "\n",
      "\n",
      "Training with params:                                                            \n",
      "{'colsample_bytree': 0.9, 'eta': 0.225, 'eval_metric': 'rmse', 'gamma': 0.9, 'max_depth': 10, 'min_child_weight': 1.0, 'objective': 'reg:squarederror', 'reg_alpha': 155.0, 'reg_lambda': 0.25, 'seed': 314159265, 'subsample': 0.65, 'tree_method': 'hist'}\n",
      " 15%|█▌        | 15/100 [01:31<07:54,  5.58s/trial, best loss: 572.0931754588157]"
     ]
    },
    {
     "name": "stderr",
     "output_type": "stream",
     "text": [
      "/home/acz001/.local/lib/python3.9/site-packages/xgboost/core.py:122: UserWarning: ntree_limit is deprecated, use `iteration_range` or model slicing instead.\n",
      "  warnings.warn(\n",
      "\n"
     ]
    },
    {
     "name": "stdout",
     "output_type": "stream",
     "text": [
      "[0]\ttrain-rmse:873.77623\teval-rmse:808.94198                                     \n",
      "[61]\ttrain-rmse:108.55083\teval-rmse:677.19991                                    \n",
      "\\RMSE 637.8758418982109                                                          \n",
      "\n",
      "\n",
      "Training with params:                                                            \n",
      "{'colsample_bytree': 0.7000000000000001, 'eta': 0.42500000000000004, 'eval_metric': 'rmse', 'gamma': 0.9500000000000001, 'max_depth': 6, 'min_child_weight': 5.0, 'objective': 'reg:squarederror', 'reg_alpha': 155.0, 'reg_lambda': 0.8, 'seed': 314159265, 'subsample': 1.0, 'tree_method': 'hist'}\n",
      "[0]\ttrain-rmse:811.98884\teval-rmse:708.39969                                     \n",
      " 16%|█▌        | 16/100 [01:45<11:37,  8.31s/trial, best loss: 572.0931754588157]"
     ]
    },
    {
     "name": "stderr",
     "output_type": "stream",
     "text": [
      "/home/acz001/.local/lib/python3.9/site-packages/xgboost/core.py:122: UserWarning: ntree_limit is deprecated, use `iteration_range` or model slicing instead.\n",
      "  warnings.warn(\n",
      "\n"
     ]
    },
    {
     "name": "stdout",
     "output_type": "stream",
     "text": [
      "[53]\ttrain-rmse:368.00629\teval-rmse:625.49279                                    \n",
      "\\RMSE 591.9112184320458                                                          \n",
      "\n",
      "\n",
      "Training with params:                                                            \n",
      "{'colsample_bytree': 0.9, 'eta': 0.275, 'eval_metric': 'rmse', 'gamma': 0.9500000000000001, 'max_depth': 9, 'min_child_weight': 5.0, 'objective': 'reg:squarederror', 'reg_alpha': 173.0, 'reg_lambda': 0.9, 'seed': 314159265, 'subsample': 0.8, 'tree_method': 'hist'}\n",
      " 17%|█▋        | 17/100 [01:47<08:46,  6.34s/trial, best loss: 572.0931754588157]"
     ]
    },
    {
     "name": "stderr",
     "output_type": "stream",
     "text": [
      "/home/acz001/.local/lib/python3.9/site-packages/xgboost/core.py:122: UserWarning: ntree_limit is deprecated, use `iteration_range` or model slicing instead.\n",
      "  warnings.warn(\n",
      "\n"
     ]
    },
    {
     "name": "stdout",
     "output_type": "stream",
     "text": [
      "[0]\ttrain-rmse:867.97822\teval-rmse:768.93264                                     \n",
      "[62]\ttrain-rmse:144.75385\teval-rmse:624.37944                                    \n",
      "\\RMSE 573.4047755804925                                                          \n",
      "\n",
      "\n",
      "Training with params:                                                            \n",
      "{'colsample_bytree': 0.75, 'eta': 0.42500000000000004, 'eval_metric': 'rmse', 'gamma': 0.75, 'max_depth': 1, 'min_child_weight': 4.0, 'objective': 'reg:squarederror', 'reg_alpha': 113.0, 'reg_lambda': 0.65, 'seed': 314159265, 'subsample': 0.9500000000000001, 'tree_method': 'hist'}\n",
      "[0]\ttrain-rmse:823.63146\teval-rmse:705.06680                                     \n",
      " 18%|█▊        | 18/100 [01:57<10:17,  7.53s/trial, best loss: 572.0931754588157]"
     ]
    },
    {
     "name": "stderr",
     "output_type": "stream",
     "text": [
      "/home/acz001/.local/lib/python3.9/site-packages/xgboost/core.py:122: UserWarning: ntree_limit is deprecated, use `iteration_range` or model slicing instead.\n",
      "  warnings.warn(\n",
      "\n"
     ]
    },
    {
     "name": "stdout",
     "output_type": "stream",
     "text": [
      "[82]\ttrain-rmse:697.03173\teval-rmse:574.30792                                    \n",
      "\\RMSE 573.1089135484405                                                          \n",
      "\n",
      "\n",
      "Training with params:                                                            \n",
      "{'colsample_bytree': 0.9, 'eta': 0.2, 'eval_metric': 'rmse', 'gamma': 0.8, 'max_depth': 11, 'min_child_weight': 5.0, 'objective': 'reg:squarederror', 'reg_alpha': 102.0, 'reg_lambda': 1.0, 'seed': 314159265, 'subsample': 0.5, 'tree_method': 'hist'}\n",
      " 19%|█▉        | 19/100 [01:58<07:16,  5.39s/trial, best loss: 572.0931754588157]"
     ]
    },
    {
     "name": "stderr",
     "output_type": "stream",
     "text": [
      "/home/acz001/.local/lib/python3.9/site-packages/xgboost/core.py:122: UserWarning: ntree_limit is deprecated, use `iteration_range` or model slicing instead.\n",
      "  warnings.warn(\n",
      "\n"
     ]
    },
    {
     "name": "stdout",
     "output_type": "stream",
     "text": [
      "[0]\ttrain-rmse:907.70138\teval-rmse:817.13814                                     \n",
      "[62]\ttrain-rmse:250.54683\teval-rmse:635.01711                                    \n",
      "\\RMSE 588.8996582424066                                                          \n",
      "\n",
      "\n",
      "Training with params:                                                            \n",
      "{'colsample_bytree': 0.8, 'eta': 0.07500000000000001, 'eval_metric': 'rmse', 'gamma': 0.75, 'max_depth': 13, 'min_child_weight': 6.0, 'objective': 'reg:squarederror', 'reg_alpha': 69.0, 'reg_lambda': 0.45, 'seed': 314159265, 'subsample': 0.7000000000000001, 'tree_method': 'hist'}\n",
      " 20%|██        | 20/100 [02:14<11:44,  8.80s/trial, best loss: 572.0931754588157]"
     ]
    },
    {
     "name": "stderr",
     "output_type": "stream",
     "text": [
      "/home/acz001/.local/lib/python3.9/site-packages/xgboost/core.py:122: UserWarning: ntree_limit is deprecated, use `iteration_range` or model slicing instead.\n",
      "  warnings.warn(\n",
      "\n"
     ]
    },
    {
     "name": "stdout",
     "output_type": "stream",
     "text": [
      "[0]\ttrain-rmse:971.90830\teval-rmse:874.97061                                     \n",
      "[85]\ttrain-rmse:306.58294\teval-rmse:582.10937                                    \n",
      "\\RMSE 567.5032348528035                                                          \n",
      "\n",
      "\n",
      "Training with params:                                                            \n",
      "{'colsample_bytree': 0.8, 'eta': 0.05, 'eval_metric': 'rmse', 'gamma': 0.8500000000000001, 'max_depth': 13, 'min_child_weight': 6.0, 'objective': 'reg:squarederror', 'reg_alpha': 42.0, 'reg_lambda': 0.05, 'seed': 314159265, 'subsample': 0.9, 'tree_method': 'hist'}\n",
      " 21%|██        | 21/100 [02:46<20:24, 15.49s/trial, best loss: 567.5032348528035]"
     ]
    },
    {
     "name": "stderr",
     "output_type": "stream",
     "text": [
      "/home/acz001/.local/lib/python3.9/site-packages/xgboost/core.py:122: UserWarning: ntree_limit is deprecated, use `iteration_range` or model slicing instead.\n",
      "  warnings.warn(\n",
      "\n"
     ]
    },
    {
     "name": "stdout",
     "output_type": "stream",
     "text": [
      "[0]\ttrain-rmse:985.19957\teval-rmse:891.27824                                     \n",
      "[100]\ttrain-rmse:284.19859\teval-rmse:578.28998                                   \n",
      "[104]\ttrain-rmse:276.81303\teval-rmse:579.37298                                   \n",
      "\\RMSE 564.2782601205637                                                          \n",
      "\n",
      "\n",
      "Training with params:                                                            \n",
      "{'colsample_bytree': 0.8500000000000001, 'eta': 0.05, 'eval_metric': 'rmse', 'gamma': 1.0, 'max_depth': 13, 'min_child_weight': 6.0, 'objective': 'reg:squarederror', 'reg_alpha': 43.0, 'reg_lambda': 0.0, 'seed': 314159265, 'subsample': 0.7000000000000001, 'tree_method': 'hist'}\n",
      " 22%|██▏       | 22/100 [03:31<31:54, 24.54s/trial, best loss: 564.2782601205637]"
     ]
    },
    {
     "name": "stderr",
     "output_type": "stream",
     "text": [
      "/home/acz001/.local/lib/python3.9/site-packages/xgboost/core.py:122: UserWarning: ntree_limit is deprecated, use `iteration_range` or model slicing instead.\n",
      "  warnings.warn(\n",
      "\n"
     ]
    },
    {
     "name": "stdout",
     "output_type": "stream",
     "text": [
      "[0]\ttrain-rmse:985.42905\teval-rmse:888.81225                                     \n",
      "[100]\ttrain-rmse:330.73863\teval-rmse:577.11212                                   \n",
      "[102]\ttrain-rmse:326.87371\teval-rmse:577.02190                                   \n",
      "\\RMSE 569.4707866315189                                                          \n",
      "\n",
      "\n",
      "Training with params:                                                            \n",
      "{'colsample_bytree': 0.8, 'eta': 0.025, 'eval_metric': 'rmse', 'gamma': 0.7000000000000001, 'max_depth': 13, 'min_child_weight': 6.0, 'objective': 'reg:squarederror', 'reg_alpha': 45.0, 'reg_lambda': 0.0, 'seed': 314159265, 'subsample': 0.9, 'tree_method': 'hist'}\n",
      " 23%|██▎       | 23/100 [04:17<39:51, 31.06s/trial, best loss: 564.2782601205637]"
     ]
    },
    {
     "name": "stderr",
     "output_type": "stream",
     "text": [
      "/home/acz001/.local/lib/python3.9/site-packages/xgboost/core.py:122: UserWarning: ntree_limit is deprecated, use `iteration_range` or model slicing instead.\n",
      "  warnings.warn(\n",
      "\n"
     ]
    },
    {
     "name": "stdout",
     "output_type": "stream",
     "text": [
      "[0]\ttrain-rmse:1000.57580\teval-rmse:904.87888                                    \n",
      "[100]\ttrain-rmse:428.06014\teval-rmse:569.51645                                   \n",
      "[200]\ttrain-rmse:288.78062\teval-rmse:567.45955                                   \n",
      "[242]\ttrain-rmse:249.04199\teval-rmse:567.84914                                   \n",
      "\\RMSE 566.7946484515608                                                          \n",
      "\n",
      "\n",
      "Training with params:                                                              \n",
      "{'colsample_bytree': 0.8500000000000001, 'eta': 0.125, 'eval_metric': 'rmse', 'gamma': 0.7000000000000001, 'max_depth': 13, 'min_child_weight': 6.0, 'objective': 'reg:squarederror', 'reg_alpha': 40.0, 'reg_lambda': 0.05, 'seed': 314159265, 'subsample': 0.9, 'tree_method': 'hist'}\n",
      " 24%|██▍       | 24/100 [06:01<1:06:53, 52.81s/trial, best loss: 564.2782601205637]"
     ]
    },
    {
     "name": "stderr",
     "output_type": "stream",
     "text": [
      "/home/acz001/.local/lib/python3.9/site-packages/xgboost/core.py:122: UserWarning: ntree_limit is deprecated, use `iteration_range` or model slicing instead.\n",
      "  warnings.warn(\n",
      "\n"
     ]
    },
    {
     "name": "stdout",
     "output_type": "stream",
     "text": [
      "[0]\ttrain-rmse:939.18647\teval-rmse:849.78443                                       \n",
      "[79]\ttrain-rmse:145.79297\teval-rmse:601.54143                                      \n",
      "\\RMSE 585.4425892203725                                                            \n",
      "\n",
      "\n",
      "Training with params:                                                              \n",
      "{'colsample_bytree': 0.8, 'eta': 0.025, 'eval_metric': 'rmse', 'gamma': 0.6000000000000001, 'max_depth': 8, 'min_child_weight': 6.0, 'objective': 'reg:squarederror', 'reg_alpha': 50.0, 'reg_lambda': 0.1, 'seed': 314159265, 'subsample': 0.9, 'tree_method': 'hist'}\n",
      " 25%|██▌       | 25/100 [06:36<59:18, 47.45s/trial, best loss: 564.2782601205637]"
     ]
    },
    {
     "name": "stderr",
     "output_type": "stream",
     "text": [
      "/home/acz001/.local/lib/python3.9/site-packages/xgboost/core.py:122: UserWarning: ntree_limit is deprecated, use `iteration_range` or model slicing instead.\n",
      "  warnings.warn(\n",
      "\n"
     ]
    },
    {
     "name": "stdout",
     "output_type": "stream",
     "text": [
      "[0]\ttrain-rmse:1001.67997\teval-rmse:904.72783                                    \n",
      "[100]\ttrain-rmse:529.81119\teval-rmse:562.67870                                   \n",
      "[200]\ttrain-rmse:422.55397\teval-rmse:560.85726                                   \n",
      "[224]\ttrain-rmse:402.53506\teval-rmse:560.26631                                   \n",
      "\\RMSE 559.2754636485857                                                          \n",
      "\n",
      "\n",
      "Training with params:                                                            \n",
      "{'colsample_bytree': 0.8, 'eta': 0.125, 'eval_metric': 'rmse', 'gamma': 0.55, 'max_depth': 8, 'min_child_weight': 6.0, 'objective': 'reg:squarederror', 'reg_alpha': 67.0, 'reg_lambda': 0.1, 'seed': 314159265, 'subsample': 0.9, 'tree_method': 'hist'}\n",
      " 26%|██▌       | 26/100 [06:56<48:19, 39.19s/trial, best loss: 559.2754636485857]"
     ]
    },
    {
     "name": "stderr",
     "output_type": "stream",
     "text": [
      "/home/acz001/.local/lib/python3.9/site-packages/xgboost/core.py:122: UserWarning: ntree_limit is deprecated, use `iteration_range` or model slicing instead.\n",
      "  warnings.warn(\n",
      "\n"
     ]
    },
    {
     "name": "stdout",
     "output_type": "stream",
     "text": [
      "[0]\ttrain-rmse:945.16731\teval-rmse:850.14611                                     \n",
      "[67]\ttrain-rmse:337.27413\teval-rmse:586.27314                                    \n",
      "\\RMSE 581.7381189000331                                                          \n",
      "\n",
      "\n",
      "Training with params:                                                            \n",
      "{'colsample_bytree': 0.7000000000000001, 'eta': 0.025, 'eval_metric': 'rmse', 'gamma': 0.5, 'max_depth': 8, 'min_child_weight': 2.0, 'objective': 'reg:squarederror', 'reg_alpha': 53.0, 'reg_lambda': 0.1, 'seed': 314159265, 'subsample': 0.8500000000000001, 'tree_method': 'hist'}\n",
      " 27%|██▋       | 27/100 [07:01<35:24, 29.10s/trial, best loss: 559.2754636485857]"
     ]
    },
    {
     "name": "stderr",
     "output_type": "stream",
     "text": [
      "/home/acz001/.local/lib/python3.9/site-packages/xgboost/core.py:122: UserWarning: ntree_limit is deprecated, use `iteration_range` or model slicing instead.\n",
      "  warnings.warn(\n",
      "\n"
     ]
    },
    {
     "name": "stdout",
     "output_type": "stream",
     "text": [
      "[0]\ttrain-rmse:1000.22597\teval-rmse:904.84065                                    \n",
      "[100]\ttrain-rmse:482.62517\teval-rmse:570.32269                                   \n",
      "[156]\ttrain-rmse:417.49582\teval-rmse:572.69670                                   \n",
      "\\RMSE 569.6546532416578                                                          \n",
      "\n",
      "\n",
      "Training with params:                                                            \n",
      "{'colsample_bytree': 0.8500000000000001, 'eta': 0.15000000000000002, 'eval_metric': 'rmse', 'gamma': 0.6000000000000001, 'max_depth': 8, 'min_child_weight': 3.0, 'objective': 'reg:squarederror', 'reg_alpha': 79.0, 'reg_lambda': 0.35000000000000003, 'seed': 314159265, 'subsample': 0.8500000000000001, 'tree_method': 'hist'}\n",
      " 28%|██▊       | 28/100 [07:14<28:49, 24.02s/trial, best loss: 559.2754636485857]"
     ]
    },
    {
     "name": "stderr",
     "output_type": "stream",
     "text": [
      "/home/acz001/.local/lib/python3.9/site-packages/xgboost/core.py:122: UserWarning: ntree_limit is deprecated, use `iteration_range` or model slicing instead.\n",
      "  warnings.warn(\n",
      "\n"
     ]
    },
    {
     "name": "stdout",
     "output_type": "stream",
     "text": [
      "[0]\ttrain-rmse:927.88115\teval-rmse:829.96030                                     \n",
      "[65]\ttrain-rmse:244.01673\teval-rmse:595.05810                                    \n",
      "\\RMSE 576.6342736579926                                                          \n",
      "\n",
      "\n",
      "Training with params:                                                            \n",
      "{'colsample_bytree': 1.0, 'eta': 0.07500000000000001, 'eval_metric': 'rmse', 'gamma': 0.9, 'max_depth': 3, 'min_child_weight': 4.0, 'objective': 'reg:squarederror', 'reg_alpha': 71.0, 'reg_lambda': 0.05, 'seed': 314159265, 'subsample': 0.8500000000000001, 'tree_method': 'hist'}\n",
      "[0]\ttrain-rmse:976.98727\teval-rmse:876.92975                                     \n",
      " 29%|██▉       | 29/100 [07:20<22:18, 18.86s/trial, best loss: 559.2754636485857]"
     ]
    },
    {
     "name": "stderr",
     "output_type": "stream",
     "text": [
      "/home/acz001/.local/lib/python3.9/site-packages/xgboost/core.py:122: UserWarning: ntree_limit is deprecated, use `iteration_range` or model slicing instead.\n",
      "  warnings.warn(\n",
      "\n"
     ]
    },
    {
     "name": "stdout",
     "output_type": "stream",
     "text": [
      "[89]\ttrain-rmse:663.93517\teval-rmse:580.35930                                    \n",
      "\\RMSE 574.3853743651019                                                          \n",
      "\n",
      "\n",
      "Training with params:                                                            \n",
      "{'colsample_bytree': 0.7000000000000001, 'eta': 0.05, 'eval_metric': 'rmse', 'gamma': 0.8, 'max_depth': 5, 'min_child_weight': 2.0, 'objective': 'reg:squarederror', 'reg_alpha': 50.0, 'reg_lambda': 0.35000000000000003, 'seed': 314159265, 'subsample': 1.0, 'tree_method': 'hist'}\n",
      "[0]\ttrain-rmse:989.64061\teval-rmse:890.65689                                     \n",
      " 30%|███       | 30/100 [07:22<15:53, 13.62s/trial, best loss: 559.2754636485857]"
     ]
    },
    {
     "name": "stderr",
     "output_type": "stream",
     "text": [
      "/home/acz001/.local/lib/python3.9/site-packages/xgboost/core.py:122: UserWarning: ntree_limit is deprecated, use `iteration_range` or model slicing instead.\n",
      "  warnings.warn(\n",
      "\n"
     ]
    },
    {
     "name": "stdout",
     "output_type": "stream",
     "text": [
      "[100]\ttrain-rmse:595.97052\teval-rmse:573.85424                                   \n",
      "[157]\ttrain-rmse:559.51147\teval-rmse:576.47892                                   \n",
      "\\RMSE 572.698408626817                                                           \n",
      "\n",
      "\n",
      "Training with params:                                                            \n",
      "{'colsample_bytree': 0.9500000000000001, 'eta': 0.17500000000000002, 'eval_metric': 'rmse', 'gamma': 0.55, 'max_depth': 4, 'min_child_weight': 6.0, 'objective': 'reg:squarederror', 'reg_alpha': 60.0, 'reg_lambda': 0.2, 'seed': 314159265, 'subsample': 0.75, 'tree_method': 'hist'}\n",
      "[0]\ttrain-rmse:926.88401\teval-rmse:823.62450                                     \n",
      " 31%|███       | 31/100 [07:26<12:20, 10.73s/trial, best loss: 559.2754636485857]"
     ]
    },
    {
     "name": "stderr",
     "output_type": "stream",
     "text": [
      "/home/acz001/.local/lib/python3.9/site-packages/xgboost/core.py:122: UserWarning: ntree_limit is deprecated, use `iteration_range` or model slicing instead.\n",
      "  warnings.warn(\n",
      "\n"
     ]
    },
    {
     "name": "stdout",
     "output_type": "stream",
     "text": [
      "[67]\ttrain-rmse:593.60999\teval-rmse:600.59640                                    \n",
      "\\RMSE 584.0879530341552                                                          \n",
      "\n",
      "\n",
      "Training with params:                                                            \n",
      "{'colsample_bytree': 0.8, 'eta': 0.1, 'eval_metric': 'rmse', 'gamma': 0.6000000000000001, 'max_depth': 8, 'min_child_weight': 6.0, 'objective': 'reg:squarederror', 'reg_alpha': 92.0, 'reg_lambda': 0.15000000000000002, 'seed': 314159265, 'subsample': 0.9500000000000001, 'tree_method': 'hist'}\n",
      " 32%|███▏      | 32/100 [07:27<09:00,  7.96s/trial, best loss: 559.2754636485857]"
     ]
    },
    {
     "name": "stderr",
     "output_type": "stream",
     "text": [
      "/home/acz001/.local/lib/python3.9/site-packages/xgboost/core.py:122: UserWarning: ntree_limit is deprecated, use `iteration_range` or model slicing instead.\n",
      "  warnings.warn(\n",
      "\n"
     ]
    },
    {
     "name": "stdout",
     "output_type": "stream",
     "text": [
      "[0]\ttrain-rmse:958.10685\teval-rmse:859.72670                                     \n",
      "[81]\ttrain-rmse:347.76217\teval-rmse:586.56759                                    \n",
      "\\RMSE 570.4105077331066                                                          \n",
      "\n",
      "\n",
      "Training with params:                                                            \n",
      "{'colsample_bytree': 0.65, 'eta': 0.025, 'eval_metric': 'rmse', 'gamma': 0.65, 'max_depth': 5, 'min_child_weight': 4.0, 'objective': 'reg:squarederror', 'reg_alpha': 75.0, 'reg_lambda': 0.25, 'seed': 314159265, 'subsample': 0.9, 'tree_method': 'hist'}\n",
      "[0]\ttrain-rmse:1002.79665\teval-rmse:904.57385                                    \n",
      " 33%|███▎      | 33/100 [07:34<08:33,  7.66s/trial, best loss: 559.2754636485857]"
     ]
    },
    {
     "name": "stderr",
     "output_type": "stream",
     "text": [
      "/home/acz001/.local/lib/python3.9/site-packages/xgboost/core.py:122: UserWarning: ntree_limit is deprecated, use `iteration_range` or model slicing instead.\n",
      "  warnings.warn(\n",
      "\n"
     ]
    },
    {
     "name": "stdout",
     "output_type": "stream",
     "text": [
      "[100]\ttrain-rmse:643.37029\teval-rmse:572.50675                                   \n",
      "[196]\ttrain-rmse:597.74834\teval-rmse:570.96615                                   \n",
      "\\RMSE 570.365994714708                                                           \n",
      "\n",
      "\n",
      "Training with params:                                                            \n",
      "{'colsample_bytree': 0.8500000000000001, 'eta': 0.15000000000000002, 'eval_metric': 'rmse', 'gamma': 0.8, 'max_depth': 11, 'min_child_weight': 3.0, 'objective': 'reg:squarederror', 'reg_alpha': 63.0, 'reg_lambda': 0.6000000000000001, 'seed': 314159265, 'subsample': 0.75, 'tree_method': 'hist'}\n",
      " 34%|███▍      | 34/100 [07:39<07:23,  6.72s/trial, best loss: 559.2754636485857]"
     ]
    },
    {
     "name": "stderr",
     "output_type": "stream",
     "text": [
      "/home/acz001/.local/lib/python3.9/site-packages/xgboost/core.py:122: UserWarning: ntree_limit is deprecated, use `iteration_range` or model slicing instead.\n",
      "  warnings.warn(\n",
      "\n"
     ]
    },
    {
     "name": "stdout",
     "output_type": "stream",
     "text": [
      "[0]\ttrain-rmse:925.33460\teval-rmse:833.19272                                     \n",
      "[62]\ttrain-rmse:132.93707\teval-rmse:608.55412                                    \n",
      "\\RMSE 586.8956943164046                                                          \n",
      "\n",
      "\n",
      "Training with params:                                                            \n",
      "{'colsample_bytree': 0.9500000000000001, 'eta': 0.07500000000000001, 'eval_metric': 'rmse', 'gamma': 1.0, 'max_depth': 6, 'min_child_weight': 6.0, 'objective': 'reg:squarederror', 'reg_alpha': 89.0, 'reg_lambda': 0.45, 'seed': 314159265, 'subsample': 0.8500000000000001, 'tree_method': 'hist'}\n",
      "[0]\ttrain-rmse:975.85704\teval-rmse:876.55122                                     \n",
      " 35%|███▌      | 35/100 [08:03<12:51, 11.88s/trial, best loss: 559.2754636485857]"
     ]
    },
    {
     "name": "stderr",
     "output_type": "stream",
     "text": [
      "/home/acz001/.local/lib/python3.9/site-packages/xgboost/core.py:122: UserWarning: ntree_limit is deprecated, use `iteration_range` or model slicing instead.\n",
      "  warnings.warn(\n",
      "\n"
     ]
    },
    {
     "name": "stdout",
     "output_type": "stream",
     "text": [
      "[80]\ttrain-rmse:507.80132\teval-rmse:588.13778                                    \n",
      "\\RMSE 580.6400960813613                                                          \n",
      "\n",
      "\n",
      "Training with params:                                                            \n",
      "{'colsample_bytree': 0.7000000000000001, 'eta': 0.1, 'eval_metric': 'rmse', 'gamma': 0.8500000000000001, 'max_depth': 3, 'min_child_weight': 5.0, 'objective': 'reg:squarederror', 'reg_alpha': 41.0, 'reg_lambda': 0.1, 'seed': 314159265, 'subsample': 0.9500000000000001, 'tree_method': 'hist'}\n",
      "[0]\ttrain-rmse:964.85460\teval-rmse:862.83700                                     \n",
      " 36%|███▌      | 36/100 [08:06<10:03,  9.43s/trial, best loss: 559.2754636485857]"
     ]
    },
    {
     "name": "stderr",
     "output_type": "stream",
     "text": [
      "/home/acz001/.local/lib/python3.9/site-packages/xgboost/core.py:122: UserWarning: ntree_limit is deprecated, use `iteration_range` or model slicing instead.\n",
      "  warnings.warn(\n",
      "\n"
     ]
    },
    {
     "name": "stdout",
     "output_type": "stream",
     "text": [
      "[79]\ttrain-rmse:667.06982\teval-rmse:576.54192                                    \n",
      "\\RMSE 574.2965279157859                                                          \n",
      "\n",
      "\n",
      "Training with params:                                                            \n",
      "{'colsample_bytree': 0.6000000000000001, 'eta': 0.05, 'eval_metric': 'rmse', 'gamma': 0.65, 'max_depth': 9, 'min_child_weight': 6.0, 'objective': 'reg:squarederror', 'reg_alpha': 105.0, 'reg_lambda': 0.4, 'seed': 314159265, 'subsample': 1.0, 'tree_method': 'hist'}\n",
      " 37%|███▋      | 37/100 [08:08<07:16,  6.92s/trial, best loss: 559.2754636485857]"
     ]
    },
    {
     "name": "stderr",
     "output_type": "stream",
     "text": [
      "/home/acz001/.local/lib/python3.9/site-packages/xgboost/core.py:122: UserWarning: ntree_limit is deprecated, use `iteration_range` or model slicing instead.\n",
      "  warnings.warn(\n",
      "\n"
     ]
    },
    {
     "name": "stdout",
     "output_type": "stream",
     "text": [
      "[0]\ttrain-rmse:988.22784\teval-rmse:890.70098                                     \n",
      "[100]\ttrain-rmse:417.61376\teval-rmse:562.80567                                   \n",
      "[145]\ttrain-rmse:351.09192\teval-rmse:565.37652                                   \n",
      "\\RMSE 562.1576748326638                                                          \n",
      "\n",
      "\n",
      "Training with params:                                                            \n",
      "{'colsample_bytree': 0.6000000000000001, 'eta': 0.17500000000000002, 'eval_metric': 'rmse', 'gamma': 0.6000000000000001, 'max_depth': 9, 'min_child_weight': 2.0, 'objective': 'reg:squarederror', 'reg_alpha': 115.0, 'reg_lambda': 0.4, 'seed': 314159265, 'subsample': 1.0, 'tree_method': 'hist'}\n",
      " 38%|███▊      | 38/100 [08:24<10:05,  9.76s/trial, best loss: 559.2754636485857]"
     ]
    },
    {
     "name": "stderr",
     "output_type": "stream",
     "text": [
      "/home/acz001/.local/lib/python3.9/site-packages/xgboost/core.py:122: UserWarning: ntree_limit is deprecated, use `iteration_range` or model slicing instead.\n",
      "  warnings.warn(\n",
      "\n"
     ]
    },
    {
     "name": "stdout",
     "output_type": "stream",
     "text": [
      "[0]\ttrain-rmse:912.32677\teval-rmse:816.12541                                     \n",
      "[72]\ttrain-rmse:178.77867\teval-rmse:594.92598                                    \n",
      "\\RMSE 574.2620327086063                                                          \n",
      "\n",
      "\n",
      "Training with params:                                                            \n",
      "{'colsample_bytree': 0.5, 'eta': 0.275, 'eval_metric': 'rmse', 'gamma': 0.5, 'max_depth': 9, 'min_child_weight': 5.0, 'objective': 'reg:squarederror', 'reg_alpha': 106.0, 'reg_lambda': 0.75, 'seed': 314159265, 'subsample': 0.9500000000000001, 'tree_method': 'hist'}\n",
      " 39%|███▉      | 39/100 [08:32<09:21,  9.21s/trial, best loss: 559.2754636485857]"
     ]
    },
    {
     "name": "stderr",
     "output_type": "stream",
     "text": [
      "/home/acz001/.local/lib/python3.9/site-packages/xgboost/core.py:122: UserWarning: ntree_limit is deprecated, use `iteration_range` or model slicing instead.\n",
      "  warnings.warn(\n",
      "\n"
     ]
    },
    {
     "name": "stdout",
     "output_type": "stream",
     "text": [
      "[0]\ttrain-rmse:871.43610\teval-rmse:777.68629                                     \n",
      "[62]\ttrain-rmse:235.76785\teval-rmse:614.59711                                    \n",
      "\\RMSE 595.6170865012257                                                          \n",
      "\n",
      "\n",
      "Training with params:                                                            \n",
      "{'colsample_bytree': 0.6000000000000001, 'eta': 0.125, 'eval_metric': 'rmse', 'gamma': 0.65, 'max_depth': 9, 'min_child_weight': 4.0, 'objective': 'reg:squarederror', 'reg_alpha': 121.0, 'reg_lambda': 0.5, 'seed': 314159265, 'subsample': 1.0, 'tree_method': 'hist'}\n",
      " 40%|████      | 40/100 [08:38<08:19,  8.33s/trial, best loss: 559.2754636485857]"
     ]
    },
    {
     "name": "stderr",
     "output_type": "stream",
     "text": [
      "/home/acz001/.local/lib/python3.9/site-packages/xgboost/core.py:122: UserWarning: ntree_limit is deprecated, use `iteration_range` or model slicing instead.\n",
      "  warnings.warn(\n",
      "\n"
     ]
    },
    {
     "name": "stdout",
     "output_type": "stream",
     "text": [
      "[0]\ttrain-rmse:945.98383\teval-rmse:850.04445                                     \n",
      "[71]\ttrain-rmse:272.07524\teval-rmse:583.08365                                    \n",
      "\\RMSE 575.3024459964574                                                          \n",
      "\n",
      "\n",
      "Training with params:                                                            \n",
      "{'colsample_bytree': 0.55, 'eta': 0.25, 'eval_metric': 'rmse', 'gamma': 0.55, 'max_depth': 12, 'min_child_weight': 6.0, 'objective': 'reg:squarederror', 'reg_alpha': 143.0, 'reg_lambda': 0.6000000000000001, 'seed': 314159265, 'subsample': 0.8500000000000001, 'tree_method': 'hist'}\n",
      " 41%|████      | 41/100 [08:46<08:06,  8.25s/trial, best loss: 559.2754636485857]"
     ]
    },
    {
     "name": "stderr",
     "output_type": "stream",
     "text": [
      "/home/acz001/.local/lib/python3.9/site-packages/xgboost/core.py:122: UserWarning: ntree_limit is deprecated, use `iteration_range` or model slicing instead.\n",
      "  warnings.warn(\n",
      "\n"
     ]
    },
    {
     "name": "stdout",
     "output_type": "stream",
     "text": [
      "[0]\ttrain-rmse:884.01707\teval-rmse:780.67612                                     \n",
      "[55]\ttrain-rmse:164.87739\teval-rmse:641.81789                                    \n",
      "\\RMSE 599.541189539703                                                           \n",
      "\n",
      "\n",
      "Training with params:                                                            \n",
      "{'colsample_bytree': 0.65, 'eta': 0.5, 'eval_metric': 'rmse', 'gamma': 0.65, 'max_depth': 2, 'min_child_weight': 5.0, 'objective': 'reg:squarederror', 'reg_alpha': 164.0, 'reg_lambda': 0.4, 'seed': 314159265, 'subsample': 1.0, 'tree_method': 'hist'}\n",
      "[0]\ttrain-rmse:796.56364\teval-rmse:675.18479                                     \n",
      " 42%|████▏     | 42/100 [09:01<10:00, 10.36s/trial, best loss: 559.2754636485857]"
     ]
    },
    {
     "name": "stderr",
     "output_type": "stream",
     "text": [
      "/home/acz001/.local/lib/python3.9/site-packages/xgboost/core.py:122: UserWarning: ntree_limit is deprecated, use `iteration_range` or model slicing instead.\n",
      "  warnings.warn(\n",
      "\n"
     ]
    },
    {
     "name": "stdout",
     "output_type": "stream",
     "text": [
      "[56]\ttrain-rmse:672.49047\teval-rmse:579.21788                                    \n",
      "\\RMSE 575.6648041901664                                                          \n",
      "\n",
      "\n",
      "Training with params:                                                            \n",
      "{'colsample_bytree': 0.75, 'eta': 0.325, 'eval_metric': 'rmse', 'gamma': 0.5, 'max_depth': 8, 'min_child_weight': 3.0, 'objective': 'reg:squarederror', 'reg_alpha': 130.0, 'reg_lambda': 0.30000000000000004, 'seed': 314159265, 'subsample': 0.65, 'tree_method': 'hist'}\n",
      " 43%|████▎     | 43/100 [09:02<07:03,  7.42s/trial, best loss: 559.2754636485857]"
     ]
    },
    {
     "name": "stderr",
     "output_type": "stream",
     "text": [
      "/home/acz001/.local/lib/python3.9/site-packages/xgboost/core.py:122: UserWarning: ntree_limit is deprecated, use `iteration_range` or model slicing instead.\n",
      "  warnings.warn(\n",
      "\n"
     ]
    },
    {
     "name": "stdout",
     "output_type": "stream",
     "text": [
      "[0]\ttrain-rmse:835.71609\teval-rmse:757.32102                                     \n",
      "[53]\ttrain-rmse:218.73453\teval-rmse:664.27170                                    \n",
      "\\RMSE 597.3574849841507                                                          \n",
      "\n",
      "\n",
      "Training with params:                                                            \n",
      "{'colsample_bytree': 0.6000000000000001, 'eta': 0.2, 'eval_metric': 'rmse', 'gamma': 0.65, 'max_depth': 9, 'min_child_weight': 5.0, 'objective': 'reg:squarederror', 'reg_alpha': 131.0, 'reg_lambda': 0.25, 'seed': 314159265, 'subsample': 0.9, 'tree_method': 'hist'}\n",
      " 44%|████▍     | 44/100 [09:08<06:26,  6.89s/trial, best loss: 559.2754636485857]"
     ]
    },
    {
     "name": "stderr",
     "output_type": "stream",
     "text": [
      "/home/acz001/.local/lib/python3.9/site-packages/xgboost/core.py:122: UserWarning: ntree_limit is deprecated, use `iteration_range` or model slicing instead.\n",
      "  warnings.warn(\n",
      "\n"
     ]
    },
    {
     "name": "stdout",
     "output_type": "stream",
     "text": [
      "[0]\ttrain-rmse:906.81915\teval-rmse:806.21895                                     \n",
      "[61]\ttrain-rmse:243.12432\teval-rmse:613.21212                                    \n",
      "\\RMSE 585.3209971733853                                                          \n",
      "\n",
      "\n",
      "Training with params:                                                            \n",
      "{'colsample_bytree': 0.5, 'eta': 0.1, 'eval_metric': 'rmse', 'gamma': 0.6000000000000001, 'max_depth': 1, 'min_child_weight': 4.0, 'objective': 'reg:squarederror', 'reg_alpha': 148.0, 'reg_lambda': 0.7000000000000001, 'seed': 314159265, 'subsample': 0.75, 'tree_method': 'hist'}\n",
      "[0]\ttrain-rmse:965.41134\teval-rmse:863.34092                                     \n",
      " 45%|████▌     | 45/100 [09:15<06:23,  6.98s/trial, best loss: 559.2754636485857]"
     ]
    },
    {
     "name": "stderr",
     "output_type": "stream",
     "text": [
      "/home/acz001/.local/lib/python3.9/site-packages/xgboost/core.py:122: UserWarning: ntree_limit is deprecated, use `iteration_range` or model slicing instead.\n",
      "  warnings.warn(\n",
      "\n"
     ]
    },
    {
     "name": "stdout",
     "output_type": "stream",
     "text": [
      "[98]\ttrain-rmse:700.06555\teval-rmse:573.21680                                    \n",
      "\\RMSE 572.3488045194835                                                          \n",
      "\n",
      "\n",
      " 46%|████▌     | 46/100 [09:15<04:31,  5.03s/trial, best loss: 559.2754636485857]"
     ]
    }
   ],
   "source": [
    "# import packages for hyperparameters tuning\n",
    "from hyperopt import STATUS_OK, Trials, fmin, hp, tpe\n",
    "from sklearn.metrics import mean_squared_error\n",
    "\n",
    "xgb.set_config(verbosity=0)\n",
    "\n",
    "# We use a subset of the data so we can tune hyperparameters faster.\n",
    "N_HP_DATA = 1000\n",
    "dtrainHP_reg = xgb.DMatrix(X_train.head(9 * N_HP_DATA), y_train.head(9 * N_HP_DATA), enable_categorical=True)\n",
    "dtestHP_reg = xgb.DMatrix(X_test.head(N_HP_DATA), y_test.head(N_HP_DATA), enable_categorical=True)\n",
    "\n",
    "def score(params):\n",
    "    print(\"Training with params: \")\n",
    "    print(params)\n",
    "    watchlist = [(dtrainHP_reg, 'train'), (dtestHP_reg, 'eval')]\n",
    "    model = xgb.train(params, dtrainHP_reg, num_boost_round=1000,\n",
    "                          evals=watchlist, early_stopping_rounds=EARLY_STOP,\n",
    "                          verbose_eval=100)\n",
    "    predictions = model.predict(dtestHP_reg, ntree_limit=model.best_iteration + 1)\n",
    "    rmse = mean_squared_error(y_test.head(N_HP_DATA), predictions, squared=False)\n",
    "    print(\"\\RMSE {0}\\n\\n\".format(rmse))\n",
    "    return {'loss': rmse, 'status': STATUS_OK}\n",
    "\n",
    "def optimize_hyperparams(random_state=314159265):\n",
    "    \"\"\"\n",
    "    This is the optimization function that given a space (space here) of \n",
    "    hyperparameters and a scoring function (score here), finds the best hyperparameters.\n",
    "    \"\"\"\n",
    "    # To learn more about XGBoost parameters, head to this page: \n",
    "    # https://github.com/dmlc/xgboost/blob/master/doc/parameter.md\n",
    "    space = {\n",
    "        'eta': hp.quniform('eta', 0.025, 0.5, 0.025),\n",
    "        # A problem with max_depth casted to float instead of int with\n",
    "        # the hp.quniform method.\n",
    "        'max_depth':  hp.choice('max_depth', np.arange(1, 14, dtype=int)),\n",
    "        'min_child_weight': hp.quniform('min_child_weight', 1, 6, 1),\n",
    "        'subsample': hp.quniform('subsample', 0.5, 1, 0.05),\n",
    "        'gamma': hp.quniform('gamma', 0.5, 1, 0.05),\n",
    "        'reg_alpha': hp.quniform('reg_alpha', 40, 180, 1),\n",
    "        'reg_lambda': hp.quniform('reg_lambda', 0, 1, 0.05),\n",
    "        'colsample_bytree': hp.quniform('colsample_bytree', 0.5, 1, 0.05),\n",
    "        'eval_metric': 'rmse',\n",
    "        'objective': \"reg:squarederror\",\n",
    "        'tree_method': 'hist',\n",
    "        'seed': random_state\n",
    "    }\n",
    "    # Use the fmin function from Hyperopt to find the best hyperparameters\n",
    "    best = fmin(score, space, algo=tpe.suggest, \n",
    "                max_evals=50)\n",
    "    return best\n",
    "\n",
    "optimize_hyperparams()"
   ]
  },
  {
   "cell_type": "code",
   "execution_count": null,
   "id": "f09c70cc",
   "metadata": {
    "scrolled": true
   },
   "outputs": [],
   "source": [
    "# Hyperparameter evaluation with k-fold cross validation\n",
    "results = xgb.cv(\n",
    "   params, dtest_reg,\n",
    "   num_boost_round=n,\n",
    "   nfold=5,\n",
    "   early_stopping_rounds=EARLY_STOP,\n",
    ")\n",
    "\n",
    "print(results['test-rmse-mean'].mean())\n",
    "print(results.head())"
   ]
  },
  {
   "cell_type": "markdown",
   "id": "190667cf",
   "metadata": {},
   "source": [
    "# Final model evaluation"
   ]
  },
  {
   "cell_type": "code",
   "execution_count": 47,
   "id": "17d0ce57",
   "metadata": {},
   "outputs": [
    {
     "data": {
      "text/html": [
       "<div>\n",
       "<style scoped>\n",
       "    .dataframe tbody tr th:only-of-type {\n",
       "        vertical-align: middle;\n",
       "    }\n",
       "\n",
       "    .dataframe tbody tr th {\n",
       "        vertical-align: top;\n",
       "    }\n",
       "\n",
       "    .dataframe thead th {\n",
       "        text-align: right;\n",
       "    }\n",
       "</style>\n",
       "<table border=\"1\" class=\"dataframe\">\n",
       "  <thead>\n",
       "    <tr style=\"text-align: right;\">\n",
       "      <th></th>\n",
       "      <th>CALL_TYPE</th>\n",
       "      <th>ORIGIN_CALL</th>\n",
       "      <th>ORIGIN_STAND</th>\n",
       "      <th>TIMESTAMP</th>\n",
       "      <th>LEN</th>\n",
       "      <th>LATITUDE</th>\n",
       "      <th>LONGITUDE</th>\n",
       "      <th>YR</th>\n",
       "      <th>MON</th>\n",
       "      <th>DAY</th>\n",
       "      <th>HR</th>\n",
       "      <th>WK</th>\n",
       "      <th>Actual</th>\n",
       "      <th>Predicted</th>\n",
       "    </tr>\n",
       "  </thead>\n",
       "  <tbody>\n",
       "    <tr>\n",
       "      <th>0</th>\n",
       "      <td>A</td>\n",
       "      <td>14828.0</td>\n",
       "      <td>NaN</td>\n",
       "      <td>1376132285</td>\n",
       "      <td>630.0</td>\n",
       "      <td>0.000000</td>\n",
       "      <td>0.000000</td>\n",
       "      <td>2013</td>\n",
       "      <td>8</td>\n",
       "      <td>10</td>\n",
       "      <td>10</td>\n",
       "      <td>5</td>\n",
       "      <td>630.0</td>\n",
       "      <td>685.038513</td>\n",
       "    </tr>\n",
       "    <tr>\n",
       "      <th>1</th>\n",
       "      <td>B</td>\n",
       "      <td>NaN</td>\n",
       "      <td>36.0</td>\n",
       "      <td>1382364132</td>\n",
       "      <td>795.0</td>\n",
       "      <td>41.154657</td>\n",
       "      <td>-8.649074</td>\n",
       "      <td>2013</td>\n",
       "      <td>10</td>\n",
       "      <td>21</td>\n",
       "      <td>14</td>\n",
       "      <td>0</td>\n",
       "      <td>795.0</td>\n",
       "      <td>712.103210</td>\n",
       "    </tr>\n",
       "    <tr>\n",
       "      <th>2</th>\n",
       "      <td>A</td>\n",
       "      <td>3182.0</td>\n",
       "      <td>NaN</td>\n",
       "      <td>1397757583</td>\n",
       "      <td>1335.0</td>\n",
       "      <td>0.000000</td>\n",
       "      <td>0.000000</td>\n",
       "      <td>2014</td>\n",
       "      <td>4</td>\n",
       "      <td>17</td>\n",
       "      <td>17</td>\n",
       "      <td>3</td>\n",
       "      <td>1335.0</td>\n",
       "      <td>909.968628</td>\n",
       "    </tr>\n",
       "    <tr>\n",
       "      <th>3</th>\n",
       "      <td>A</td>\n",
       "      <td>29898.0</td>\n",
       "      <td>NaN</td>\n",
       "      <td>1402815978</td>\n",
       "      <td>660.0</td>\n",
       "      <td>0.000000</td>\n",
       "      <td>0.000000</td>\n",
       "      <td>2014</td>\n",
       "      <td>6</td>\n",
       "      <td>15</td>\n",
       "      <td>7</td>\n",
       "      <td>6</td>\n",
       "      <td>660.0</td>\n",
       "      <td>660.593262</td>\n",
       "    </tr>\n",
       "    <tr>\n",
       "      <th>4</th>\n",
       "      <td>C</td>\n",
       "      <td>NaN</td>\n",
       "      <td>NaN</td>\n",
       "      <td>1388559741</td>\n",
       "      <td>270.0</td>\n",
       "      <td>0.000000</td>\n",
       "      <td>0.000000</td>\n",
       "      <td>2014</td>\n",
       "      <td>1</td>\n",
       "      <td>1</td>\n",
       "      <td>7</td>\n",
       "      <td>2</td>\n",
       "      <td>270.0</td>\n",
       "      <td>682.460632</td>\n",
       "    </tr>\n",
       "    <tr>\n",
       "      <th>5</th>\n",
       "      <td>C</td>\n",
       "      <td>NaN</td>\n",
       "      <td>NaN</td>\n",
       "      <td>1381457038</td>\n",
       "      <td>585.0</td>\n",
       "      <td>0.000000</td>\n",
       "      <td>0.000000</td>\n",
       "      <td>2013</td>\n",
       "      <td>10</td>\n",
       "      <td>11</td>\n",
       "      <td>2</td>\n",
       "      <td>4</td>\n",
       "      <td>585.0</td>\n",
       "      <td>571.911377</td>\n",
       "    </tr>\n",
       "    <tr>\n",
       "      <th>6</th>\n",
       "      <td>C</td>\n",
       "      <td>NaN</td>\n",
       "      <td>NaN</td>\n",
       "      <td>1379225080</td>\n",
       "      <td>105.0</td>\n",
       "      <td>0.000000</td>\n",
       "      <td>0.000000</td>\n",
       "      <td>2013</td>\n",
       "      <td>9</td>\n",
       "      <td>15</td>\n",
       "      <td>6</td>\n",
       "      <td>6</td>\n",
       "      <td>105.0</td>\n",
       "      <td>616.452393</td>\n",
       "    </tr>\n",
       "    <tr>\n",
       "      <th>7</th>\n",
       "      <td>C</td>\n",
       "      <td>NaN</td>\n",
       "      <td>NaN</td>\n",
       "      <td>1390429656</td>\n",
       "      <td>375.0</td>\n",
       "      <td>0.000000</td>\n",
       "      <td>0.000000</td>\n",
       "      <td>2014</td>\n",
       "      <td>1</td>\n",
       "      <td>22</td>\n",
       "      <td>22</td>\n",
       "      <td>2</td>\n",
       "      <td>375.0</td>\n",
       "      <td>589.741943</td>\n",
       "    </tr>\n",
       "    <tr>\n",
       "      <th>8</th>\n",
       "      <td>C</td>\n",
       "      <td>NaN</td>\n",
       "      <td>NaN</td>\n",
       "      <td>1400260988</td>\n",
       "      <td>1110.0</td>\n",
       "      <td>0.000000</td>\n",
       "      <td>0.000000</td>\n",
       "      <td>2014</td>\n",
       "      <td>5</td>\n",
       "      <td>16</td>\n",
       "      <td>17</td>\n",
       "      <td>4</td>\n",
       "      <td>1110.0</td>\n",
       "      <td>779.140564</td>\n",
       "    </tr>\n",
       "    <tr>\n",
       "      <th>9</th>\n",
       "      <td>C</td>\n",
       "      <td>NaN</td>\n",
       "      <td>NaN</td>\n",
       "      <td>1383443531</td>\n",
       "      <td>630.0</td>\n",
       "      <td>0.000000</td>\n",
       "      <td>0.000000</td>\n",
       "      <td>2013</td>\n",
       "      <td>11</td>\n",
       "      <td>3</td>\n",
       "      <td>1</td>\n",
       "      <td>6</td>\n",
       "      <td>630.0</td>\n",
       "      <td>607.039551</td>\n",
       "    </tr>\n",
       "  </tbody>\n",
       "</table>\n",
       "</div>"
      ],
      "text/plain": [
       "  CALL_TYPE ORIGIN_CALL ORIGIN_STAND   TIMESTAMP     LEN   LATITUDE  \\\n",
       "0         A     14828.0          NaN  1376132285   630.0   0.000000   \n",
       "1         B         NaN         36.0  1382364132   795.0  41.154657   \n",
       "2         A      3182.0          NaN  1397757583  1335.0   0.000000   \n",
       "3         A     29898.0          NaN  1402815978   660.0   0.000000   \n",
       "4         C         NaN          NaN  1388559741   270.0   0.000000   \n",
       "5         C         NaN          NaN  1381457038   585.0   0.000000   \n",
       "6         C         NaN          NaN  1379225080   105.0   0.000000   \n",
       "7         C         NaN          NaN  1390429656   375.0   0.000000   \n",
       "8         C         NaN          NaN  1400260988  1110.0   0.000000   \n",
       "9         C         NaN          NaN  1383443531   630.0   0.000000   \n",
       "\n",
       "   LONGITUDE    YR MON DAY  HR WK  Actual   Predicted  \n",
       "0   0.000000  2013   8  10  10  5   630.0  685.038513  \n",
       "1  -8.649074  2013  10  21  14  0   795.0  712.103210  \n",
       "2   0.000000  2014   4  17  17  3  1335.0  909.968628  \n",
       "3   0.000000  2014   6  15   7  6   660.0  660.593262  \n",
       "4   0.000000  2014   1   1   7  2   270.0  682.460632  \n",
       "5   0.000000  2013  10  11   2  4   585.0  571.911377  \n",
       "6   0.000000  2013   9  15   6  6   105.0  616.452393  \n",
       "7   0.000000  2014   1  22  22  2   375.0  589.741943  \n",
       "8   0.000000  2014   5  16  17  4  1110.0  779.140564  \n",
       "9   0.000000  2013  11   3   1  6   630.0  607.039551  "
      ]
     },
     "execution_count": 47,
     "metadata": {},
     "output_type": "execute_result"
    }
   ],
   "source": [
    "# Randomly sample a few training samples after the training has finished.\n",
    "sample = df_tr.sample(n=10, ignore_index=True)\n",
    "X_sample = sample.drop('LEN', axis=1)\n",
    "y_sample = sample['LEN']\n",
    "\n",
    "dsample = xgb.DMatrix(X_sample, enable_categorical=True)\n",
    "y_sample_pred = model.predict(dsample)\n",
    "\n",
    "\n",
    "y_sample = y_sample.rename(\"Actual\")\n",
    "predicted = pd.DataFrame(y_sample_pred, columns=[\"Predicted\"])\n",
    "pd.concat([sample, y_sample, predicted], axis=1)"
   ]
  },
  {
   "cell_type": "code",
   "execution_count": 134,
   "id": "a2e6100b",
   "metadata": {
    "scrolled": true
   },
   "outputs": [
    {
     "name": "stdout",
     "output_type": "stream",
     "text": [
      "[(tensor(57586.3359, device='cuda:0'), TRIP_ID                                       1393061275620000681\n",
      "CALL_TYPE                                                       C\n",
      "ORIGIN_CALL                                                   NaN\n",
      "ORIGIN_STAND                                                  NaN\n",
      "TAXI_ID                                                  20000681\n",
      "TIMESTAMP                                              1393061275\n",
      "DAY_TYPE                                                        A\n",
      "MISSING_DATA                                                False\n",
      "POLYLINE        [[-8.583435,41.158665],[-8.582958,41.158899],[...\n",
      "LEN                                                         58200\n",
      "Name: 1093727, dtype: object), (tensor(57451.5039, device='cuda:0'), TRIP_ID                                       1400312076620000562\n",
      "CALL_TYPE                                                       C\n",
      "ORIGIN_CALL                                                   NaN\n",
      "ORIGIN_STAND                                                  NaN\n",
      "TAXI_ID                                                  20000562\n",
      "TIMESTAMP                                              1400312076\n",
      "DAY_TYPE                                                        A\n",
      "MISSING_DATA                                                False\n",
      "POLYLINE        [[-8.614881,41.151051],[-8.614836,41.151087],[...\n",
      "LEN                                                         58065\n",
      "Name: 1492417, dtype: object), (tensor(56955.9609, device='cuda:0'), TRIP_ID                                       1383293324620000520\n",
      "CALL_TYPE                                                       B\n",
      "ORIGIN_CALL                                                   NaN\n",
      "ORIGIN_STAND                                                 13.0\n",
      "TAXI_ID                                                  20000520\n",
      "TIMESTAMP                                              1383293324\n",
      "DAY_TYPE                                                        A\n",
      "MISSING_DATA                                                False\n",
      "POLYLINE        [[-8.628237,41.157558],[-8.628012,41.158035],[...\n",
      "LEN                                                         57525\n",
      "Name: 578581, dtype: object), (tensor(53221.8789, device='cuda:0'), TRIP_ID                                       1376892235620000086\n",
      "CALL_TYPE                                                       C\n",
      "ORIGIN_CALL                                                   NaN\n",
      "ORIGIN_STAND                                                  NaN\n",
      "TAXI_ID                                                  20000086\n",
      "TIMESTAMP                                              1376892235\n",
      "DAY_TYPE                                                        A\n",
      "MISSING_DATA                                                False\n",
      "POLYLINE        [[-8.618148,41.167557],[-8.618409,41.167575],[...\n",
      "LEN                                                         53835\n",
      "Name: 224510, dtype: object), (tensor(52936.4766, device='cuda:0'), TRIP_ID                                       1375289927620000902\n",
      "CALL_TYPE                                                       C\n",
      "ORIGIN_CALL                                                   NaN\n",
      "ORIGIN_STAND                                                  NaN\n",
      "TAXI_ID                                                  20000902\n",
      "TIMESTAMP                                              1375289927\n",
      "DAY_TYPE                                                        A\n",
      "MISSING_DATA                                                False\n",
      "POLYLINE        [[-8.614386,41.141079],[-8.613729,41.141304],[...\n",
      "LEN                                                         53550\n",
      "Name: 147121, dtype: object), (tensor(46171.7344, device='cuda:0'), TRIP_ID                                       1379954402620000904\n",
      "CALL_TYPE                                                       C\n",
      "ORIGIN_CALL                                                   NaN\n",
      "ORIGIN_STAND                                                  NaN\n",
      "TAXI_ID                                                  20000904\n",
      "TIMESTAMP                                              1379954402\n",
      "DAY_TYPE                                                        A\n",
      "MISSING_DATA                                                False\n",
      "POLYLINE        [[-8.621001,41.150358],[-8.621388,41.150664],[...\n",
      "LEN                                                         46785\n",
      "Name: 385819, dtype: object), (tensor(43440.6641, device='cuda:0'), TRIP_ID                                       1375981643620000520\n",
      "CALL_TYPE                                                       B\n",
      "ORIGIN_CALL                                                   NaN\n",
      "ORIGIN_STAND                                                 53.0\n",
      "TAXI_ID                                                  20000520\n",
      "TIMESTAMP                                              1375981643\n",
      "DAY_TYPE                                                        A\n",
      "MISSING_DATA                                                False\n",
      "POLYLINE        [[-8.613783,41.14125],[-8.61399,41.141223],[-8...\n",
      "LEN                                                         44010\n",
      "Name: 182829, dtype: object), (tensor(40456.4297, device='cuda:0'), TRIP_ID                                       1395081407620000904\n",
      "CALL_TYPE                                                       C\n",
      "ORIGIN_CALL                                                   NaN\n",
      "ORIGIN_STAND                                                  NaN\n",
      "TAXI_ID                                                  20000904\n",
      "TIMESTAMP                                              1395081407\n",
      "DAY_TYPE                                                        A\n",
      "MISSING_DATA                                                False\n",
      "POLYLINE        [[-8.531757,41.14692],[-8.532054,41.145624],[-...\n",
      "LEN                                                         41070\n",
      "Name: 1199139, dtype: object), (tensor(39556.7070, device='cuda:0'), TRIP_ID                                       1391442237620000902\n",
      "CALL_TYPE                                                       C\n",
      "ORIGIN_CALL                                                   NaN\n",
      "ORIGIN_STAND                                                  NaN\n",
      "TAXI_ID                                                  20000902\n",
      "TIMESTAMP                                              1391442237\n",
      "DAY_TYPE                                                        A\n",
      "MISSING_DATA                                                False\n",
      "POLYLINE        [[-8.672364,41.154831],[-8.670393,41.155974],[...\n",
      "LEN                                                         40170\n",
      "Name: 1003876, dtype: object), (tensor(39166.6289, device='cuda:0'), TRIP_ID                                       1388220860620000144\n",
      "CALL_TYPE                                                       C\n",
      "ORIGIN_CALL                                                   NaN\n",
      "ORIGIN_STAND                                                  NaN\n",
      "TAXI_ID                                                  20000144\n",
      "TIMESTAMP                                              1388220860\n",
      "DAY_TYPE                                                        A\n",
      "MISSING_DATA                                                False\n",
      "POLYLINE        [[-8.621415,41.156316],[-8.621064,41.155749],[...\n",
      "LEN                                                         39780\n",
      "Name: 849531, dtype: object)]\n"
     ]
    }
   ],
   "source": [
    "# Final testing on all data\n",
    "batch_size = 128\n",
    "\n",
    "test_dataset = ModelDataset(mode='test', raw_data = raw_train)\n",
    "\n",
    "highest_loss = []\n",
    "for i in range(len(test_dataset)):\n",
    "    model.eval()\n",
    "    x, t, raw = test_dataset[i]\n",
    "    y = model(x.unsqueeze(0))\n",
    "    loss = loss_function(torch.tensor(y.item()).to(device), t)\n",
    "    highest_loss = sorted(highest_loss + [(loss, raw)], key=lambda x: -x[0])[:10]\n",
    "print(highest_loss)"
   ]
  },
  {
   "cell_type": "code",
   "execution_count": 172,
   "id": "1d2e00f0",
   "metadata": {},
   "outputs": [
    {
     "data": {
      "image/png": "[encoded data removed]",
      "text/plain": [
       "<Figure size 432x288 with 1 Axes>"
      ]
     },
     "metadata": {
      "needs_background": "light"
     },
     "output_type": "display_data"
    }
   ],
   "source": [
    "# Visualize paths of biggest outliers\n",
    "loss, row = highest_loss[9]\n",
    "count += 1\n",
    "polyline = row['POLYLINE'].split(\"],\")\n",
    "polyline = [i.replace(\"[\", '').replace(\"]\", '') for i in polyline]\n",
    "polyline = [(float(i.split(\",\")[0]), float(i.split(\",\")[1])) for i in polyline]\n",
    "lat = [i[0] for i in polyline]\n",
    "lon = [i[1] for i in polyline]\n",
    "plt.plot(lat, lon)\n",
    "plt.xlabel(\"Latitude\")\n",
    "plt.ylabel(\"Longitude\")\n",
    "plt.title(f'Path with Loss: {loss}')\n",
    "plt.show()"
   ]
  }
 ],
 "metadata": {
  "kernelspec": {
   "display_name": "Python 3 (ipykernel)",
   "language": "python",
   "name": "python3"
  },
  "language_info": {
   "codemirror_mode": {
    "name": "ipython",
    "version": 3
   },
   "file_extension": ".py",
   "mimetype": "text/x-python",
   "name": "python",
   "nbconvert_exporter": "python",
   "pygments_lexer": "ipython3",
   "version": "3.9.5"
  }
 },
 "nbformat": 4,
 "nbformat_minor": 5
}
