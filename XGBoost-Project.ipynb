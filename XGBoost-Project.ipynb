{
 "cells": [
  {
   "cell_type": "code",
   "execution_count": 1,
   "id": "49c17ba8",
   "metadata": {
    "scrolled": false
   },
   "outputs": [
    {
     "name": "stdout",
     "output_type": "stream",
     "text": [
      "  % Total    % Received % Xferd  Average Speed   Time    Time     Time  Current\n",
      "                                 Dload  Upload   Total   Spent    Left  Speed\n",
      "100    17    0    17    0     0     57      0 --:--:-- --:--:-- --:--:--    57\n",
      "100   340  100   340    0     0    478      0 --:--:-- --:--:-- --:--:--     0\n",
      "100   534    0   534    0     0    425      0 --:--:--  0:00:01 --:--:--   425\n",
      " 41  515M   41  212M    0     0  46.1M      0  0:00:11  0:00:04  0:00:07 70.7M^C\n",
      "Archive:  kaggle-download.zip\n",
      "  End-of-central-directory signature not found.  Either this file is not\n",
      "  a zipfile, or it constitutes one disk of a multi-part archive.  In the\n",
      "  latter case the central directory and zipfile comment will be found on\n",
      "  the last disk(s) of this archive.\n",
      "unzip:  cannot find zipfile directory in one of kaggle-download.zip or\n",
      "        kaggle-download.zip.zip, and cannot find kaggle-download.zip.ZIP, period.\n"
     ]
    }
   ],
   "source": [
    "!curl -L https://www.dropbox.com/s/rndzndlgpw3coiq/kaggle-download.zip -o kaggle-download.zip\n",
    "!unzip kaggle-download.zip -d kaggle_data"
   ]
  },
  {
   "cell_type": "code",
   "execution_count": 108,
   "id": "a3665813",
   "metadata": {
    "scrolled": true
   },
   "outputs": [
    {
     "ename": "SyntaxError",
     "evalue": "invalid syntax (4035839222.py, line 1)",
     "output_type": "error",
     "traceback": [
      "\u001b[0;36m  File \u001b[0;32m\"/tmp/ipykernel_430/4035839222.py\"\u001b[0;36m, line \u001b[0;32m1\u001b[0m\n\u001b[0;31m    pip install xgboost\u001b[0m\n\u001b[0m        ^\u001b[0m\n\u001b[0;31mSyntaxError\u001b[0m\u001b[0;31m:\u001b[0m invalid syntax\n"
     ]
    }
   ],
   "source": [
    "pip install xgboost"
   ]
  },
  {
   "cell_type": "code",
   "execution_count": 109,
   "id": "818534c0",
   "metadata": {
    "scrolled": true
   },
   "outputs": [
    {
     "name": "stdout",
     "output_type": "stream",
     "text": [
      "Defaulting to user installation because normal site-packages is not writeable\n",
      "Collecting hyperopt\n",
      "  Downloading hyperopt-0.2.7-py2.py3-none-any.whl (1.6 MB)\n",
      "\u001b[K     |████████████████████████████████| 1.6 MB 14.4 MB/s eta 0:00:01\n",
      "\u001b[?25hRequirement already satisfied: numpy in /opt/conda/lib/python3.9/site-packages (from hyperopt) (1.22.4)\n",
      "Requirement already satisfied: scipy in /opt/conda/lib/python3.9/site-packages (from hyperopt) (1.7.0)\n",
      "Requirement already satisfied: six in /opt/conda/lib/python3.9/site-packages (from hyperopt) (1.16.0)\n",
      "Requirement already satisfied: cloudpickle in /opt/conda/lib/python3.9/site-packages (from hyperopt) (1.6.0)\n",
      "Collecting future\n",
      "  Downloading future-0.18.3.tar.gz (840 kB)\n",
      "\u001b[K     |████████████████████████████████| 840 kB 57.8 MB/s eta 0:00:01\n",
      "\u001b[?25hRequirement already satisfied: networkx>=2.2 in /opt/conda/lib/python3.9/site-packages (from hyperopt) (2.5)\n",
      "Requirement already satisfied: tqdm in /opt/conda/lib/python3.9/site-packages (from hyperopt) (4.61.2)\n",
      "Collecting py4j\n",
      "  Downloading py4j-0.10.9.7-py2.py3-none-any.whl (200 kB)\n",
      "\u001b[K     |████████████████████████████████| 200 kB 53.3 MB/s eta 0:00:01\n",
      "\u001b[?25hRequirement already satisfied: decorator>=4.3.0 in /opt/conda/lib/python3.9/site-packages (from networkx>=2.2->hyperopt) (5.0.9)\n",
      "Building wheels for collected packages: future\n",
      "  Building wheel for future (setup.py) ... \u001b[?25ldone\n",
      "\u001b[?25h  Created wheel for future: filename=future-0.18.3-py3-none-any.whl size=492026 sha256=ec372d44630e94bb8052c2a3a28630c7890d98d786025dd7107cdf093e6684fb\n",
      "  Stored in directory: /home/acz001/.cache/pip/wheels/bf/5d/6a/2e53874f7ec4e2bede522385439531fafec8fafe005b5c3d1b\n",
      "Successfully built future\n",
      "Installing collected packages: py4j, future, hyperopt\n",
      "\u001b[33m  WARNING: The scripts futurize and pasteurize are installed in '/home/acz001/.local/bin' which is not on PATH.\n",
      "  Consider adding this directory to PATH or, if you prefer to suppress this warning, use --no-warn-script-location.\u001b[0m\n",
      "\u001b[33m  WARNING: The script hyperopt-mongo-worker is installed in '/home/acz001/.local/bin' which is not on PATH.\n",
      "  Consider adding this directory to PATH or, if you prefer to suppress this warning, use --no-warn-script-location.\u001b[0m\n",
      "Successfully installed future-0.18.3 hyperopt-0.2.7 py4j-0.10.9.7\n",
      "Note: you may need to restart the kernel to use updated packages.\n"
     ]
    }
   ],
   "source": [
    "pip install hyperopt"
   ]
  },
  {
   "cell_type": "code",
   "execution_count": 2,
   "id": "c5411bf0",
   "metadata": {},
   "outputs": [],
   "source": [
    "import numpy as np, pandas as pd\n",
    "import matplotlib.pyplot as plt\n",
    "import torch\n",
    "from torch.utils.data import Dataset\n",
    "import torch.nn as nn\n",
    "import xgboost\n",
    "import sklearn"
   ]
  },
  {
   "cell_type": "markdown",
   "id": "aefdeef9",
   "metadata": {},
   "source": [
    "# Processing data"
   ]
  },
  {
   "cell_type": "code",
   "execution_count": 3,
   "id": "2b46b2fb",
   "metadata": {},
   "outputs": [
    {
     "name": "stdout",
     "output_type": "stream",
     "text": [
      "rows_removed=10\n"
     ]
    }
   ],
   "source": [
    "# These are all of the files you are given\n",
    "df_tr = pd.read_csv(\"kaggle_data/train.csv\")\n",
    "\n",
    "# getting rid of incomplete rows\n",
    "original_rows = df_tr.shape[0]\n",
    "\n",
    "df_tr = df_tr.loc[df_tr['MISSING_DATA'] == False]\n",
    "\n",
    "rows_removed = original_rows - df_tr.shape[0]\n",
    "print(f\"{rows_removed=}\")\n",
    "    \n",
    "def polyline_to_trip_duration(polyline):\n",
    "    return max(polyline.count(\"[\") - 2, 0) * 15\n",
    "\n",
    "# This code creates a new column, \"LEN\", in our dataframe. The value is\n",
    "# the (polyline_length - 1) * 15, where polyline_length = count(\"[\") - 1\n",
    "df_tr[\"LEN\"] = df_tr[\"POLYLINE\"].apply(polyline_to_trip_duration)"
   ]
  },
  {
   "cell_type": "code",
   "execution_count": 4,
   "id": "04c73b0f",
   "metadata": {},
   "outputs": [],
   "source": [
    "df_taxi_data = pd.read_csv(\"kaggle_data/metaData_taxistandsID_name_GPSlocation.csv\")\n",
    "# The following code normalizes longitudes and latitudes.\n",
    "# df_taxi_data[\"Longitude\"] = (df_taxi_data[\"Longitude\"] - df_taxi_data[\"Longitude\"].mean()) / df_taxi_data[\"Longitude\"].std()\n",
    "# df_taxi_data[\"Latitude\"] = (df_taxi_data[\"Latitude\"] - df_taxi_data[\"Latitude\"].mean()) / df_taxi_data[\"Latitude\"].std()"
   ]
  },
  {
   "cell_type": "code",
   "execution_count": 5,
   "id": "a056e237",
   "metadata": {
    "scrolled": false
   },
   "outputs": [],
   "source": [
    "from datetime import datetime\n",
    "import math\n",
    "\n",
    "def process_df(df):\n",
    "    def parse_time(x):\n",
    "        # We are using python's builtin datetime library\n",
    "        # https://docs.python.org/3/library/datetime.html#datetime.date.fromtimestamp\n",
    "\n",
    "        # Each x is essentially a 1 row, 1 column pandas Series\n",
    "        dt = datetime.fromtimestamp(x[\"TIMESTAMP\"])\n",
    "        return dt.year, dt.month, dt.day, dt.hour, dt.weekday()\n",
    "\n",
    "    def get_lat_long(x):\n",
    "        if math.isnan(x[\"ORIGIN_STAND\"]):\n",
    "            return 0, 0\n",
    "        taxi_row = df_taxi_data.iloc[int(x[\"ORIGIN_STAND\"]) - 1]\n",
    "        return float(taxi_row[\"Latitude\"]), float(taxi_row[\"Longitude\"])\n",
    "    \n",
    "    df[[\"YR\", \"MON\", \"DAY\", \"HR\", \"WK\"]] = df_tr[[\"TIMESTAMP\"]].apply(parse_time, axis=1, result_type=\"expand\")\n",
    "    df[[\"LATITUDE\", \"LONGITUDE\"]] = df_tr[[\"ORIGIN_STAND\"]].apply(get_lat_long, axis=1, result_type=\"expand\")\n",
    "    df.drop(['TRIP_ID', \"POLYLINE\", 'MISSING_DATA'], axis=1, inplace=True, errors=\"ignore\")\n",
    "    \n",
    "    categorical_cols = ['CALL_TYPE', 'ORIGIN_CALL', 'ORIGIN_STAND', 'TAXI_ID', 'DAY_TYPE', 'YR', 'MON', 'DAY', 'HR', 'WK']\n",
    "    for col in categorical_cols:\n",
    "        df[col] = df[col].astype('category')\n",
    "    if 'LEN' in df.columns:\n",
    "        df['LEN'] = df['LEN'].astype('float64')\n",
    "    \n",
    "    return df\n",
    "    \n",
    "df_tr = process_df(df_tr)"
   ]
  },
  {
   "cell_type": "code",
   "execution_count": 28,
   "id": "a5bc9ddb",
   "metadata": {
    "scrolled": true
   },
   "outputs": [
    {
     "data": {
      "text/html": [
       "<div>\n",
       "<style scoped>\n",
       "    .dataframe tbody tr th:only-of-type {\n",
       "        vertical-align: middle;\n",
       "    }\n",
       "\n",
       "    .dataframe tbody tr th {\n",
       "        vertical-align: top;\n",
       "    }\n",
       "\n",
       "    .dataframe thead th {\n",
       "        text-align: right;\n",
       "    }\n",
       "</style>\n",
       "<table border=\"1\" class=\"dataframe\">\n",
       "  <thead>\n",
       "    <tr style=\"text-align: right;\">\n",
       "      <th></th>\n",
       "      <th>CALL_TYPE</th>\n",
       "      <th>ORIGIN_CALL</th>\n",
       "      <th>ORIGIN_STAND</th>\n",
       "      <th>TAXI_ID</th>\n",
       "      <th>TIMESTAMP</th>\n",
       "      <th>DAY_TYPE</th>\n",
       "      <th>LEN</th>\n",
       "      <th>YR</th>\n",
       "      <th>MON</th>\n",
       "      <th>DAY</th>\n",
       "      <th>HR</th>\n",
       "      <th>WK</th>\n",
       "      <th>LATITUDE</th>\n",
       "      <th>LONGITUDE</th>\n",
       "    </tr>\n",
       "  </thead>\n",
       "  <tbody>\n",
       "    <tr>\n",
       "      <th>0</th>\n",
       "      <td>C</td>\n",
       "      <td>NaN</td>\n",
       "      <td>NaN</td>\n",
       "      <td>20000589</td>\n",
       "      <td>1372636858</td>\n",
       "      <td>A</td>\n",
       "      <td>330.0</td>\n",
       "      <td>2013</td>\n",
       "      <td>7</td>\n",
       "      <td>1</td>\n",
       "      <td>0</td>\n",
       "      <td>0</td>\n",
       "      <td>0.00000</td>\n",
       "      <td>0.000000</td>\n",
       "    </tr>\n",
       "    <tr>\n",
       "      <th>1</th>\n",
       "      <td>B</td>\n",
       "      <td>NaN</td>\n",
       "      <td>7.0</td>\n",
       "      <td>20000596</td>\n",
       "      <td>1372637303</td>\n",
       "      <td>A</td>\n",
       "      <td>270.0</td>\n",
       "      <td>2013</td>\n",
       "      <td>7</td>\n",
       "      <td>1</td>\n",
       "      <td>0</td>\n",
       "      <td>0</td>\n",
       "      <td>41.15998</td>\n",
       "      <td>-8.641984</td>\n",
       "    </tr>\n",
       "    <tr>\n",
       "      <th>2</th>\n",
       "      <td>C</td>\n",
       "      <td>NaN</td>\n",
       "      <td>NaN</td>\n",
       "      <td>20000320</td>\n",
       "      <td>1372636951</td>\n",
       "      <td>A</td>\n",
       "      <td>960.0</td>\n",
       "      <td>2013</td>\n",
       "      <td>7</td>\n",
       "      <td>1</td>\n",
       "      <td>0</td>\n",
       "      <td>0</td>\n",
       "      <td>0.00000</td>\n",
       "      <td>0.000000</td>\n",
       "    </tr>\n",
       "    <tr>\n",
       "      <th>3</th>\n",
       "      <td>C</td>\n",
       "      <td>NaN</td>\n",
       "      <td>NaN</td>\n",
       "      <td>20000520</td>\n",
       "      <td>1372636854</td>\n",
       "      <td>A</td>\n",
       "      <td>630.0</td>\n",
       "      <td>2013</td>\n",
       "      <td>7</td>\n",
       "      <td>1</td>\n",
       "      <td>0</td>\n",
       "      <td>0</td>\n",
       "      <td>0.00000</td>\n",
       "      <td>0.000000</td>\n",
       "    </tr>\n",
       "    <tr>\n",
       "      <th>4</th>\n",
       "      <td>C</td>\n",
       "      <td>NaN</td>\n",
       "      <td>NaN</td>\n",
       "      <td>20000337</td>\n",
       "      <td>1372637091</td>\n",
       "      <td>A</td>\n",
       "      <td>420.0</td>\n",
       "      <td>2013</td>\n",
       "      <td>7</td>\n",
       "      <td>1</td>\n",
       "      <td>0</td>\n",
       "      <td>0</td>\n",
       "      <td>0.00000</td>\n",
       "      <td>0.000000</td>\n",
       "    </tr>\n",
       "    <tr>\n",
       "      <th>5</th>\n",
       "      <td>C</td>\n",
       "      <td>NaN</td>\n",
       "      <td>NaN</td>\n",
       "      <td>20000231</td>\n",
       "      <td>1372636965</td>\n",
       "      <td>A</td>\n",
       "      <td>375.0</td>\n",
       "      <td>2013</td>\n",
       "      <td>7</td>\n",
       "      <td>1</td>\n",
       "      <td>0</td>\n",
       "      <td>0</td>\n",
       "      <td>0.00000</td>\n",
       "      <td>0.000000</td>\n",
       "    </tr>\n",
       "    <tr>\n",
       "      <th>6</th>\n",
       "      <td>C</td>\n",
       "      <td>NaN</td>\n",
       "      <td>NaN</td>\n",
       "      <td>20000456</td>\n",
       "      <td>1372637210</td>\n",
       "      <td>A</td>\n",
       "      <td>525.0</td>\n",
       "      <td>2013</td>\n",
       "      <td>7</td>\n",
       "      <td>1</td>\n",
       "      <td>0</td>\n",
       "      <td>0</td>\n",
       "      <td>0.00000</td>\n",
       "      <td>0.000000</td>\n",
       "    </tr>\n",
       "    <tr>\n",
       "      <th>7</th>\n",
       "      <td>C</td>\n",
       "      <td>NaN</td>\n",
       "      <td>NaN</td>\n",
       "      <td>20000011</td>\n",
       "      <td>1372637299</td>\n",
       "      <td>A</td>\n",
       "      <td>495.0</td>\n",
       "      <td>2013</td>\n",
       "      <td>7</td>\n",
       "      <td>1</td>\n",
       "      <td>0</td>\n",
       "      <td>0</td>\n",
       "      <td>0.00000</td>\n",
       "      <td>0.000000</td>\n",
       "    </tr>\n",
       "    <tr>\n",
       "      <th>8</th>\n",
       "      <td>C</td>\n",
       "      <td>NaN</td>\n",
       "      <td>NaN</td>\n",
       "      <td>20000403</td>\n",
       "      <td>1372637274</td>\n",
       "      <td>A</td>\n",
       "      <td>555.0</td>\n",
       "      <td>2013</td>\n",
       "      <td>7</td>\n",
       "      <td>1</td>\n",
       "      <td>0</td>\n",
       "      <td>0</td>\n",
       "      <td>0.00000</td>\n",
       "      <td>0.000000</td>\n",
       "    </tr>\n",
       "    <tr>\n",
       "      <th>9</th>\n",
       "      <td>C</td>\n",
       "      <td>NaN</td>\n",
       "      <td>NaN</td>\n",
       "      <td>20000320</td>\n",
       "      <td>1372637905</td>\n",
       "      <td>A</td>\n",
       "      <td>270.0</td>\n",
       "      <td>2013</td>\n",
       "      <td>7</td>\n",
       "      <td>1</td>\n",
       "      <td>0</td>\n",
       "      <td>0</td>\n",
       "      <td>0.00000</td>\n",
       "      <td>0.000000</td>\n",
       "    </tr>\n",
       "  </tbody>\n",
       "</table>\n",
       "</div>"
      ],
      "text/plain": [
       "  CALL_TYPE ORIGIN_CALL ORIGIN_STAND   TAXI_ID   TIMESTAMP DAY_TYPE    LEN  \\\n",
       "0         C         NaN          NaN  20000589  1372636858        A  330.0   \n",
       "1         B         NaN          7.0  20000596  1372637303        A  270.0   \n",
       "2         C         NaN          NaN  20000320  1372636951        A  960.0   \n",
       "3         C         NaN          NaN  20000520  1372636854        A  630.0   \n",
       "4         C         NaN          NaN  20000337  1372637091        A  420.0   \n",
       "5         C         NaN          NaN  20000231  1372636965        A  375.0   \n",
       "6         C         NaN          NaN  20000456  1372637210        A  525.0   \n",
       "7         C         NaN          NaN  20000011  1372637299        A  495.0   \n",
       "8         C         NaN          NaN  20000403  1372637274        A  555.0   \n",
       "9         C         NaN          NaN  20000320  1372637905        A  270.0   \n",
       "\n",
       "     YR MON DAY HR WK  LATITUDE  LONGITUDE  \n",
       "0  2013   7   1  0  0   0.00000   0.000000  \n",
       "1  2013   7   1  0  0  41.15998  -8.641984  \n",
       "2  2013   7   1  0  0   0.00000   0.000000  \n",
       "3  2013   7   1  0  0   0.00000   0.000000  \n",
       "4  2013   7   1  0  0   0.00000   0.000000  \n",
       "5  2013   7   1  0  0   0.00000   0.000000  \n",
       "6  2013   7   1  0  0   0.00000   0.000000  \n",
       "7  2013   7   1  0  0   0.00000   0.000000  \n",
       "8  2013   7   1  0  0   0.00000   0.000000  \n",
       "9  2013   7   1  0  0   0.00000   0.000000  "
      ]
     },
     "execution_count": 28,
     "metadata": {},
     "output_type": "execute_result"
    }
   ],
   "source": [
    "df_tr.head(10)"
   ]
  },
  {
   "cell_type": "code",
   "execution_count": null,
   "id": "98675080",
   "metadata": {},
   "outputs": [],
   "source": [
    "# Data visualization of all trip times\n",
    "plt.hist(raw_train[1].tolist(), bins=50, range=(0, 5000), linewidth=1, edgecolor='black')\n",
    "plt.xlabel('Taxi Trip Time')\n",
    "plt.ylabel('Frequency')\n",
    "plt.show()"
   ]
  },
  {
   "cell_type": "code",
   "execution_count": 30,
   "id": "82dfc9ee",
   "metadata": {},
   "outputs": [
    {
     "data": {
      "image/png": "[encoded data removed]",
      "text/plain": [
       "<Figure size 432x288 with 1 Axes>"
      ]
     },
     "metadata": {
      "needs_background": "light"
     },
     "output_type": "display_data"
    }
   ],
   "source": [
    "# Heatmap visualization of trip start points\n",
    "import matplotlib.colors as mcolors\n",
    "plt.hist2d(latlong[0], latlong[1], bins=15, norm=mcolors.PowerNorm(0.5))\n",
    "plt.title('Latitude/Longitude Distribution (Heatmap)')\n",
    "plt.xlabel('Latitude')\n",
    "plt.ylabel('Longitude')\n",
    "plt.show()"
   ]
  },
  {
   "cell_type": "code",
   "execution_count": 6,
   "id": "ad176d47",
   "metadata": {},
   "outputs": [],
   "source": [
    "from sklearn.model_selection import train_test_split\n",
    "\n",
    "X = df_tr.drop('LEN', axis=1)\n",
    "y = df_tr['LEN']\n",
    "\n",
    "X_train, X_test, y_train, y_test = train_test_split(X, y, random_state=1, test_size=0.1)"
   ]
  },
  {
   "cell_type": "markdown",
   "id": "d79c4f11",
   "metadata": {
    "scrolled": true
   },
   "source": [
    "# Model training"
   ]
  },
  {
   "cell_type": "code",
   "execution_count": 7,
   "id": "83e5dd27",
   "metadata": {
    "scrolled": true
   },
   "outputs": [],
   "source": [
    "import xgboost as xgb\n",
    "\n",
    "dfull_reg = xgb.DMatrix(X, y, enable_categorical=True)\n",
    "dtrain_reg = xgb.DMatrix(X_train, y_train, enable_categorical=True)\n",
    "dtest_reg = xgb.DMatrix(X_test, y_test, enable_categorical=True)"
   ]
  },
  {
   "cell_type": "code",
   "execution_count": 12,
   "id": "876bc4ac",
   "metadata": {
    "scrolled": false
   },
   "outputs": [],
   "source": [
    "# Hyperparameters\n",
    "\n",
    "params = { \"objective\":\"reg:squarederror\", \"tree_method\":\"gpu_hist\", \"seed\": 0, 'colsample_bytree': 0.55,\n",
    " 'eta': 0.1,\n",
    " 'gamma': 0.65,\n",
    " 'max_depth': 7,\n",
    " 'min_child_weight': 5.0,\n",
    " 'reg_alpha': 45.0,\n",
    " 'reg_lambda': 0.8,\n",
    " 'subsample': 0.8}\n",
    "{'colsample_bytree': 0.7000000000000001,\n",
    " 'eta': 0.025,\n",
    " 'gamma': 0.55,\n",
    " 'max_depth': 9,\n",
    " 'min_child_weight': 4.0,\n",
    " 'n_estimators': 806,\n",
    " 'subsample': 0.9500000000000001}\n",
    "\n",
    "n = 10000\n",
    "EARLY_STOP = 50"
   ]
  },
  {
   "cell_type": "code",
   "execution_count": 9,
   "id": "a1db8519",
   "metadata": {},
   "outputs": [
    {
     "name": "stdout",
     "output_type": "stream",
     "text": [
      "Training with params:                                  \n",
      "{'colsample_bytree': 0.7000000000000001, 'eta': 0.17500000000000002, 'eval_metric': 'rmse', 'gamma': 0.6000000000000001, 'max_depth': 8, 'min_child_weight': 3.0, 'n_estimators': 239.0, 'objective': 'reg:squarederror', 'reg_alpha': 53.0, 'reg_lambda': 0.6000000000000001, 'seed': 314159265, 'subsample': 0.8, 'tree_method': 'hist'}\n",
      "[0]\ttrain-rmse:877.96548\teval-rmse:860.23606           \n",
      "[69]\ttrain-rmse:439.17872\teval-rmse:604.56581          \n",
      "\\RMSE 591.8708569309655                                \n",
      "\n",
      "\n",
      "Training with params:                                                           \n",
      "{'colsample_bytree': 0.65, 'eta': 0.17500000000000002, 'eval_metric': 'rmse', 'gamma': 0.8500000000000001, 'max_depth': 6, 'min_child_weight': 4.0, 'n_estimators': 786.0, 'objective': 'reg:squarederror', 'reg_alpha': 173.0, 'reg_lambda': 0.0, 'seed': 314159265, 'subsample': 0.9, 'tree_method': 'hist'}\n",
      "[0]\ttrain-rmse:878.25060\teval-rmse:860.18378                                    \n",
      "  1%|          | 1/100 [00:09<14:52,  9.02s/trial, best loss: 591.8708569309655]"
     ]
    },
    {
     "name": "stderr",
     "output_type": "stream",
     "text": [
      "/home/acz001/.local/lib/python3.9/site-packages/xgboost/core.py:122: UserWarning: ntree_limit is deprecated, use `iteration_range` or model slicing instead.\n",
      "  warnings.warn(\n",
      "\n"
     ]
    },
    {
     "name": "stdout",
     "output_type": "stream",
     "text": [
      "[72]\ttrain-rmse:538.69333\teval-rmse:590.29883                                   \n",
      "\\RMSE 585.9114595455062                                                         \n",
      "\n",
      "\n",
      "Training with params:                                                           \n",
      "{'colsample_bytree': 0.9, 'eta': 0.42500000000000004, 'eval_metric': 'rmse', 'gamma': 0.7000000000000001, 'max_depth': 2, 'min_child_weight': 3.0, 'n_estimators': 815.0, 'objective': 'reg:squarederror', 'reg_alpha': 50.0, 'reg_lambda': 0.55, 'seed': 314159265, 'subsample': 0.9, 'tree_method': 'hist'}\n",
      "[0]\ttrain-rmse:765.35306\teval-rmse:743.69448                                    \n",
      "  2%|▏         | 2/100 [00:12<09:28,  5.81s/trial, best loss: 585.9114595455062]"
     ]
    },
    {
     "name": "stderr",
     "output_type": "stream",
     "text": [
      "/home/acz001/.local/lib/python3.9/site-packages/xgboost/core.py:122: UserWarning: ntree_limit is deprecated, use `iteration_range` or model slicing instead.\n",
      "  warnings.warn(\n",
      "\n"
     ]
    },
    {
     "name": "stdout",
     "output_type": "stream",
     "text": [
      "[79]\ttrain-rmse:607.59055\teval-rmse:597.46340                                   \n",
      "\\RMSE 589.83508790482                                                           \n",
      "\n",
      "\n",
      "Training with params:                                                           \n",
      "{'colsample_bytree': 0.8500000000000001, 'eta': 0.45, 'eval_metric': 'rmse', 'gamma': 0.9500000000000001, 'max_depth': 10, 'min_child_weight': 3.0, 'n_estimators': 172.0, 'objective': 'reg:squarederror', 'reg_alpha': 153.0, 'reg_lambda': 0.8500000000000001, 'seed': 314159265, 'subsample': 0.7000000000000001, 'tree_method': 'hist'}\n",
      "  3%|▎         | 3/100 [00:13<06:07,  3.79s/trial, best loss: 585.9114595455062]"
     ]
    },
    {
     "name": "stderr",
     "output_type": "stream",
     "text": [
      "/home/acz001/.local/lib/python3.9/site-packages/xgboost/core.py:122: UserWarning: ntree_limit is deprecated, use `iteration_range` or model slicing instead.\n",
      "  warnings.warn(\n",
      "\n"
     ]
    },
    {
     "name": "stdout",
     "output_type": "stream",
     "text": [
      "[0]\ttrain-rmse:723.69250\teval-rmse:722.86204                                    \n",
      "[55]\ttrain-rmse:240.98487\teval-rmse:682.31511                                   \n",
      "\\RMSE 617.7874055052455                                                         \n",
      "\n",
      "\n",
      "Training with params:                                                           \n",
      "{'colsample_bytree': 0.75, 'eta': 0.42500000000000004, 'eval_metric': 'rmse', 'gamma': 0.7000000000000001, 'max_depth': 9, 'min_child_weight': 4.0, 'n_estimators': 481.0, 'objective': 'reg:squarederror', 'reg_alpha': 153.0, 'reg_lambda': 0.35000000000000003, 'seed': 314159265, 'subsample': 0.8500000000000001, 'tree_method': 'hist'}\n",
      "  4%|▍         | 4/100 [00:34<16:55, 10.58s/trial, best loss: 585.9114595455062]"
     ]
    },
    {
     "name": "stderr",
     "output_type": "stream",
     "text": [
      "/home/acz001/.local/lib/python3.9/site-packages/xgboost/core.py:122: UserWarning: ntree_limit is deprecated, use `iteration_range` or model slicing instead.\n",
      "  warnings.warn(\n",
      "\n"
     ]
    },
    {
     "name": "stdout",
     "output_type": "stream",
     "text": [
      "[0]\ttrain-rmse:766.87676\teval-rmse:748.49534                                    \n",
      "[53]\ttrain-rmse:322.57263\teval-rmse:654.96721                                   \n",
      "\\RMSE 605.3438200837941                                                         \n",
      "\n",
      "\n",
      "Training with params:                                                           \n",
      "{'colsample_bytree': 0.65, 'eta': 0.1, 'eval_metric': 'rmse', 'gamma': 0.7000000000000001, 'max_depth': 12, 'min_child_weight': 2.0, 'n_estimators': 160.0, 'objective': 'reg:squarederror', 'reg_alpha': 89.0, 'reg_lambda': 0.6000000000000001, 'seed': 314159265, 'subsample': 0.7000000000000001, 'tree_method': 'hist'}\n",
      "  5%|▌         | 5/100 [00:46<17:07, 10.81s/trial, best loss: 585.9114595455062]"
     ]
    },
    {
     "name": "stderr",
     "output_type": "stream",
     "text": [
      "/home/acz001/.local/lib/python3.9/site-packages/xgboost/core.py:122: UserWarning: ntree_limit is deprecated, use `iteration_range` or model slicing instead.\n",
      "  warnings.warn(\n",
      "\n"
     ]
    },
    {
     "name": "stdout",
     "output_type": "stream",
     "text": [
      "[0]\ttrain-rmse:914.88301\teval-rmse:898.84652                                    \n",
      "[78]\ttrain-rmse:333.58947\teval-rmse:603.42020                                   \n",
      "\\RMSE 593.1418264422516                                                         \n",
      "\n",
      "\n",
      "Training with params:                                                           \n",
      "{'colsample_bytree': 1.0, 'eta': 0.325, 'eval_metric': 'rmse', 'gamma': 0.55, 'max_depth': 2, 'min_child_weight': 6.0, 'n_estimators': 458.0, 'objective': 'reg:squarederror', 'reg_alpha': 67.0, 'reg_lambda': 0.9500000000000001, 'seed': 314159265, 'subsample': 0.7000000000000001, 'tree_method': 'hist'}\n",
      "[0]\ttrain-rmse:807.64238\teval-rmse:784.75986                                    \n",
      "  6%|▌         | 6/100 [01:31<35:28, 22.65s/trial, best loss: 585.9114595455062]"
     ]
    },
    {
     "name": "stderr",
     "output_type": "stream",
     "text": [
      "/home/acz001/.local/lib/python3.9/site-packages/xgboost/core.py:122: UserWarning: ntree_limit is deprecated, use `iteration_range` or model slicing instead.\n",
      "  warnings.warn(\n",
      "\n"
     ]
    },
    {
     "name": "stdout",
     "output_type": "stream",
     "text": [
      "[99]\ttrain-rmse:615.29167\teval-rmse:593.14693                                   \n",
      "\\RMSE 592.0506985953292                                                         \n",
      "\n",
      "\n",
      "Training with params:                                                           \n",
      "{'colsample_bytree': 0.75, 'eta': 0.45, 'eval_metric': 'rmse', 'gamma': 0.5, 'max_depth': 5, 'min_child_weight': 3.0, 'n_estimators': 581.0, 'objective': 'reg:squarederror', 'reg_alpha': 77.0, 'reg_lambda': 0.30000000000000004, 'seed': 314159265, 'subsample': 0.75, 'tree_method': 'hist'}\n",
      "[0]\ttrain-rmse:759.10306\teval-rmse:738.69126                                    \n",
      "  7%|▋         | 7/100 [01:33<24:34, 15.86s/trial, best loss: 585.9114595455062]"
     ]
    },
    {
     "name": "stderr",
     "output_type": "stream",
     "text": [
      "/home/acz001/.local/lib/python3.9/site-packages/xgboost/core.py:122: UserWarning: ntree_limit is deprecated, use `iteration_range` or model slicing instead.\n",
      "  warnings.warn(\n",
      "\n"
     ]
    },
    {
     "name": "stdout",
     "output_type": "stream",
     "text": [
      "[60]\ttrain-rmse:532.85847\teval-rmse:615.68270                                   \n",
      "\\RMSE 600.9533140325532                                                         \n",
      "\n",
      "\n",
      "Training with params:                                                           \n",
      "{'colsample_bytree': 0.8500000000000001, 'eta': 0.275, 'eval_metric': 'rmse', 'gamma': 0.75, 'max_depth': 3, 'min_child_weight': 4.0, 'n_estimators': 574.0, 'objective': 'reg:squarederror', 'reg_alpha': 173.0, 'reg_lambda': 0.35000000000000003, 'seed': 314159265, 'subsample': 0.8, 'tree_method': 'hist'}\n",
      "[0]\ttrain-rmse:826.05976\teval-rmse:804.31653                                    \n",
      "  8%|▊         | 8/100 [01:36<17:46, 11.59s/trial, best loss: 585.9114595455062]"
     ]
    },
    {
     "name": "stderr",
     "output_type": "stream",
     "text": [
      "/home/acz001/.local/lib/python3.9/site-packages/xgboost/core.py:122: UserWarning: ntree_limit is deprecated, use `iteration_range` or model slicing instead.\n",
      "  warnings.warn(\n",
      "\n"
     ]
    },
    {
     "name": "stdout",
     "output_type": "stream",
     "text": [
      "[72]\ttrain-rmse:596.61188\teval-rmse:593.06906                                   \n",
      "\\RMSE 591.8345434890545                                                         \n",
      "\n",
      "\n",
      "Training with params:                                                           \n",
      "{'colsample_bytree': 0.75, 'eta': 0.15000000000000002, 'eval_metric': 'rmse', 'gamma': 0.55, 'max_depth': 3, 'min_child_weight': 3.0, 'n_estimators': 941.0, 'objective': 'reg:squarederror', 'reg_alpha': 106.0, 'reg_lambda': 0.9, 'seed': 314159265, 'subsample': 0.65, 'tree_method': 'hist'}\n",
      "[0]\ttrain-rmse:890.95867\teval-rmse:872.84896                                    \n",
      "  9%|▉         | 9/100 [01:37<12:53,  8.50s/trial, best loss: 585.9114595455062]"
     ]
    },
    {
     "name": "stderr",
     "output_type": "stream",
     "text": [
      "/home/acz001/.local/lib/python3.9/site-packages/xgboost/core.py:122: UserWarning: ntree_limit is deprecated, use `iteration_range` or model slicing instead.\n",
      "  warnings.warn(\n",
      "\n"
     ]
    },
    {
     "name": "stdout",
     "output_type": "stream",
     "text": [
      "[98]\ttrain-rmse:602.30430\teval-rmse:592.18248                                   \n",
      "\\RMSE 590.8013640235148                                                         \n",
      "\n",
      "\n",
      "Training with params:                                                            \n",
      "{'colsample_bytree': 0.8500000000000001, 'eta': 0.17500000000000002, 'eval_metric': 'rmse', 'gamma': 0.65, 'max_depth': 11, 'min_child_weight': 5.0, 'n_estimators': 544.0, 'objective': 'reg:squarederror', 'reg_alpha': 90.0, 'reg_lambda': 0.7000000000000001, 'seed': 314159265, 'subsample': 0.7000000000000001, 'tree_method': 'hist'}\n",
      " 10%|█         | 10/100 [01:39<09:48,  6.54s/trial, best loss: 585.9114595455062]"
     ]
    },
    {
     "name": "stderr",
     "output_type": "stream",
     "text": [
      "/home/acz001/.local/lib/python3.9/site-packages/xgboost/core.py:122: UserWarning: ntree_limit is deprecated, use `iteration_range` or model slicing instead.\n",
      "  warnings.warn(\n",
      "\n"
     ]
    },
    {
     "name": "stdout",
     "output_type": "stream",
     "text": [
      "[0]\ttrain-rmse:864.23123\teval-rmse:854.07637                                     \n",
      "[66]\ttrain-rmse:283.53359\teval-rmse:614.72109                                    \n",
      "\\RMSE 600.3139985319517                                                          \n",
      "\n",
      "\n",
      "Training with params:                                                            \n",
      "{'colsample_bytree': 0.7000000000000001, 'eta': 0.07500000000000001, 'eval_metric': 'rmse', 'gamma': 0.9500000000000001, 'max_depth': 6, 'min_child_weight': 6.0, 'n_estimators': 501.0, 'objective': 'reg:squarederror', 'reg_alpha': 161.0, 'reg_lambda': 0.30000000000000004, 'seed': 314159265, 'subsample': 0.7000000000000001, 'tree_method': 'hist'}\n",
      "[0]\ttrain-rmse:928.60953\teval-rmse:911.15659                                     \n",
      " 11%|█         | 11/100 [02:15<22:40, 15.28s/trial, best loss: 585.9114595455062]"
     ]
    },
    {
     "name": "stderr",
     "output_type": "stream",
     "text": [
      "/home/acz001/.local/lib/python3.9/site-packages/xgboost/core.py:122: UserWarning: ntree_limit is deprecated, use `iteration_range` or model slicing instead.\n",
      "  warnings.warn(\n",
      "\n"
     ]
    },
    {
     "name": "stdout",
     "output_type": "stream",
     "text": [
      "[100]\ttrain-rmse:552.61984\teval-rmse:584.20167                                   \n",
      "[103]\ttrain-rmse:551.39501\teval-rmse:584.23746                                   \n",
      "\\RMSE 583.1674568160338                                                          \n",
      "\n",
      "\n",
      "Training with params:                                                            \n",
      "{'colsample_bytree': 0.75, 'eta': 0.325, 'eval_metric': 'rmse', 'gamma': 0.5, 'max_depth': 2, 'min_child_weight': 2.0, 'n_estimators': 596.0, 'objective': 'reg:squarederror', 'reg_alpha': 58.0, 'reg_lambda': 0.05, 'seed': 314159265, 'subsample': 0.6000000000000001, 'tree_method': 'hist'}\n",
      "[0]\ttrain-rmse:810.52740\teval-rmse:790.77161                                     \n",
      " 12%|█▏        | 12/100 [02:20<17:49, 12.15s/trial, best loss: 583.1674568160338]"
     ]
    },
    {
     "name": "stderr",
     "output_type": "stream",
     "text": [
      "/home/acz001/.local/lib/python3.9/site-packages/xgboost/core.py:122: UserWarning: ntree_limit is deprecated, use `iteration_range` or model slicing instead.\n",
      "  warnings.warn(\n",
      "\n"
     ]
    },
    {
     "name": "stdout",
     "output_type": "stream",
     "text": [
      "[90]\ttrain-rmse:608.56925\teval-rmse:602.75868                                    \n",
      "\\RMSE 599.2692065680674                                                          \n",
      "\n",
      "\n",
      "Training with params:                                                            \n",
      "{'colsample_bytree': 0.7000000000000001, 'eta': 0.17500000000000002, 'eval_metric': 'rmse', 'gamma': 0.5, 'max_depth': 2, 'min_child_weight': 4.0, 'n_estimators': 877.0, 'objective': 'reg:squarederror', 'reg_alpha': 174.0, 'reg_lambda': 0.55, 'seed': 314159265, 'subsample': 0.9500000000000001, 'tree_method': 'hist'}\n",
      "[0]\ttrain-rmse:879.08077\teval-rmse:860.52012                                     \n",
      " 13%|█▎        | 13/100 [02:21<12:58,  8.94s/trial, best loss: 583.1674568160338]"
     ]
    },
    {
     "name": "stderr",
     "output_type": "stream",
     "text": [
      "/home/acz001/.local/lib/python3.9/site-packages/xgboost/core.py:122: UserWarning: ntree_limit is deprecated, use `iteration_range` or model slicing instead.\n",
      "  warnings.warn(\n",
      "\n"
     ]
    },
    {
     "name": "stdout",
     "output_type": "stream",
     "text": [
      "[100]\ttrain-rmse:614.37895\teval-rmse:590.96857                                   \n",
      "[165]\ttrain-rmse:610.59006\teval-rmse:591.50745                                   \n",
      "\\RMSE 590.1251958207757                                                          \n",
      "\n",
      "\n",
      "Training with params:                                                            \n",
      "{'colsample_bytree': 0.6000000000000001, 'eta': 0.15000000000000002, 'eval_metric': 'rmse', 'gamma': 0.5, 'max_depth': 8, 'min_child_weight': 4.0, 'n_estimators': 742.0, 'objective': 'reg:squarederror', 'reg_alpha': 121.0, 'reg_lambda': 0.75, 'seed': 314159265, 'subsample': 0.9, 'tree_method': 'hist'}\n",
      " 14%|█▍        | 14/100 [02:24<10:06,  7.06s/trial, best loss: 583.1674568160338]"
     ]
    },
    {
     "name": "stderr",
     "output_type": "stream",
     "text": [
      "/home/acz001/.local/lib/python3.9/site-packages/xgboost/core.py:122: UserWarning: ntree_limit is deprecated, use `iteration_range` or model slicing instead.\n",
      "  warnings.warn(\n",
      "\n"
     ]
    },
    {
     "name": "stdout",
     "output_type": "stream",
     "text": [
      "[0]\ttrain-rmse:890.44464\teval-rmse:872.87021                                     \n",
      "[79]\ttrain-rmse:482.81381\teval-rmse:589.19787                                    \n",
      "\\RMSE 583.1523336549595                                                          \n",
      "\n",
      "\n",
      "Training with params:                                                            \n",
      "{'colsample_bytree': 0.7000000000000001, 'eta': 0.25, 'eval_metric': 'rmse', 'gamma': 0.5, 'max_depth': 8, 'min_child_weight': 4.0, 'n_estimators': 788.0, 'objective': 'reg:squarederror', 'reg_alpha': 83.0, 'reg_lambda': 1.0, 'seed': 314159265, 'subsample': 0.65, 'tree_method': 'hist'}\n",
      " 15%|█▌        | 15/100 [02:31<10:14,  7.23s/trial, best loss: 583.1523336549595]"
     ]
    },
    {
     "name": "stderr",
     "output_type": "stream",
     "text": [
      "/home/acz001/.local/lib/python3.9/site-packages/xgboost/core.py:122: UserWarning: ntree_limit is deprecated, use `iteration_range` or model slicing instead.\n",
      "  warnings.warn(\n",
      "\n"
     ]
    },
    {
     "name": "stdout",
     "output_type": "stream",
     "text": [
      "[0]\ttrain-rmse:842.76628\teval-rmse:824.22355                                     \n",
      "[61]\ttrain-rmse:429.76223\teval-rmse:619.67888                                    \n",
      "\\RMSE 592.1471975391104                                                          \n",
      "\n",
      "\n",
      "Training with params:                                                            \n",
      "{'colsample_bytree': 0.9500000000000001, 'eta': 0.25, 'eval_metric': 'rmse', 'gamma': 0.75, 'max_depth': 10, 'min_child_weight': 2.0, 'n_estimators': 560.0, 'objective': 'reg:squarederror', 'reg_alpha': 145.0, 'reg_lambda': 0.55, 'seed': 314159265, 'subsample': 0.55, 'tree_method': 'hist'}\n",
      " 16%|█▌        | 16/100 [02:39<10:13,  7.31s/trial, best loss: 583.1523336549595]"
     ]
    },
    {
     "name": "stderr",
     "output_type": "stream",
     "text": [
      "/home/acz001/.local/lib/python3.9/site-packages/xgboost/core.py:122: UserWarning: ntree_limit is deprecated, use `iteration_range` or model slicing instead.\n",
      "  warnings.warn(\n",
      "\n"
     ]
    },
    {
     "name": "stdout",
     "output_type": "stream",
     "text": [
      "[0]\ttrain-rmse:820.02818\teval-rmse:816.33406                                     \n",
      "[57]\ttrain-rmse:297.06518\teval-rmse:660.15753                                    \n",
      "\\RMSE 623.8643043661336                                                          \n",
      "\n",
      "\n",
      "Training with params:                                                            \n",
      "{'colsample_bytree': 0.7000000000000001, 'eta': 0.35000000000000003, 'eval_metric': 'rmse', 'gamma': 0.6000000000000001, 'max_depth': 6, 'min_child_weight': 5.0, 'n_estimators': 925.0, 'objective': 'reg:squarederror', 'reg_alpha': 59.0, 'reg_lambda': 0.05, 'seed': 314159265, 'subsample': 0.6000000000000001, 'tree_method': 'hist'}\n",
      "[0]\ttrain-rmse:798.77737\teval-rmse:779.09265                                     \n",
      " 17%|█▋        | 17/100 [03:00<15:46, 11.40s/trial, best loss: 583.1523336549595]"
     ]
    },
    {
     "name": "stderr",
     "output_type": "stream",
     "text": [
      "/home/acz001/.local/lib/python3.9/site-packages/xgboost/core.py:122: UserWarning: ntree_limit is deprecated, use `iteration_range` or model slicing instead.\n",
      "  warnings.warn(\n",
      "\n"
     ]
    },
    {
     "name": "stdout",
     "output_type": "stream",
     "text": [
      "[60]\ttrain-rmse:507.69740\teval-rmse:615.22786                                    \n",
      "\\RMSE 590.0699243703615                                                          \n",
      "\n",
      "\n",
      "Training with params:                                                            \n",
      "{'colsample_bytree': 0.7000000000000001, 'eta': 0.1, 'eval_metric': 'rmse', 'gamma': 0.8, 'max_depth': 6, 'min_child_weight': 6.0, 'n_estimators': 941.0, 'objective': 'reg:squarederror', 'reg_alpha': 87.0, 'reg_lambda': 0.05, 'seed': 314159265, 'subsample': 0.8, 'tree_method': 'hist'}\n",
      "[0]\ttrain-rmse:915.77705\teval-rmse:898.13489                                     \n",
      " 18%|█▊        | 18/100 [03:03<12:09,  8.90s/trial, best loss: 583.1523336549595]"
     ]
    },
    {
     "name": "stderr",
     "output_type": "stream",
     "text": [
      "/home/acz001/.local/lib/python3.9/site-packages/xgboost/core.py:122: UserWarning: ntree_limit is deprecated, use `iteration_range` or model slicing instead.\n",
      "  warnings.warn(\n",
      "\n"
     ]
    },
    {
     "name": "stdout",
     "output_type": "stream",
     "text": [
      "[100]\ttrain-rmse:541.01449\teval-rmse:588.78785                                   \n",
      "[127]\ttrain-rmse:528.28098\teval-rmse:590.00931                                   \n",
      "\\RMSE 587.8250160322822                                                          \n",
      "\n",
      "\n",
      "Training with params:                                                            \n",
      "{'colsample_bytree': 0.8500000000000001, 'eta': 0.47500000000000003, 'eval_metric': 'rmse', 'gamma': 0.6000000000000001, 'max_depth': 1, 'min_child_weight': 3.0, 'n_estimators': 927.0, 'objective': 'reg:squarederror', 'reg_alpha': 167.0, 'reg_lambda': 0.05, 'seed': 314159265, 'subsample': 1.0, 'tree_method': 'hist'}\n",
      "[0]\ttrain-rmse:750.77657\teval-rmse:728.87876                                     \n",
      " 19%|█▉        | 19/100 [03:09<10:49,  8.02s/trial, best loss: 583.1523336549595]"
     ]
    },
    {
     "name": "stderr",
     "output_type": "stream",
     "text": [
      "/home/acz001/.local/lib/python3.9/site-packages/xgboost/core.py:122: UserWarning: ntree_limit is deprecated, use `iteration_range` or model slicing instead.\n",
      "  warnings.warn(\n",
      "\n"
     ]
    },
    {
     "name": "stdout",
     "output_type": "stream",
     "text": [
      "[100]\ttrain-rmse:624.71628\teval-rmse:597.29479                                   \n",
      "[157]\ttrain-rmse:624.50832\teval-rmse:597.15014                                   \n",
      "\\RMSE 597.1144122398616                                                          \n",
      "\n",
      "\n",
      "Training with params:                                                            \n",
      "{'colsample_bytree': 0.5, 'eta': 0.05, 'eval_metric': 'rmse', 'gamma': 0.9500000000000001, 'max_depth': 13, 'min_child_weight': 1.0, 'n_estimators': 336.0, 'objective': 'reg:squarederror', 'reg_alpha': 129.0, 'reg_lambda': 0.2, 'seed': 314159265, 'subsample': 0.5, 'tree_method': 'hist'}\n",
      " 20%|██        | 20/100 [03:11<08:18,  6.23s/trial, best loss: 583.1523336549595]"
     ]
    },
    {
     "name": "stderr",
     "output_type": "stream",
     "text": [
      "/home/acz001/.local/lib/python3.9/site-packages/xgboost/core.py:122: UserWarning: ntree_limit is deprecated, use `iteration_range` or model slicing instead.\n",
      "  warnings.warn(\n",
      "\n"
     ]
    },
    {
     "name": "stdout",
     "output_type": "stream",
     "text": [
      "[0]\ttrain-rmse:940.95753\teval-rmse:924.80891                                     \n",
      "[100]\ttrain-rmse:412.50772\teval-rmse:592.55427                                   \n",
      "[126]\ttrain-rmse:377.57139\teval-rmse:593.24633                                   \n",
      "\\RMSE 591.7572879494012                                                          \n",
      "\n",
      "\n",
      "Training with params:                                                            \n",
      "{'colsample_bytree': 0.5, 'eta': 0.05, 'eval_metric': 'rmse', 'gamma': 0.9, 'max_depth': 4, 'min_child_weight': 5.0, 'n_estimators': 672.0, 'objective': 'reg:squarederror', 'reg_alpha': 122.0, 'reg_lambda': 0.75, 'seed': 314159265, 'subsample': 1.0, 'tree_method': 'hist'}\n",
      "[0]\ttrain-rmse:941.55133\teval-rmse:924.32615                                     \n",
      " 21%|██        | 21/100 [04:07<27:58, 21.25s/trial, best loss: 583.1523336549595]"
     ]
    },
    {
     "name": "stderr",
     "output_type": "stream",
     "text": [
      "/home/acz001/.local/lib/python3.9/site-packages/xgboost/core.py:122: UserWarning: ntree_limit is deprecated, use `iteration_range` or model slicing instead.\n",
      "  warnings.warn(\n",
      "\n"
     ]
    },
    {
     "name": "stdout",
     "output_type": "stream",
     "text": [
      "[100]\ttrain-rmse:610.40376\teval-rmse:591.54821                                   \n",
      "[200]\ttrain-rmse:596.67522\teval-rmse:587.50487                                   \n",
      "[300]\ttrain-rmse:589.97574\teval-rmse:586.83132                                   \n",
      "[392]\ttrain-rmse:582.97047\teval-rmse:586.87230                                   \n",
      "\\RMSE 586.7501946131032                                                          \n",
      "\n",
      "\n",
      "Training with params:                                                            \n",
      "{'colsample_bytree': 0.55, 'eta': 0.1, 'eval_metric': 'rmse', 'gamma': 0.8500000000000001, 'max_depth': 7, 'min_child_weight': 6.0, 'n_estimators': 689.0, 'objective': 'reg:squarederror', 'reg_alpha': 109.0, 'reg_lambda': 0.2, 'seed': 314159265, 'subsample': 0.9, 'tree_method': 'hist'}\n",
      " 22%|██▏       | 22/100 [04:16<22:34, 17.37s/trial, best loss: 583.1523336549595]"
     ]
    },
    {
     "name": "stderr",
     "output_type": "stream",
     "text": [
      "/home/acz001/.local/lib/python3.9/site-packages/xgboost/core.py:122: UserWarning: ntree_limit is deprecated, use `iteration_range` or model slicing instead.\n",
      "  warnings.warn(\n",
      "\n"
     ]
    },
    {
     "name": "stdout",
     "output_type": "stream",
     "text": [
      "[0]\ttrain-rmse:915.69701\teval-rmse:898.22629                                     \n",
      "[94]\ttrain-rmse:538.94474\teval-rmse:582.58114                                    \n",
      "\\RMSE 581.1641261074896                                                          \n",
      "\n",
      "\n",
      "Training with params:                                                            \n",
      "{'colsample_bytree': 0.55, 'eta': 0.125, 'eval_metric': 'rmse', 'gamma': 0.8500000000000001, 'max_depth': 7, 'min_child_weight': 5.0, 'n_estimators': 681.0, 'objective': 'reg:squarederror', 'reg_alpha': 106.0, 'reg_lambda': 0.45, 'seed': 314159265, 'subsample': 0.9500000000000001, 'tree_method': 'hist'}\n",
      " 23%|██▎       | 23/100 [04:21<17:49, 13.89s/trial, best loss: 581.1641261074896]"
     ]
    },
    {
     "name": "stderr",
     "output_type": "stream",
     "text": [
      "/home/acz001/.local/lib/python3.9/site-packages/xgboost/core.py:122: UserWarning: ntree_limit is deprecated, use `iteration_range` or model slicing instead.\n",
      "  warnings.warn(\n",
      "\n"
     ]
    },
    {
     "name": "stdout",
     "output_type": "stream",
     "text": [
      "[0]\ttrain-rmse:903.03445\teval-rmse:885.39531                                     \n",
      "[92]\ttrain-rmse:528.62055\teval-rmse:584.66876                                    \n",
      "\\RMSE 583.3753228495011                                                          \n",
      "\n",
      "\n",
      "Training with params:                                                            \n",
      "{'colsample_bytree': 0.55, 'eta': 0.025, 'eval_metric': 'rmse', 'gamma': 0.8500000000000001, 'max_depth': 8, 'min_child_weight': 1.0, 'n_estimators': 696.0, 'objective': 'reg:squarederror', 'reg_alpha': 129.0, 'reg_lambda': 0.75, 'seed': 314159265, 'subsample': 0.9, 'tree_method': 'hist'}\n",
      " 24%|██▍       | 24/100 [04:27<14:33, 11.49s/trial, best loss: 581.1641261074896]"
     ]
    },
    {
     "name": "stderr",
     "output_type": "stream",
     "text": [
      "/home/acz001/.local/lib/python3.9/site-packages/xgboost/core.py:122: UserWarning: ntree_limit is deprecated, use `iteration_range` or model slicing instead.\n",
      "  warnings.warn(\n",
      "\n"
     ]
    },
    {
     "name": "stdout",
     "output_type": "stream",
     "text": [
      "[0]\ttrain-rmse:954.34236\teval-rmse:937.70273                                     \n",
      "[100]\ttrain-rmse:568.28567\teval-rmse:594.55793                                   \n",
      "[200]\ttrain-rmse:525.61908\teval-rmse:586.94056                                   \n",
      "[300]\ttrain-rmse:496.13894\teval-rmse:586.59018                                   \n",
      "[339]\ttrain-rmse:485.78713\teval-rmse:586.57850                                   \n",
      "\\RMSE 586.2384433583996                                                          \n",
      "\n",
      "\n",
      "Training with params:                                                            \n",
      "{'colsample_bytree': 0.6000000000000001, 'eta': 0.125, 'eval_metric': 'rmse', 'gamma': 0.8, 'max_depth': 7, 'min_child_weight': 6.0, 'n_estimators': 373.0, 'objective': 'reg:squarederror', 'reg_alpha': 117.0, 'reg_lambda': 0.2, 'seed': 314159265, 'subsample': 0.8500000000000001, 'tree_method': 'hist'}\n",
      " 25%|██▌       | 25/100 [04:59<21:54, 17.53s/trial, best loss: 581.1641261074896]"
     ]
    },
    {
     "name": "stderr",
     "output_type": "stream",
     "text": [
      "/home/acz001/.local/lib/python3.9/site-packages/xgboost/core.py:122: UserWarning: ntree_limit is deprecated, use `iteration_range` or model slicing instead.\n",
      "  warnings.warn(\n",
      "\n"
     ]
    },
    {
     "name": "stdout",
     "output_type": "stream",
     "text": [
      "[0]\ttrain-rmse:903.05015\teval-rmse:885.39705                                     \n",
      "[100]\ttrain-rmse:520.87659\teval-rmse:584.33091                                   \n",
      "[118]\ttrain-rmse:510.94527\teval-rmse:586.05156                                   \n",
      "\\RMSE 581.449343960037                                                           \n",
      "\n",
      "\n",
      "Training with params:                                                            \n",
      "{'colsample_bytree': 0.55, 'eta': 0.225, 'eval_metric': 'rmse', 'gamma': 0.8, 'max_depth': 7, 'min_child_weight': 6.0, 'n_estimators': 405.0, 'objective': 'reg:squarederror', 'reg_alpha': 100.0, 'reg_lambda': 0.15000000000000002, 'seed': 314159265, 'subsample': 0.9500000000000001, 'tree_method': 'hist'}\n",
      " 26%|██▌       | 26/100 [05:06<17:43, 14.38s/trial, best loss: 581.1641261074896]"
     ]
    },
    {
     "name": "stderr",
     "output_type": "stream",
     "text": [
      "/home/acz001/.local/lib/python3.9/site-packages/xgboost/core.py:122: UserWarning: ntree_limit is deprecated, use `iteration_range` or model slicing instead.\n",
      "  warnings.warn(\n",
      "\n"
     ]
    },
    {
     "name": "stdout",
     "output_type": "stream",
     "text": [
      "[0]\ttrain-rmse:854.52219\teval-rmse:836.11972                                     \n",
      "[65]\ttrain-rmse:516.98898\teval-rmse:594.14184                                    \n",
      "\\RMSE 586.6044980309787                                                          \n",
      "\n",
      "\n",
      "Training with params:                                                            \n",
      "{'colsample_bytree': 0.6000000000000001, 'eta': 0.025, 'eval_metric': 'rmse', 'gamma': 0.9, 'max_depth': 7, 'min_child_weight': 6.0, 'n_estimators': 285.0, 'objective': 'reg:squarederror', 'reg_alpha': 137.0, 'reg_lambda': 0.2, 'seed': 314159265, 'subsample': 0.8500000000000001, 'tree_method': 'hist'}\n",
      "[0]\ttrain-rmse:954.58470\teval-rmse:937.61642                                     \n",
      " 27%|██▋       | 27/100 [05:10<13:49, 11.37s/trial, best loss: 581.1641261074896]"
     ]
    },
    {
     "name": "stderr",
     "output_type": "stream",
     "text": [
      "/home/acz001/.local/lib/python3.9/site-packages/xgboost/core.py:122: UserWarning: ntree_limit is deprecated, use `iteration_range` or model slicing instead.\n",
      "  warnings.warn(\n",
      "\n"
     ]
    },
    {
     "name": "stdout",
     "output_type": "stream",
     "text": [
      "[100]\ttrain-rmse:597.95381\teval-rmse:590.57583                                   \n",
      "[200]\ttrain-rmse:564.39572\teval-rmse:582.36496                                   \n",
      "[287]\ttrain-rmse:546.93336\teval-rmse:582.91348                                   \n",
      "\\RMSE 582.2379637522504                                                          \n",
      "\n",
      "\n",
      "Training with params:                                                            \n",
      "{'colsample_bytree': 0.6000000000000001, 'eta': 0.2, 'eval_metric': 'rmse', 'gamma': 0.8, 'max_depth': 7, 'min_child_weight': 5.0, 'n_estimators': 399.0, 'objective': 'reg:squarederror', 'reg_alpha': 40.0, 'reg_lambda': 0.4, 'seed': 314159265, 'subsample': 0.8, 'tree_method': 'hist'}\n",
      " 28%|██▊       | 28/100 [05:27<15:26, 12.87s/trial, best loss: 581.1641261074896]"
     ]
    },
    {
     "name": "stderr",
     "output_type": "stream",
     "text": [
      "/home/acz001/.local/lib/python3.9/site-packages/xgboost/core.py:122: UserWarning: ntree_limit is deprecated, use `iteration_range` or model slicing instead.\n",
      "  warnings.warn(\n",
      "\n"
     ]
    },
    {
     "name": "stdout",
     "output_type": "stream",
     "text": [
      "[0]\ttrain-rmse:866.39222\teval-rmse:848.33626                                     \n",
      "[73]\ttrain-rmse:518.42586\teval-rmse:592.07030                                    \n",
      "\\RMSE 585.5129625599684                                                          \n",
      "\n",
      "\n",
      "Training with params:                                                            \n",
      "{'colsample_bytree': 0.5, 'eta': 0.1, 'eval_metric': 'rmse', 'gamma': 0.9, 'max_depth': 7, 'min_child_weight': 6.0, 'n_estimators': 227.0, 'objective': 'reg:squarederror', 'reg_alpha': 117.0, 'reg_lambda': 0.15000000000000002, 'seed': 314159265, 'subsample': 0.8500000000000001, 'tree_method': 'hist'}\n",
      " 29%|██▉       | 29/100 [05:31<12:20, 10.42s/trial, best loss: 581.1641261074896]"
     ]
    },
    {
     "name": "stderr",
     "output_type": "stream",
     "text": [
      "/home/acz001/.local/lib/python3.9/site-packages/xgboost/core.py:122: UserWarning: ntree_limit is deprecated, use `iteration_range` or model slicing instead.\n",
      "  warnings.warn(\n",
      "\n"
     ]
    },
    {
     "name": "stdout",
     "output_type": "stream",
     "text": [
      "[0]\ttrain-rmse:915.67694\teval-rmse:898.20548                                     \n",
      "[100]\ttrain-rmse:550.32532\teval-rmse:585.27946                                   \n",
      "[141]\ttrain-rmse:530.24307\teval-rmse:585.30278                                   \n",
      "\\RMSE 585.0309686082046                                                          \n",
      "\n",
      "\n",
      "Training with params:                                                            \n",
      "{'colsample_bytree': 0.65, 'eta': 0.125, 'eval_metric': 'rmse', 'gamma': 1.0, 'max_depth': 4, 'min_child_weight': 5.0, 'n_estimators': 358.0, 'objective': 'reg:squarederror', 'reg_alpha': 112.0, 'reg_lambda': 0.25, 'seed': 314159265, 'subsample': 0.75, 'tree_method': 'hist'}\n",
      "[0]\ttrain-rmse:903.39590\teval-rmse:885.44259                                     \n",
      " 30%|███       | 30/100 [05:39<11:07,  9.53s/trial, best loss: 581.1641261074896]"
     ]
    },
    {
     "name": "stderr",
     "output_type": "stream",
     "text": [
      "/home/acz001/.local/lib/python3.9/site-packages/xgboost/core.py:122: UserWarning: ntree_limit is deprecated, use `iteration_range` or model slicing instead.\n",
      "  warnings.warn(\n",
      "\n"
     ]
    },
    {
     "name": "stdout",
     "output_type": "stream",
     "text": [
      "[100]\ttrain-rmse:589.59676\teval-rmse:588.12229                                   \n",
      "[126]\ttrain-rmse:585.58453\teval-rmse:588.68212                                   \n",
      "\\RMSE 586.6257553423035                                                          \n",
      "\n",
      "\n",
      "Training with params:                                                            \n",
      "{'colsample_bytree': 0.55, 'eta': 0.2, 'eval_metric': 'rmse', 'gamma': 0.8, 'max_depth': 7, 'min_child_weight': 6.0, 'n_estimators': 260.0, 'objective': 'reg:squarederror', 'reg_alpha': 99.0, 'reg_lambda': 0.45, 'seed': 314159265, 'subsample': 0.8500000000000001, 'tree_method': 'hist'}\n",
      " 31%|███       | 31/100 [05:42<08:44,  7.60s/trial, best loss: 581.1641261074896]"
     ]
    },
    {
     "name": "stderr",
     "output_type": "stream",
     "text": [
      "/home/acz001/.local/lib/python3.9/site-packages/xgboost/core.py:122: UserWarning: ntree_limit is deprecated, use `iteration_range` or model slicing instead.\n",
      "  warnings.warn(\n",
      "\n"
     ]
    },
    {
     "name": "stdout",
     "output_type": "stream",
     "text": [
      "[0]\ttrain-rmse:866.36424\teval-rmse:848.16224                                     \n",
      "[75]\ttrain-rmse:516.93797\teval-rmse:593.24097                                    \n",
      "\\RMSE 586.1180409013037                                                          \n",
      "\n",
      "\n",
      "Training with params:                                                            \n",
      "{'colsample_bytree': 0.65, 'eta': 0.05, 'eval_metric': 'rmse', 'gamma': 1.0, 'max_depth': 11, 'min_child_weight': 5.0, 'n_estimators': 854.0, 'objective': 'reg:squarederror', 'reg_alpha': 137.0, 'reg_lambda': 0.15000000000000002, 'seed': 314159265, 'subsample': 0.9, 'tree_method': 'hist'}\n",
      " 32%|███▏      | 32/100 [05:47<07:37,  6.73s/trial, best loss: 581.1641261074896]"
     ]
    },
    {
     "name": "stderr",
     "output_type": "stream",
     "text": [
      "/home/acz001/.local/lib/python3.9/site-packages/xgboost/core.py:122: UserWarning: ntree_limit is deprecated, use `iteration_range` or model slicing instead.\n",
      "  warnings.warn(\n",
      "\n"
     ]
    },
    {
     "name": "stdout",
     "output_type": "stream",
     "text": [
      "[0]\ttrain-rmse:941.18090\teval-rmse:924.32205                                     \n",
      "[100]\ttrain-rmse:438.36502\teval-rmse:587.52738                                   \n",
      "[133]\ttrain-rmse:405.30266\teval-rmse:589.50143                                   \n",
      "\\RMSE 586.2676854690843                                                          \n",
      "\n",
      "\n",
      "Training with params:                                                            \n",
      "{'colsample_bytree': 0.6000000000000001, 'eta': 0.275, 'eval_metric': 'rmse', 'gamma': 0.8500000000000001, 'max_depth': 9, 'min_child_weight': 6.0, 'n_estimators': 629.0, 'objective': 'reg:squarederror', 'reg_alpha': 71.0, 'reg_lambda': 0.0, 'seed': 314159265, 'subsample': 1.0, 'tree_method': 'hist'}\n",
      " 33%|███▎      | 33/100 [06:35<21:30, 19.26s/trial, best loss: 581.1641261074896]"
     ]
    },
    {
     "name": "stderr",
     "output_type": "stream",
     "text": [
      "/home/acz001/.local/lib/python3.9/site-packages/xgboost/core.py:122: UserWarning: ntree_limit is deprecated, use `iteration_range` or model slicing instead.\n",
      "  warnings.warn(\n",
      "\n"
     ]
    },
    {
     "name": "stdout",
     "output_type": "stream",
     "text": [
      "[0]\ttrain-rmse:830.67270\teval-rmse:812.45426                                     \n",
      "[61]\ttrain-rmse:424.56671\teval-rmse:610.10696                                    \n",
      "\\RMSE 587.7808898183201                                                          \n",
      "\n",
      "\n",
      "Training with params:                                                            \n",
      "{'colsample_bytree': 0.8, 'eta': 0.07500000000000001, 'eval_metric': 'rmse', 'gamma': 0.75, 'max_depth': 13, 'min_child_weight': 5.0, 'n_estimators': 446.0, 'objective': 'reg:squarederror', 'reg_alpha': 97.0, 'reg_lambda': 0.1, 'seed': 314159265, 'subsample': 0.9500000000000001, 'tree_method': 'hist'}\n",
      " 34%|███▍      | 34/100 [06:44<17:52, 16.26s/trial, best loss: 581.1641261074896]"
     ]
    },
    {
     "name": "stderr",
     "output_type": "stream",
     "text": [
      "/home/acz001/.local/lib/python3.9/site-packages/xgboost/core.py:122: UserWarning: ntree_limit is deprecated, use `iteration_range` or model slicing instead.\n",
      "  warnings.warn(\n",
      "\n"
     ]
    },
    {
     "name": "stdout",
     "output_type": "stream",
     "text": [
      "[0]\ttrain-rmse:920.85409\teval-rmse:908.57061                                     \n",
      "[89]\ttrain-rmse:283.12220\teval-rmse:598.20958                                    \n",
      "\\RMSE 591.2286499874696                                                          \n",
      "\n",
      "\n",
      "Training with params:                                                            \n",
      "{'colsample_bytree': 0.5, 'eta': 0.15000000000000002, 'eval_metric': 'rmse', 'gamma': 0.65, 'max_depth': 1, 'min_child_weight': 6.0, 'n_estimators': 214.0, 'objective': 'reg:squarederror', 'reg_alpha': 146.0, 'reg_lambda': 0.25, 'seed': 314159265, 'subsample': 0.8, 'tree_method': 'hist'}\n",
      "[0]\ttrain-rmse:891.57226\teval-rmse:873.16150                                     \n",
      " 35%|███▌      | 35/100 [08:13<41:01, 37.87s/trial, best loss: 581.1641261074896]"
     ]
    },
    {
     "name": "stderr",
     "output_type": "stream",
     "text": [
      "/home/acz001/.local/lib/python3.9/site-packages/xgboost/core.py:122: UserWarning: ntree_limit is deprecated, use `iteration_range` or model slicing instead.\n",
      "  warnings.warn(\n",
      "\n"
     ]
    },
    {
     "name": "stdout",
     "output_type": "stream",
     "text": [
      "[100]\ttrain-rmse:629.13144\teval-rmse:599.57103                                   \n",
      "[200]\ttrain-rmse:627.55579\teval-rmse:597.33285                                   \n",
      "[247]\ttrain-rmse:627.30010\teval-rmse:597.58992                                   \n",
      "\\RMSE 597.3174681936783                                                          \n",
      "\n",
      "\n",
      "Training with params:                                                            \n",
      "{'colsample_bytree': 0.8, 'eta': 0.4, 'eval_metric': 'rmse', 'gamma': 0.7000000000000001, 'max_depth': 5, 'min_child_weight': 5.0, 'n_estimators': 103.0, 'objective': 'reg:squarederror', 'reg_alpha': 128.0, 'reg_lambda': 0.4, 'seed': 314159265, 'subsample': 0.8500000000000001, 'tree_method': 'hist'}\n",
      "[0]\ttrain-rmse:767.99767\teval-rmse:749.67000                                     \n",
      " 36%|███▌      | 36/100 [08:15<29:08, 27.31s/trial, best loss: 581.1641261074896]"
     ]
    },
    {
     "name": "stderr",
     "output_type": "stream",
     "text": [
      "/home/acz001/.local/lib/python3.9/site-packages/xgboost/core.py:122: UserWarning: ntree_limit is deprecated, use `iteration_range` or model slicing instead.\n",
      "  warnings.warn(\n",
      "\n"
     ]
    },
    {
     "name": "stdout",
     "output_type": "stream",
     "text": [
      "[58]\ttrain-rmse:534.33327\teval-rmse:612.14050                                    \n",
      "\\RMSE 598.1515272804488                                                          \n",
      "\n",
      "\n",
      "Training with params:                                                            \n",
      "{'colsample_bytree': 0.55, 'eta': 0.30000000000000004, 'eval_metric': 'rmse', 'gamma': 0.8500000000000001, 'max_depth': 12, 'min_child_weight': 6.0, 'n_estimators': 105.0, 'objective': 'reg:squarederror', 'reg_alpha': 43.0, 'reg_lambda': 0.30000000000000004, 'seed': 314159265, 'subsample': 0.9, 'tree_method': 'hist'}\n",
      " 37%|███▋      | 37/100 [08:18<20:46, 19.78s/trial, best loss: 581.1641261074896]"
     ]
    },
    {
     "name": "stderr",
     "output_type": "stream",
     "text": [
      "/home/acz001/.local/lib/python3.9/site-packages/xgboost/core.py:122: UserWarning: ntree_limit is deprecated, use `iteration_range` or model slicing instead.\n",
      "  warnings.warn(\n",
      "\n"
     ]
    },
    {
     "name": "stdout",
     "output_type": "stream",
     "text": [
      "[0]\ttrain-rmse:818.81723\teval-rmse:801.89752                                     \n",
      "[60]\ttrain-rmse:279.56607\teval-rmse:638.51634                                    \n",
      "\\RMSE 605.1643282279989                                                          \n",
      "\n",
      "\n",
      "Training with params:                                                            \n",
      "{'colsample_bytree': 0.65, 'eta': 0.225, 'eval_metric': 'rmse', 'gamma': 0.9500000000000001, 'max_depth': 7, 'min_child_weight': 4.0, 'n_estimators': 736.0, 'objective': 'reg:squarederror', 'reg_alpha': 78.0, 'reg_lambda': 0.5, 'seed': 314159265, 'subsample': 0.75, 'tree_method': 'hist'}\n",
      " 38%|███▊      | 38/100 [08:51<24:47, 23.98s/trial, best loss: 581.1641261074896]"
     ]
    },
    {
     "name": "stderr",
     "output_type": "stream",
     "text": [
      "/home/acz001/.local/lib/python3.9/site-packages/xgboost/core.py:122: UserWarning: ntree_limit is deprecated, use `iteration_range` or model slicing instead.\n",
      "  warnings.warn(\n",
      "\n"
     ]
    },
    {
     "name": "stdout",
     "output_type": "stream",
     "text": [
      "[0]\ttrain-rmse:854.46069\teval-rmse:836.13709                                     \n",
      "[66]\ttrain-rmse:495.11333\teval-rmse:605.77163                                    \n",
      "\\RMSE 589.7249175862312                                                          \n",
      "\n",
      "\n",
      "Training with params:                                                            \n",
      "{'colsample_bytree': 0.8, 'eta': 0.125, 'eval_metric': 'rmse', 'gamma': 0.7000000000000001, 'max_depth': 10, 'min_child_weight': 2.0, 'n_estimators': 998.0, 'objective': 'reg:squarederror', 'reg_alpha': 157.0, 'reg_lambda': 0.65, 'seed': 314159265, 'subsample': 0.8, 'tree_method': 'hist'}\n",
      " 39%|███▉      | 39/100 [08:56<18:36, 18.30s/trial, best loss: 581.1641261074896]"
     ]
    },
    {
     "name": "stderr",
     "output_type": "stream",
     "text": [
      "/home/acz001/.local/lib/python3.9/site-packages/xgboost/core.py:122: UserWarning: ntree_limit is deprecated, use `iteration_range` or model slicing instead.\n",
      "  warnings.warn(\n",
      "\n"
     ]
    },
    {
     "name": "stdout",
     "output_type": "stream",
     "text": [
      "[0]\ttrain-rmse:895.53460\teval-rmse:881.90754                                     \n",
      "[69]\ttrain-rmse:368.46348\teval-rmse:602.88211                                    \n",
      "\\RMSE 590.5132627695908                                                          \n",
      "\n",
      "\n",
      "Training with params:                                                            \n",
      "{'colsample_bytree': 0.65, 'eta': 0.07500000000000001, 'eval_metric': 'rmse', 'gamma': 0.65, 'max_depth': 9, 'min_child_weight': 6.0, 'n_estimators': 511.0, 'objective': 'reg:squarederror', 'reg_alpha': 114.0, 'reg_lambda': 0.25, 'seed': 314159265, 'subsample': 0.9500000000000001, 'tree_method': 'hist'}\n",
      " 40%|████      | 40/100 [09:17<18:55, 18.92s/trial, best loss: 581.1641261074896]"
     ]
    },
    {
     "name": "stderr",
     "output_type": "stream",
     "text": [
      "/home/acz001/.local/lib/python3.9/site-packages/xgboost/core.py:122: UserWarning: ntree_limit is deprecated, use `iteration_range` or model slicing instead.\n",
      "  warnings.warn(\n",
      "\n"
     ]
    },
    {
     "name": "stdout",
     "output_type": "stream",
     "text": [
      "[0]\ttrain-rmse:928.24642\teval-rmse:911.18291                                     \n",
      "[100]\ttrain-rmse:474.52669\teval-rmse:584.22579                                   \n",
      "[138]\ttrain-rmse:437.90358\teval-rmse:586.54930                                   \n",
      "\\RMSE 583.8975266839175                                                          \n",
      "\n",
      "\n",
      "Training with params:                                                            \n",
      "{'colsample_bytree': 0.6000000000000001, 'eta': 0.225, 'eval_metric': 'rmse', 'gamma': 0.9, 'max_depth': 12, 'min_child_weight': 4.0, 'n_estimators': 629.0, 'objective': 'reg:squarederror', 'reg_alpha': 138.0, 'reg_lambda': 0.35000000000000003, 'seed': 314159265, 'subsample': 0.75, 'tree_method': 'hist'}\n",
      " 41%|████      | 41/100 [09:37<18:57, 19.27s/trial, best loss: 581.1641261074896]"
     ]
    },
    {
     "name": "stderr",
     "output_type": "stream",
     "text": [
      "/home/acz001/.local/lib/python3.9/site-packages/xgboost/core.py:122: UserWarning: ntree_limit is deprecated, use `iteration_range` or model slicing instead.\n",
      "  warnings.warn(\n",
      "\n"
     ]
    },
    {
     "name": "stdout",
     "output_type": "stream",
     "text": [
      "[0]\ttrain-rmse:853.54647\teval-rmse:836.58392                                     \n",
      "[61]\ttrain-rmse:315.78258\teval-rmse:629.81189                                    \n",
      "\\RMSE 604.7204527380968                                                          \n",
      "\n",
      "\n",
      "Training with params:                                                            \n",
      "{'colsample_bytree': 0.5, 'eta': 0.375, 'eval_metric': 'rmse', 'gamma': 0.8, 'max_depth': 3, 'min_child_weight': 5.0, 'n_estimators': 329.0, 'objective': 'reg:squarederror', 'reg_alpha': 93.0, 'reg_lambda': 0.0, 'seed': 314159265, 'subsample': 0.9, 'tree_method': 'hist'}\n",
      "[0]\ttrain-rmse:789.44706\teval-rmse:769.11285                                     \n",
      " 42%|████▏     | 42/100 [10:11<22:54, 23.70s/trial, best loss: 581.1641261074896]"
     ]
    },
    {
     "name": "stderr",
     "output_type": "stream",
     "text": [
      "/home/acz001/.local/lib/python3.9/site-packages/xgboost/core.py:122: UserWarning: ntree_limit is deprecated, use `iteration_range` or model slicing instead.\n",
      "  warnings.warn(\n",
      "\n"
     ]
    },
    {
     "name": "stdout",
     "output_type": "stream",
     "text": [
      "[100]\ttrain-rmse:601.26275\teval-rmse:589.26936                                   \n",
      "[126]\ttrain-rmse:597.78970\teval-rmse:590.10845                                   \n",
      "\\RMSE 587.5927777787533                                                          \n",
      "\n",
      "\n",
      "Training with params:                                                            \n",
      "{'colsample_bytree': 0.9, 'eta': 0.2, 'eval_metric': 'rmse', 'gamma': 0.75, 'max_depth': 5, 'min_child_weight': 3.0, 'n_estimators': 434.0, 'objective': 'reg:squarederror', 'reg_alpha': 107.0, 'reg_lambda': 0.1, 'seed': 314159265, 'subsample': 0.8500000000000001, 'tree_method': 'hist'}\n",
      "[0]\ttrain-rmse:859.07277\teval-rmse:837.19112                                     \n",
      " 43%|████▎     | 43/100 [10:13<16:25, 17.29s/trial, best loss: 581.1641261074896]"
     ]
    },
    {
     "name": "stderr",
     "output_type": "stream",
     "text": [
      "/home/acz001/.local/lib/python3.9/site-packages/xgboost/core.py:122: UserWarning: ntree_limit is deprecated, use `iteration_range` or model slicing instead.\n",
      "  warnings.warn(\n",
      "\n"
     ]
    },
    {
     "name": "stdout",
     "output_type": "stream",
     "text": [
      "[70]\ttrain-rmse:548.86664\teval-rmse:596.61107                                    \n",
      "\\RMSE 589.229885001009                                                           \n",
      "\n",
      "\n",
      "Training with params:                                                            \n",
      "{'colsample_bytree': 0.55, 'eta': 0.1, 'eval_metric': 'rmse', 'gamma': 1.0, 'max_depth': 11, 'min_child_weight': 3.0, 'n_estimators': 817.0, 'objective': 'reg:squarederror', 'reg_alpha': 66.0, 'reg_lambda': 0.2, 'seed': 314159265, 'subsample': 1.0, 'tree_method': 'hist'}\n",
      " 44%|████▍     | 44/100 [10:16<12:06, 12.97s/trial, best loss: 581.1641261074896]"
     ]
    },
    {
     "name": "stderr",
     "output_type": "stream",
     "text": [
      "/home/acz001/.local/lib/python3.9/site-packages/xgboost/core.py:122: UserWarning: ntree_limit is deprecated, use `iteration_range` or model slicing instead.\n",
      "  warnings.warn(\n",
      "\n"
     ]
    },
    {
     "name": "stdout",
     "output_type": "stream",
     "text": [
      "[0]\ttrain-rmse:914.76274\teval-rmse:898.26352                                     \n",
      "[83]\ttrain-rmse:384.57701\teval-rmse:591.68343                                    \n",
      "\\RMSE 584.4438108598838                                                          \n",
      "\n",
      "\n",
      "Training with params:                                                            \n",
      "{'colsample_bytree': 0.6000000000000001, 'eta': 0.17500000000000002, 'eval_metric': 'rmse', 'gamma': 0.9, 'max_depth': 7, 'min_child_weight': 2.0, 'n_estimators': 143.0, 'objective': 'reg:squarederror', 'reg_alpha': 81.0, 'reg_lambda': 0.4, 'seed': 314159265, 'subsample': 0.65, 'tree_method': 'hist'}\n",
      " 45%|████▌     | 45/100 [10:44<16:03, 17.51s/trial, best loss: 581.1641261074896]"
     ]
    },
    {
     "name": "stderr",
     "output_type": "stream",
     "text": [
      "/home/acz001/.local/lib/python3.9/site-packages/xgboost/core.py:122: UserWarning: ntree_limit is deprecated, use `iteration_range` or model slicing instead.\n",
      "  warnings.warn(\n",
      "\n"
     ]
    },
    {
     "name": "stdout",
     "output_type": "stream",
     "text": [
      "[0]\ttrain-rmse:878.04842\teval-rmse:860.70263                                     \n",
      "[72]\ttrain-rmse:507.92194\teval-rmse:588.57177                                    \n",
      "\\RMSE 584.8317780435038                                                          \n",
      "\n",
      "\n",
      "Training with params:                                                            \n",
      "{'colsample_bytree': 0.75, 'eta': 0.15000000000000002, 'eval_metric': 'rmse', 'gamma': 0.7000000000000001, 'max_depth': 2, 'min_child_weight': 4.0, 'n_estimators': 740.0, 'objective': 'reg:squarederror', 'reg_alpha': 150.0, 'reg_lambda': 0.35000000000000003, 'seed': 314159265, 'subsample': 0.9500000000000001, 'tree_method': 'hist'}\n",
      "[0]\ttrain-rmse:891.22648\teval-rmse:872.92636                                     \n",
      " 46%|████▌     | 46/100 [10:49<12:25, 13.80s/trial, best loss: 581.1641261074896]"
     ]
    },
    {
     "name": "stderr",
     "output_type": "stream",
     "text": [
      "/home/acz001/.local/lib/python3.9/site-packages/xgboost/core.py:122: UserWarning: ntree_limit is deprecated, use `iteration_range` or model slicing instead.\n",
      "  warnings.warn(\n",
      "\n"
     ]
    },
    {
     "name": "stdout",
     "output_type": "stream",
     "text": [
      "[100]\ttrain-rmse:615.70819\teval-rmse:591.81469                                   \n",
      "[163]\ttrain-rmse:611.87239\teval-rmse:593.05886                                   \n",
      "\\RMSE 591.445679300086                                                           \n",
      "\n",
      "\n",
      "Training with params:                                                            \n",
      "{'colsample_bytree': 0.65, 'eta': 0.025, 'eval_metric': 'rmse', 'gamma': 0.75, 'max_depth': 13, 'min_child_weight': 6.0, 'n_estimators': 505.0, 'objective': 'reg:squarederror', 'reg_alpha': 166.0, 'reg_lambda': 0.6000000000000001, 'seed': 314159265, 'subsample': 0.8, 'tree_method': 'hist'}\n",
      " 47%|████▋     | 47/100 [10:52<09:19, 10.55s/trial, best loss: 581.1641261074896]"
     ]
    },
    {
     "name": "stderr",
     "output_type": "stream",
     "text": [
      "/home/acz001/.local/lib/python3.9/site-packages/xgboost/core.py:122: UserWarning: ntree_limit is deprecated, use `iteration_range` or model slicing instead.\n",
      "  warnings.warn(\n",
      "\n"
     ]
    },
    {
     "name": "stdout",
     "output_type": "stream",
     "text": [
      "[0]\ttrain-rmse:954.45565\teval-rmse:937.65017                                     \n",
      "[100]\ttrain-rmse:495.14102\teval-rmse:588.87754                                   \n",
      "[200]\ttrain-rmse:397.49603\teval-rmse:585.47673                                   \n",
      "[211]\ttrain-rmse:388.40649\teval-rmse:585.93104                                   \n",
      "\\RMSE 584.213999452634                                                           \n",
      "\n",
      "\n",
      "Training with params:                                                            \n",
      "{'colsample_bytree': 0.9500000000000001, 'eta': 0.30000000000000004, 'eval_metric': 'rmse', 'gamma': 0.9500000000000001, 'max_depth': 1, 'min_child_weight': 5.0, 'n_estimators': 608.0, 'objective': 'reg:squarederror', 'reg_alpha': 123.0, 'reg_lambda': 0.1, 'seed': 314159265, 'subsample': 0.9, 'tree_method': 'hist'}\n",
      "[0]\ttrain-rmse:821.02646\teval-rmse:801.09417                                     \n",
      " 48%|████▊     | 48/100 [13:34<48:24, 55.85s/trial, best loss: 581.1641261074896]"
     ]
    },
    {
     "name": "stderr",
     "output_type": "stream",
     "text": [
      "/home/acz001/.local/lib/python3.9/site-packages/xgboost/core.py:122: UserWarning: ntree_limit is deprecated, use `iteration_range` or model slicing instead.\n",
      "  warnings.warn(\n",
      "\n"
     ]
    },
    {
     "name": "stdout",
     "output_type": "stream",
     "text": [
      "[100]\ttrain-rmse:626.99100\teval-rmse:597.25685                                   \n",
      "[200]\ttrain-rmse:626.86063\teval-rmse:597.00707                                   \n",
      "[235]\ttrain-rmse:626.81788\teval-rmse:597.07303                                   \n",
      "\\RMSE 596.7143021175577                                                          \n",
      "\n",
      "\n",
      "Training with params:                                                            \n",
      "{'colsample_bytree': 0.5, 'eta': 0.07500000000000001, 'eval_metric': 'rmse', 'gamma': 0.55, 'max_depth': 3, 'min_child_weight': 6.0, 'n_estimators': 529.0, 'objective': 'reg:squarederror', 'reg_alpha': 71.0, 'reg_lambda': 0.30000000000000004, 'seed': 314159265, 'subsample': 0.7000000000000001, 'tree_method': 'hist'}\n",
      "[0]\ttrain-rmse:928.77175\teval-rmse:911.29855                                     \n",
      " 49%|████▉     | 49/100 [13:37<34:03, 40.06s/trial, best loss: 581.1641261074896]"
     ]
    },
    {
     "name": "stderr",
     "output_type": "stream",
     "text": [
      "/home/acz001/.local/lib/python3.9/site-packages/xgboost/core.py:122: UserWarning: ntree_limit is deprecated, use `iteration_range` or model slicing instead.\n",
      "  warnings.warn(\n",
      "\n"
     ]
    },
    {
     "name": "stdout",
     "output_type": "stream",
     "text": [
      "[100]\ttrain-rmse:616.54256\teval-rmse:590.43436                                   \n",
      "[200]\ttrain-rmse:610.78846\teval-rmse:587.90519                                   \n",
      "[264]\ttrain-rmse:607.93667\teval-rmse:587.98745                                   \n",
      "\\RMSE 587.7854124854355                                                          \n",
      "\n",
      "\n",
      "Training with params:                                                            \n",
      "{'colsample_bytree': 0.7000000000000001, 'eta': 0.125, 'eval_metric': 'rmse', 'gamma': 0.8500000000000001, 'max_depth': 10, 'min_child_weight': 4.0, 'n_estimators': 379.0, 'objective': 'reg:squarederror', 'reg_alpha': 141.0, 'reg_lambda': 0.5, 'seed': 314159265, 'subsample': 0.75, 'tree_method': 'hist'}\n",
      " 50%|█████     | 50/100 [13:42<24:29, 29.39s/trial, best loss: 581.1641261074896]"
     ]
    },
    {
     "name": "stderr",
     "output_type": "stream",
     "text": [
      "/home/acz001/.local/lib/python3.9/site-packages/xgboost/core.py:122: UserWarning: ntree_limit is deprecated, use `iteration_range` or model slicing instead.\n",
      "  warnings.warn(\n",
      "\n"
     ]
    },
    {
     "name": "stdout",
     "output_type": "stream",
     "text": [
      "[0]\ttrain-rmse:902.68440\teval-rmse:885.42579                                     \n",
      "[73]\ttrain-rmse:379.58222\teval-rmse:595.57856                                    \n",
      "\\RMSE 585.3910165765645                                                          \n",
      "\n",
      "\n",
      "Training with params:                                                            \n",
      "{'colsample_bytree': 0.6000000000000001, 'eta': 0.17500000000000002, 'eval_metric': 'rmse', 'gamma': 0.8, 'max_depth': 4, 'min_child_weight': 1.0, 'n_estimators': 301.0, 'objective': 'reg:squarederror', 'reg_alpha': 50.0, 'reg_lambda': 0.65, 'seed': 314159265, 'subsample': 0.8500000000000001, 'tree_method': 'hist'}\n",
      "[0]\ttrain-rmse:877.62831\teval-rmse:860.49380                                     \n",
      " 51%|█████     | 51/100 [14:02<21:49, 26.73s/trial, best loss: 581.1641261074896]"
     ]
    },
    {
     "name": "stderr",
     "output_type": "stream",
     "text": [
      "/home/acz001/.local/lib/python3.9/site-packages/xgboost/core.py:122: UserWarning: ntree_limit is deprecated, use `iteration_range` or model slicing instead.\n",
      "  warnings.warn(\n",
      "\n"
     ]
    },
    {
     "name": "stdout",
     "output_type": "stream",
     "text": [
      "[100]\ttrain-rmse:575.16240\teval-rmse:589.39017                                   \n",
      "[200]\ttrain-rmse:552.96036\teval-rmse:589.83237                                   \n",
      "\\RMSE 588.7610642556543                                                          \n",
      "\n",
      "\n",
      "Training with params:                                                            \n",
      "{'colsample_bytree': 0.55, 'eta': 0.05, 'eval_metric': 'rmse', 'gamma': 0.7000000000000001, 'max_depth': 7, 'min_child_weight': 5.0, 'n_estimators': 466.0, 'objective': 'reg:squarederror', 'reg_alpha': 178.0, 'reg_lambda': 0.0, 'seed': 314159265, 'subsample': 0.8, 'tree_method': 'hist'}\n",
      " 52%|█████▏    | 52/100 [14:09<16:30, 20.64s/trial, best loss: 581.1641261074896]"
     ]
    },
    {
     "name": "stderr",
     "output_type": "stream",
     "text": [
      "/home/acz001/.local/lib/python3.9/site-packages/xgboost/core.py:122: UserWarning: ntree_limit is deprecated, use `iteration_range` or model slicing instead.\n",
      "  warnings.warn(\n",
      "\n"
     ]
    },
    {
     "name": "stdout",
     "output_type": "stream",
     "text": [
      "[0]\ttrain-rmse:941.45079\teval-rmse:924.35009                                     \n",
      "[100]\ttrain-rmse:564.41380\teval-rmse:583.24507                                   \n",
      "[200]\ttrain-rmse:522.11755\teval-rmse:581.91300                                   \n",
      "[254]\ttrain-rmse:506.57327\teval-rmse:582.12779                                   \n",
      "\\RMSE 581.4113795918596                                                          \n",
      "\n",
      "\n",
      "Training with params:                                                            \n",
      "{'colsample_bytree': 0.55, 'eta': 0.05, 'eval_metric': 'rmse', 'gamma': 0.65, 'max_depth': 6, 'min_child_weight': 4.0, 'n_estimators': 482.0, 'objective': 'reg:squarederror', 'reg_alpha': 168.0, 'reg_lambda': 0.05, 'seed': 314159265, 'subsample': 0.65, 'tree_method': 'hist'}\n",
      " 53%|█████▎    | 53/100 [14:23<14:49, 18.93s/trial, best loss: 581.1641261074896]"
     ]
    },
    {
     "name": "stderr",
     "output_type": "stream",
     "text": [
      "/home/acz001/.local/lib/python3.9/site-packages/xgboost/core.py:122: UserWarning: ntree_limit is deprecated, use `iteration_range` or model slicing instead.\n",
      "  warnings.warn(\n",
      "\n"
     ]
    },
    {
     "name": "stdout",
     "output_type": "stream",
     "text": [
      "[0]\ttrain-rmse:941.46858\teval-rmse:924.31223                                     \n",
      "[100]\ttrain-rmse:581.32644\teval-rmse:586.38824                                   \n",
      "[200]\ttrain-rmse:551.37886\teval-rmse:585.09353                                   \n",
      "[230]\ttrain-rmse:545.09245\teval-rmse:585.62443                                   \n",
      "\\RMSE 584.5249667134673                                                          \n",
      "\n",
      "\n",
      "Training with params:                                                            \n",
      "{'colsample_bytree': 0.75, 'eta': 0.47500000000000003, 'eval_metric': 'rmse', 'gamma': 0.55, 'max_depth': 8, 'min_child_weight': 5.0, 'n_estimators': 790.0, 'objective': 'reg:squarederror', 'reg_alpha': 177.0, 'reg_lambda': 0.1, 'seed': 314159265, 'subsample': 0.6000000000000001, 'tree_method': 'hist'}\n",
      " 54%|█████▍    | 54/100 [14:33<12:26, 16.23s/trial, best loss: 581.1641261074896]"
     ]
    },
    {
     "name": "stderr",
     "output_type": "stream",
     "text": [
      "/home/acz001/.local/lib/python3.9/site-packages/xgboost/core.py:122: UserWarning: ntree_limit is deprecated, use `iteration_range` or model slicing instead.\n",
      "  warnings.warn(\n",
      "\n"
     ]
    },
    {
     "name": "stdout",
     "output_type": "stream",
     "text": [
      "[0]\ttrain-rmse:749.04067\teval-rmse:729.31987                                     \n",
      "[53]\ttrain-rmse:413.22988\teval-rmse:681.69130                                    \n",
      "\\RMSE 609.0338357127561                                                          \n",
      "\n",
      "\n",
      "Training with params:                                                            \n",
      "{'colsample_bytree': 1.0, 'eta': 0.025, 'eval_metric': 'rmse', 'gamma': 0.6000000000000001, 'max_depth': 9, 'min_child_weight': 5.0, 'n_estimators': 564.0, 'objective': 'reg:squarederror', 'reg_alpha': 179.0, 'reg_lambda': 0.8500000000000001, 'seed': 314159265, 'subsample': 0.7000000000000001, 'tree_method': 'hist'}\n",
      " 55%|█████▌    | 55/100 [14:40<09:58, 13.30s/trial, best loss: 581.1641261074896]"
     ]
    },
    {
     "name": "stderr",
     "output_type": "stream",
     "text": [
      "/home/acz001/.local/lib/python3.9/site-packages/xgboost/core.py:122: UserWarning: ntree_limit is deprecated, use `iteration_range` or model slicing instead.\n",
      "  warnings.warn(\n",
      "\n"
     ]
    },
    {
     "name": "stdout",
     "output_type": "stream",
     "text": [
      "[0]\ttrain-rmse:952.83107\teval-rmse:936.91926                                     \n",
      "[100]\ttrain-rmse:512.22307\teval-rmse:589.31197                                   \n",
      "[193]\ttrain-rmse:448.32360\teval-rmse:588.17274                                   \n",
      "\\RMSE 587.1493320493491                                                          \n",
      "\n",
      "\n",
      "Training with params:                                                            \n",
      "{'colsample_bytree': 0.9, 'eta': 0.05, 'eval_metric': 'rmse', 'gamma': 0.65, 'max_depth': 7, 'min_child_weight': 4.0, 'n_estimators': 644.0, 'objective': 'reg:squarederror', 'reg_alpha': 159.0, 'reg_lambda': 0.0, 'seed': 314159265, 'subsample': 0.55, 'tree_method': 'hist'}\n",
      " 56%|█████▌    | 56/100 [15:16<14:47, 20.18s/trial, best loss: 581.1641261074896]"
     ]
    },
    {
     "name": "stderr",
     "output_type": "stream",
     "text": [
      "/home/acz001/.local/lib/python3.9/site-packages/xgboost/core.py:122: UserWarning: ntree_limit is deprecated, use `iteration_range` or model slicing instead.\n",
      "  warnings.warn(\n",
      "\n"
     ]
    },
    {
     "name": "stdout",
     "output_type": "stream",
     "text": [
      "[0]\ttrain-rmse:938.79069\teval-rmse:921.94180                                     \n",
      "[100]\ttrain-rmse:528.95893\teval-rmse:584.23650                                   \n",
      "[137]\ttrain-rmse:505.91431\teval-rmse:585.19026                                   \n",
      "\\RMSE 583.5707188293281                                                          \n",
      "\n",
      "\n",
      "Training with params:                                                            \n",
      "{'colsample_bytree': 0.5, 'eta': 0.35000000000000003, 'eval_metric': 'rmse', 'gamma': 0.7000000000000001, 'max_depth': 2, 'min_child_weight': 5.0, 'n_estimators': 698.0, 'objective': 'reg:squarederror', 'reg_alpha': 86.0, 'reg_lambda': 0.15000000000000002, 'seed': 314159265, 'subsample': 0.8, 'tree_method': 'hist'}\n",
      "[0]\ttrain-rmse:800.21362\teval-rmse:779.65814                                     \n",
      " 57%|█████▋    | 57/100 [15:27<12:22, 17.26s/trial, best loss: 581.1641261074896]"
     ]
    },
    {
     "name": "stderr",
     "output_type": "stream",
     "text": [
      "/home/acz001/.local/lib/python3.9/site-packages/xgboost/core.py:122: UserWarning: ntree_limit is deprecated, use `iteration_range` or model slicing instead.\n",
      "  warnings.warn(\n",
      "\n"
     ]
    },
    {
     "name": "stdout",
     "output_type": "stream",
     "text": [
      "[100]\ttrain-rmse:617.59169\teval-rmse:592.90591                                   \n",
      "[200]\ttrain-rmse:612.66247\teval-rmse:591.79761                                   \n",
      "[208]\ttrain-rmse:612.51254\teval-rmse:592.00156                                   \n",
      "\\RMSE 590.6058058601145                                                          \n",
      "\n",
      "\n",
      "Training with params:                                                            \n",
      "{'colsample_bytree': 0.7000000000000001, 'eta': 0.25, 'eval_metric': 'rmse', 'gamma': 0.75, 'max_depth': 12, 'min_child_weight': 3.0, 'n_estimators': 873.0, 'objective': 'reg:squarederror', 'reg_alpha': 131.0, 'reg_lambda': 0.45, 'seed': 314159265, 'subsample': 0.7000000000000001, 'tree_method': 'hist'}\n",
      " 58%|█████▊    | 58/100 [15:29<09:04, 12.96s/trial, best loss: 581.1641261074896]"
     ]
    },
    {
     "name": "stderr",
     "output_type": "stream",
     "text": [
      "/home/acz001/.local/lib/python3.9/site-packages/xgboost/core.py:122: UserWarning: ntree_limit is deprecated, use `iteration_range` or model slicing instead.\n",
      "  warnings.warn(\n",
      "\n"
     ]
    },
    {
     "name": "stdout",
     "output_type": "stream",
     "text": [
      "[0]\ttrain-rmse:841.14464\teval-rmse:825.76136                                     \n",
      "[60]\ttrain-rmse:208.69083\teval-rmse:633.77027                                    \n",
      "\\RMSE 600.6958900777023                                                          \n",
      "\n",
      "\n",
      "Training with params:                                                            \n",
      "{'colsample_bytree': 0.65, 'eta': 0.07500000000000001, 'eval_metric': 'rmse', 'gamma': 0.6000000000000001, 'max_depth': 5, 'min_child_weight': 6.0, 'n_estimators': 990.0, 'objective': 'reg:squarederror', 'reg_alpha': 102.0, 'reg_lambda': 0.9500000000000001, 'seed': 314159265, 'subsample': 1.0, 'tree_method': 'hist'}\n",
      "[0]\ttrain-rmse:928.58557\teval-rmse:911.14894                                     \n",
      " 59%|█████▉    | 59/100 [16:16<15:48, 23.13s/trial, best loss: 581.1641261074896]"
     ]
    },
    {
     "name": "stderr",
     "output_type": "stream",
     "text": [
      "/home/acz001/.local/lib/python3.9/site-packages/xgboost/core.py:122: UserWarning: ntree_limit is deprecated, use `iteration_range` or model slicing instead.\n",
      "  warnings.warn(\n",
      "\n"
     ]
    },
    {
     "name": "stdout",
     "output_type": "stream",
     "text": [
      "[100]\ttrain-rmse:583.46744\teval-rmse:584.03286                                   \n",
      "[151]\ttrain-rmse:571.48699\teval-rmse:584.59192                                   \n",
      "\\RMSE 584.0249223392482                                                          \n",
      "\n",
      "\n",
      "Training with params:                                                            \n",
      "{'colsample_bytree': 0.55, 'eta': 0.45, 'eval_metric': 'rmse', 'gamma': 0.7000000000000001, 'max_depth': 7, 'min_child_weight': 6.0, 'n_estimators': 828.0, 'objective': 'reg:squarederror', 'reg_alpha': 94.0, 'reg_lambda': 0.05, 'seed': 314159265, 'subsample': 0.75, 'tree_method': 'hist'}\n",
      " 60%|██████    | 60/100 [16:21<11:46, 17.67s/trial, best loss: 581.1641261074896]"
     ]
    },
    {
     "name": "stderr",
     "output_type": "stream",
     "text": [
      "/home/acz001/.local/lib/python3.9/site-packages/xgboost/core.py:122: UserWarning: ntree_limit is deprecated, use `iteration_range` or model slicing instead.\n",
      "  warnings.warn(\n",
      "\n"
     ]
    },
    {
     "name": "stdout",
     "output_type": "stream",
     "text": [
      "[0]\ttrain-rmse:759.23519\teval-rmse:739.28008                                     \n",
      "[56]\ttrain-rmse:496.66325\teval-rmse:626.11644                                    \n",
      "\\RMSE 598.1969961332993                                                          \n",
      "\n",
      "\n",
      "Training with params:                                                            \n",
      "{'colsample_bytree': 0.8, 'eta': 0.1, 'eval_metric': 'rmse', 'gamma': 0.9500000000000001, 'max_depth': 11, 'min_child_weight': 2.0, 'n_estimators': 760.0, 'objective': 'reg:squarederror', 'reg_alpha': 63.0, 'reg_lambda': 0.25, 'seed': 314159265, 'subsample': 0.9500000000000001, 'tree_method': 'hist'}\n",
      " 61%|██████    | 61/100 [16:25<08:44, 13.45s/trial, best loss: 581.1641261074896]"
     ]
    },
    {
     "name": "stderr",
     "output_type": "stream",
     "text": [
      "/home/acz001/.local/lib/python3.9/site-packages/xgboost/core.py:122: UserWarning: ntree_limit is deprecated, use `iteration_range` or model slicing instead.\n",
      "  warnings.warn(\n",
      "\n"
     ]
    },
    {
     "name": "stdout",
     "output_type": "stream",
     "text": [
      "[0]\ttrain-rmse:905.79408\teval-rmse:896.22650                                     \n",
      "[77]\ttrain-rmse:348.32389\teval-rmse:602.94786                                    \n",
      "\\RMSE 595.8984278732916                                                          \n",
      "\n",
      "\n",
      "Training with params:                                                            \n",
      "{'colsample_bytree': 0.5, 'eta': 0.15000000000000002, 'eval_metric': 'rmse', 'gamma': 0.6000000000000001, 'max_depth': 6, 'min_child_weight': 5.0, 'n_estimators': 422.0, 'objective': 'reg:squarederror', 'reg_alpha': 152.0, 'reg_lambda': 0.8500000000000001, 'seed': 314159265, 'subsample': 0.9, 'tree_method': 'hist'}\n",
      "[0]\ttrain-rmse:890.83042\teval-rmse:872.82241                                     \n",
      " 62%|██████▏   | 62/100 [16:55<11:45, 18.57s/trial, best loss: 581.1641261074896]"
     ]
    },
    {
     "name": "stderr",
     "output_type": "stream",
     "text": [
      "/home/acz001/.local/lib/python3.9/site-packages/xgboost/core.py:122: UserWarning: ntree_limit is deprecated, use `iteration_range` or model slicing instead.\n",
      "  warnings.warn(\n",
      "\n"
     ]
    },
    {
     "name": "stdout",
     "output_type": "stream",
     "text": [
      "[92]\ttrain-rmse:559.66063\teval-rmse:585.01162                                    \n",
      "\\RMSE 583.4538668505594                                                          \n",
      "\n",
      "\n",
      "Training with params:                                                            \n",
      "{'colsample_bytree': 0.55, 'eta': 0.5, 'eval_metric': 'rmse', 'gamma': 0.8500000000000001, 'max_depth': 7, 'min_child_weight': 4.0, 'n_estimators': 463.0, 'objective': 'reg:squarederror', 'reg_alpha': 108.0, 'reg_lambda': 0.35000000000000003, 'seed': 314159265, 'subsample': 0.55, 'tree_method': 'hist'}\n",
      " 63%|██████▎   | 63/100 [16:59<08:43, 14.15s/trial, best loss: 581.1641261074896]"
     ]
    },
    {
     "name": "stderr",
     "output_type": "stream",
     "text": [
      "/home/acz001/.local/lib/python3.9/site-packages/xgboost/core.py:122: UserWarning: ntree_limit is deprecated, use `iteration_range` or model slicing instead.\n",
      "  warnings.warn(\n",
      "\n"
     ]
    },
    {
     "name": "stdout",
     "output_type": "stream",
     "text": [
      "[0]\ttrain-rmse:740.59462\teval-rmse:720.28788                                     \n",
      "[53]\ttrain-rmse:507.94806\teval-rmse:653.97406                                    \n",
      "\\RMSE 608.1778654802496                                                          \n",
      "\n",
      "\n",
      "Training with params:                                                            \n",
      "{'colsample_bytree': 0.7000000000000001, 'eta': 0.2, 'eval_metric': 'rmse', 'gamma': 0.75, 'max_depth': 4, 'min_child_weight': 5.0, 'n_estimators': 188.0, 'objective': 'reg:squarederror', 'reg_alpha': 124.0, 'reg_lambda': 0.0, 'seed': 314159265, 'subsample': 0.8, 'tree_method': 'hist'}\n",
      "[0]\ttrain-rmse:866.79628\teval-rmse:848.21548                                     \n",
      " 64%|██████▍   | 64/100 [17:03<06:35, 10.98s/trial, best loss: 581.1641261074896]"
     ]
    },
    {
     "name": "stderr",
     "output_type": "stream",
     "text": [
      "/home/acz001/.local/lib/python3.9/site-packages/xgboost/core.py:122: UserWarning: ntree_limit is deprecated, use `iteration_range` or model slicing instead.\n",
      "  warnings.warn(\n",
      "\n"
     ]
    },
    {
     "name": "stdout",
     "output_type": "stream",
     "text": [
      "[70]\ttrain-rmse:584.09150\teval-rmse:588.68090                                    \n",
      "\\RMSE 587.1211556000143                                                          \n",
      "\n",
      "\n",
      "Training with params:                                                            \n",
      "{'colsample_bytree': 0.6000000000000001, 'eta': 0.125, 'eval_metric': 'rmse', 'gamma': 0.8, 'max_depth': 7, 'min_child_weight': 6.0, 'n_estimators': 538.0, 'objective': 'reg:squarederror', 'reg_alpha': 119.0, 'reg_lambda': 0.2, 'seed': 314159265, 'subsample': 0.8500000000000001, 'tree_method': 'hist'}\n",
      " 65%|██████▌   | 65/100 [17:05<04:49,  8.27s/trial, best loss: 581.1641261074896]"
     ]
    },
    {
     "name": "stderr",
     "output_type": "stream",
     "text": [
      "/home/acz001/.local/lib/python3.9/site-packages/xgboost/core.py:122: UserWarning: ntree_limit is deprecated, use `iteration_range` or model slicing instead.\n",
      "  warnings.warn(\n",
      "\n"
     ]
    },
    {
     "name": "stdout",
     "output_type": "stream",
     "text": [
      "[0]\ttrain-rmse:903.05043\teval-rmse:885.39727                                     \n",
      "[99]\ttrain-rmse:521.36360\teval-rmse:587.95013                                    \n",
      "\\RMSE 583.3024640748959                                                          \n",
      "\n",
      "\n",
      "Training with params:                                                            \n",
      "{'colsample_bytree': 0.6000000000000001, 'eta': 0.05, 'eval_metric': 'rmse', 'gamma': 0.8, 'max_depth': 7, 'min_child_weight': 6.0, 'n_estimators': 369.0, 'objective': 'reg:squarederror', 'reg_alpha': 133.0, 'reg_lambda': 0.15000000000000002, 'seed': 314159265, 'subsample': 0.8500000000000001, 'tree_method': 'hist'}\n",
      " 66%|██████▌   | 66/100 [17:11<04:18,  7.60s/trial, best loss: 581.1641261074896]"
     ]
    },
    {
     "name": "stderr",
     "output_type": "stream",
     "text": [
      "/home/acz001/.local/lib/python3.9/site-packages/xgboost/core.py:122: UserWarning: ntree_limit is deprecated, use `iteration_range` or model slicing instead.\n",
      "  warnings.warn(\n",
      "\n"
     ]
    },
    {
     "name": "stdout",
     "output_type": "stream",
     "text": [
      "[0]\ttrain-rmse:941.44927\teval-rmse:924.31833                                     \n",
      "[100]\ttrain-rmse:568.98758\teval-rmse:583.99443                                   \n",
      "[200]\ttrain-rmse:527.84871\teval-rmse:583.96895                                   \n",
      "[206]\ttrain-rmse:525.40941\teval-rmse:583.77830                                   \n",
      "\\RMSE 582.7426510733138                                                          \n",
      "\n",
      "\n",
      "Training with params:                                                            \n",
      "{'colsample_bytree': 0.5, 'eta': 0.025, 'eval_metric': 'rmse', 'gamma': 0.8500000000000001, 'max_depth': 7, 'min_child_weight': 6.0, 'n_estimators': 327.0, 'objective': 'reg:squarederror', 'reg_alpha': 114.0, 'reg_lambda': 0.30000000000000004, 'seed': 314159265, 'subsample': 0.9, 'tree_method': 'hist'}\n",
      " 67%|██████▋   | 67/100 [17:23<04:56,  9.00s/trial, best loss: 581.1641261074896]"
     ]
    },
    {
     "name": "stderr",
     "output_type": "stream",
     "text": [
      "/home/acz001/.local/lib/python3.9/site-packages/xgboost/core.py:122: UserWarning: ntree_limit is deprecated, use `iteration_range` or model slicing instead.\n",
      "  warnings.warn(\n",
      "\n"
     ]
    },
    {
     "name": "stdout",
     "output_type": "stream",
     "text": [
      "[0]\ttrain-rmse:954.59693\teval-rmse:937.62743                                     \n",
      "[100]\ttrain-rmse:605.43482\teval-rmse:593.10083                                   \n",
      "[200]\ttrain-rmse:573.93698\teval-rmse:582.82440                                   \n",
      "[295]\ttrain-rmse:557.54044\teval-rmse:581.66918                                   \n",
      "\\RMSE 581.498715073994                                                           \n",
      "\n",
      "\n",
      "Training with params:                                                            \n",
      "{'colsample_bytree': 0.55, 'eta': 0.17500000000000002, 'eval_metric': 'rmse', 'gamma': 0.8, 'max_depth': 7, 'min_child_weight': 6.0, 'n_estimators': 593.0, 'objective': 'reg:squarederror', 'reg_alpha': 103.0, 'reg_lambda': 0.2, 'seed': 314159265, 'subsample': 0.8, 'tree_method': 'hist'}\n",
      " 68%|██████▊   | 68/100 [17:39<05:51, 10.99s/trial, best loss: 581.1641261074896]"
     ]
    },
    {
     "name": "stderr",
     "output_type": "stream",
     "text": [
      "/home/acz001/.local/lib/python3.9/site-packages/xgboost/core.py:122: UserWarning: ntree_limit is deprecated, use `iteration_range` or model slicing instead.\n",
      "  warnings.warn(\n",
      "\n"
     ]
    },
    {
     "name": "stdout",
     "output_type": "stream",
     "text": [
      "[0]\ttrain-rmse:878.42785\teval-rmse:860.49381                                     \n",
      "[82]\ttrain-rmse:518.54808\teval-rmse:592.32511                                    \n",
      "\\RMSE 584.0505284894199                                                          \n",
      "\n",
      "\n",
      "Training with params:                                                            \n",
      "{'colsample_bytree': 0.65, 'eta': 0.1, 'eval_metric': 'rmse', 'gamma': 0.9, 'max_depth': 13, 'min_child_weight': 6.0, 'n_estimators': 255.0, 'objective': 'reg:squarederror', 'reg_alpha': 146.0, 'reg_lambda': 0.1, 'seed': 314159265, 'subsample': 0.9, 'tree_method': 'hist'}\n",
      " 69%|██████▉   | 69/100 [17:44<04:46,  9.24s/trial, best loss: 581.1641261074896]"
     ]
    },
    {
     "name": "stderr",
     "output_type": "stream",
     "text": [
      "/home/acz001/.local/lib/python3.9/site-packages/xgboost/core.py:122: UserWarning: ntree_limit is deprecated, use `iteration_range` or model slicing instead.\n",
      "  warnings.warn(\n",
      "\n"
     ]
    },
    {
     "name": "stdout",
     "output_type": "stream",
     "text": [
      "[0]\ttrain-rmse:914.89631\teval-rmse:898.27108                                     \n",
      "[87]\ttrain-rmse:304.28242\teval-rmse:599.35462                                    \n",
      "\\RMSE 589.5865764568456                                                          \n",
      "\n",
      "\n",
      "Training with params:                                                            \n",
      "{'colsample_bytree': 0.6000000000000001, 'eta': 0.07500000000000001, 'eval_metric': 'rmse', 'gamma': 0.75, 'max_depth': 8, 'min_child_weight': 5.0, 'n_estimators': 473.0, 'objective': 'reg:squarederror', 'reg_alpha': 51.0, 'reg_lambda': 0.55, 'seed': 314159265, 'subsample': 0.8500000000000001, 'tree_method': 'hist'}\n",
      " 70%|███████   | 70/100 [18:57<14:07, 28.27s/trial, best loss: 581.1641261074896]"
     ]
    },
    {
     "name": "stderr",
     "output_type": "stream",
     "text": [
      "/home/acz001/.local/lib/python3.9/site-packages/xgboost/core.py:122: UserWarning: ntree_limit is deprecated, use `iteration_range` or model slicing instead.\n",
      "  warnings.warn(\n",
      "\n"
     ]
    },
    {
     "name": "stdout",
     "output_type": "stream",
     "text": [
      "[0]\ttrain-rmse:928.42648\teval-rmse:911.17299                                     \n",
      "[100]\ttrain-rmse:522.50451\teval-rmse:582.09395                                   \n",
      "[119]\ttrain-rmse:510.20104\teval-rmse:583.41193                                   \n",
      "\\RMSE 581.4046343958065                                                          \n",
      "\n",
      "\n",
      "Training with params:                                                            \n",
      "{'colsample_bytree': 0.6000000000000001, 'eta': 0.07500000000000001, 'eval_metric': 'rmse', 'gamma': 0.7000000000000001, 'max_depth': 8, 'min_child_weight': 5.0, 'n_estimators': 659.0, 'objective': 'reg:squarederror', 'reg_alpha': 56.0, 'reg_lambda': 0.55, 'seed': 314159265, 'subsample': 0.9500000000000001, 'tree_method': 'hist'}\n",
      " 71%|███████   | 71/100 [19:08<11:09, 23.10s/trial, best loss: 581.1641261074896]"
     ]
    },
    {
     "name": "stderr",
     "output_type": "stream",
     "text": [
      "/home/acz001/.local/lib/python3.9/site-packages/xgboost/core.py:122: UserWarning: ntree_limit is deprecated, use `iteration_range` or model slicing instead.\n",
      "  warnings.warn(\n",
      "\n"
     ]
    },
    {
     "name": "stdout",
     "output_type": "stream",
     "text": [
      "[0]\ttrain-rmse:928.41628\teval-rmse:911.20160                                     \n",
      "[94]\ttrain-rmse:530.80767\teval-rmse:585.40440                                    \n",
      "\\RMSE 584.6818883190065                                                          \n",
      "\n",
      "\n",
      "Training with params:                                                            \n",
      "{'colsample_bytree': 0.55, 'eta': 0.1, 'eval_metric': 'rmse', 'gamma': 0.65, 'max_depth': 8, 'min_child_weight': 5.0, 'n_estimators': 707.0, 'objective': 'reg:squarederror', 'reg_alpha': 45.0, 'reg_lambda': 0.8, 'seed': 314159265, 'subsample': 0.8, 'tree_method': 'hist'}\n",
      " 72%|███████▏  | 72/100 [19:16<08:46, 18.82s/trial, best loss: 581.1641261074896]"
     ]
    },
    {
     "name": "stderr",
     "output_type": "stream",
     "text": [
      "/home/acz001/.local/lib/python3.9/site-packages/xgboost/core.py:122: UserWarning: ntree_limit is deprecated, use `iteration_range` or model slicing instead.\n",
      "  warnings.warn(\n",
      "\n"
     ]
    },
    {
     "name": "stdout",
     "output_type": "stream",
     "text": [
      "[0]\ttrain-rmse:915.69418\teval-rmse:898.34922                                     \n",
      "[93]\ttrain-rmse:510.77338\teval-rmse:584.88961                                    \n",
      "\\RMSE 580.6354589728792                                                          \n",
      "\n",
      "\n",
      "Training with params:                                                            \n",
      "{'colsample_bytree': 0.5, 'eta': 0.15000000000000002, 'eval_metric': 'rmse', 'gamma': 0.55, 'max_depth': 8, 'min_child_weight': 5.0, 'n_estimators': 721.0, 'objective': 'reg:squarederror', 'reg_alpha': 46.0, 'reg_lambda': 0.8, 'seed': 314159265, 'subsample': 0.75, 'tree_method': 'hist'}\n",
      " 73%|███████▎  | 73/100 [19:25<07:05, 15.76s/trial, best loss: 580.6354589728792]"
     ]
    },
    {
     "name": "stderr",
     "output_type": "stream",
     "text": [
      "/home/acz001/.local/lib/python3.9/site-packages/xgboost/core.py:122: UserWarning: ntree_limit is deprecated, use `iteration_range` or model slicing instead.\n",
      "  warnings.warn(\n",
      "\n"
     ]
    },
    {
     "name": "stdout",
     "output_type": "stream",
     "text": [
      "[0]\ttrain-rmse:890.67711\teval-rmse:873.06958                                     \n",
      "[93]\ttrain-rmse:500.85500\teval-rmse:588.50129                                    \n",
      "\\RMSE 584.4038485875693                                                          \n",
      "\n",
      "\n",
      "Training with params:                                                            \n",
      "{'colsample_bytree': 0.65, 'eta': 0.1, 'eval_metric': 'rmse', 'gamma': 0.65, 'max_depth': 8, 'min_child_weight': 4.0, 'n_estimators': 774.0, 'objective': 'reg:squarederror', 'reg_alpha': 41.0, 'reg_lambda': 0.7000000000000001, 'seed': 314159265, 'subsample': 0.9500000000000001, 'tree_method': 'hist'}\n",
      " 74%|███████▍  | 74/100 [19:33<05:45, 13.29s/trial, best loss: 580.6354589728792]"
     ]
    },
    {
     "name": "stderr",
     "output_type": "stream",
     "text": [
      "/home/acz001/.local/lib/python3.9/site-packages/xgboost/core.py:122: UserWarning: ntree_limit is deprecated, use `iteration_range` or model slicing instead.\n",
      "  warnings.warn(\n",
      "\n"
     ]
    },
    {
     "name": "stdout",
     "output_type": "stream",
     "text": [
      "[0]\ttrain-rmse:915.46792\teval-rmse:898.22498                                     \n",
      "[93]\ttrain-rmse:493.70532\teval-rmse:587.30364                                    \n",
      "\\RMSE 584.9345064353483                                                          \n",
      "\n",
      "\n",
      "Training with params:                                                            \n",
      "{'colsample_bytree': 0.55, 'eta': 0.225, 'eval_metric': 'rmse', 'gamma': 0.75, 'max_depth': 8, 'min_child_weight': 5.0, 'n_estimators': 704.0, 'objective': 'reg:squarederror', 'reg_alpha': 49.0, 'reg_lambda': 1.0, 'seed': 314159265, 'subsample': 0.8500000000000001, 'tree_method': 'hist'}\n",
      " 75%|███████▌  | 75/100 [19:43<05:07, 12.32s/trial, best loss: 580.6354589728792]"
     ]
    },
    {
     "name": "stderr",
     "output_type": "stream",
     "text": [
      "/home/acz001/.local/lib/python3.9/site-packages/xgboost/core.py:122: UserWarning: ntree_limit is deprecated, use `iteration_range` or model slicing instead.\n",
      "  warnings.warn(\n",
      "\n"
     ]
    },
    {
     "name": "stdout",
     "output_type": "stream",
     "text": [
      "[0]\ttrain-rmse:854.42170\teval-rmse:836.19079                                     \n",
      "[73]\ttrain-rmse:468.70495\teval-rmse:597.44565                                    \n",
      "\\RMSE 586.2455868783153                                                          \n",
      "\n",
      "\n",
      "Training with params:                                                            \n",
      "{'colsample_bytree': 0.5, 'eta': 0.275, 'eval_metric': 'rmse', 'gamma': 0.65, 'max_depth': 8, 'min_child_weight': 3.0, 'n_estimators': 678.0, 'objective': 'reg:squarederror', 'reg_alpha': 55.0, 'reg_lambda': 0.9500000000000001, 'seed': 314159265, 'subsample': 0.7000000000000001, 'tree_method': 'hist'}\n",
      " 76%|███████▌  | 76/100 [19:50<04:18, 10.79s/trial, best loss: 580.6354589728792]"
     ]
    },
    {
     "name": "stderr",
     "output_type": "stream",
     "text": [
      "/home/acz001/.local/lib/python3.9/site-packages/xgboost/core.py:122: UserWarning: ntree_limit is deprecated, use `iteration_range` or model slicing instead.\n",
      "  warnings.warn(\n",
      "\n"
     ]
    },
    {
     "name": "stdout",
     "output_type": "stream",
     "text": [
      "[0]\ttrain-rmse:831.38489\teval-rmse:813.33841                                     \n",
      "[69]\ttrain-rmse:473.39774\teval-rmse:603.35152                                    \n",
      "\\RMSE 589.1594797475955                                                          \n",
      "\n",
      "\n",
      "Training with params:                                                            \n",
      "{'colsample_bytree': 0.6000000000000001, 'eta': 0.07500000000000001, 'eval_metric': 'rmse', 'gamma': 0.6000000000000001, 'max_depth': 8, 'min_child_weight': 4.0, 'n_estimators': 612.0, 'objective': 'reg:squarederror', 'reg_alpha': 73.0, 'reg_lambda': 0.7000000000000001, 'seed': 314159265, 'subsample': 1.0, 'tree_method': 'hist'}\n",
      " 77%|███████▋  | 77/100 [19:56<03:38,  9.51s/trial, best loss: 580.6354589728792]"
     ]
    },
    {
     "name": "stderr",
     "output_type": "stream",
     "text": [
      "/home/acz001/.local/lib/python3.9/site-packages/xgboost/core.py:122: UserWarning: ntree_limit is deprecated, use `iteration_range` or model slicing instead.\n",
      "  warnings.warn(\n",
      "\n"
     ]
    },
    {
     "name": "stdout",
     "output_type": "stream",
     "text": [
      "[0]\ttrain-rmse:928.35321\teval-rmse:911.14112                                     \n",
      "[100]\ttrain-rmse:536.33611\teval-rmse:582.04704                                   \n",
      "[117]\ttrain-rmse:524.04576\teval-rmse:582.97992                                   \n",
      "\\RMSE 581.6383219084739                                                          \n",
      "\n",
      "\n",
      "Training with params:                                                            \n",
      "{'colsample_bytree': 0.65, 'eta': 0.125, 'eval_metric': 'rmse', 'gamma': 0.5, 'max_depth': 8, 'min_child_weight': 5.0, 'n_estimators': 920.0, 'objective': 'reg:squarederror', 'reg_alpha': 45.0, 'reg_lambda': 0.65, 'seed': 314159265, 'subsample': 0.9, 'tree_method': 'hist'}\n",
      " 78%|███████▊  | 78/100 [20:07<03:35,  9.81s/trial, best loss: 580.6354589728792]"
     ]
    },
    {
     "name": "stderr",
     "output_type": "stream",
     "text": [
      "/home/acz001/.local/lib/python3.9/site-packages/xgboost/core.py:122: UserWarning: ntree_limit is deprecated, use `iteration_range` or model slicing instead.\n",
      "  warnings.warn(\n",
      "\n"
     ]
    },
    {
     "name": "stdout",
     "output_type": "stream",
     "text": [
      "[0]\ttrain-rmse:902.95383\teval-rmse:885.38251                                     \n",
      "[83]\ttrain-rmse:479.66004\teval-rmse:589.05626                                    \n",
      "\\RMSE 584.5955515641667                                                          \n",
      "\n",
      "\n",
      "Training with params:                                                            \n",
      "{'colsample_bytree': 0.75, 'eta': 0.2, 'eval_metric': 'rmse', 'gamma': 0.8500000000000001, 'max_depth': 1, 'min_child_weight': 6.0, 'n_estimators': 577.0, 'objective': 'reg:squarederror', 'reg_alpha': 60.0, 'reg_lambda': 0.75, 'seed': 314159265, 'subsample': 0.8500000000000001, 'tree_method': 'hist'}\n",
      "[0]\ttrain-rmse:867.48630\teval-rmse:848.57604                                     \n",
      " 79%|███████▉  | 79/100 [20:16<03:20,  9.55s/trial, best loss: 580.6354589728792]"
     ]
    },
    {
     "name": "stderr",
     "output_type": "stream",
     "text": [
      "/home/acz001/.local/lib/python3.9/site-packages/xgboost/core.py:122: UserWarning: ntree_limit is deprecated, use `iteration_range` or model slicing instead.\n",
      "  warnings.warn(\n",
      "\n"
     ]
    },
    {
     "name": "stdout",
     "output_type": "stream",
     "text": [
      "[100]\ttrain-rmse:628.30219\teval-rmse:598.27718                                   \n",
      "[200]\ttrain-rmse:627.61108\teval-rmse:597.37780                                   \n",
      "[237]\ttrain-rmse:627.33484\teval-rmse:597.40771                                   \n",
      "\\RMSE 597.1894500986608                                                          \n",
      "\n",
      "\n",
      "Training with params:                                                            \n",
      "{'colsample_bytree': 0.7000000000000001, 'eta': 0.25, 'eval_metric': 'rmse', 'gamma': 0.75, 'max_depth': 3, 'min_child_weight': 6.0, 'n_estimators': 856.0, 'objective': 'reg:squarederror', 'reg_alpha': 66.0, 'reg_lambda': 0.6000000000000001, 'seed': 314159265, 'subsample': 0.8, 'tree_method': 'hist'}\n",
      "[0]\ttrain-rmse:843.72083\teval-rmse:824.47287                                     \n",
      " 80%|████████  | 80/100 [20:19<02:30,  7.53s/trial, best loss: 580.6354589728792]"
     ]
    },
    {
     "name": "stderr",
     "output_type": "stream",
     "text": [
      "/home/acz001/.local/lib/python3.9/site-packages/xgboost/core.py:122: UserWarning: ntree_limit is deprecated, use `iteration_range` or model slicing instead.\n",
      "  warnings.warn(\n",
      "\n"
     ]
    },
    {
     "name": "stdout",
     "output_type": "stream",
     "text": [
      "[71]\ttrain-rmse:602.79475\teval-rmse:589.62186                                    \n",
      "\\RMSE 587.6369876622376                                                          \n",
      "\n",
      "\n",
      "Training with params:                                                            \n",
      "{'colsample_bytree': 0.55, 'eta': 0.025, 'eval_metric': 'rmse', 'gamma': 0.9, 'max_depth': 10, 'min_child_weight': 5.0, 'n_estimators': 794.0, 'objective': 'reg:squarederror', 'reg_alpha': 78.0, 'reg_lambda': 0.8, 'seed': 314159265, 'subsample': 0.75, 'tree_method': 'hist'}\n",
      " 81%|████████  | 81/100 [20:20<01:49,  5.75s/trial, best loss: 580.6354589728792]"
     ]
    },
    {
     "name": "stderr",
     "output_type": "stream",
     "text": [
      "/home/acz001/.local/lib/python3.9/site-packages/xgboost/core.py:122: UserWarning: ntree_limit is deprecated, use `iteration_range` or model slicing instead.\n",
      "  warnings.warn(\n",
      "\n"
     ]
    },
    {
     "name": "stdout",
     "output_type": "stream",
     "text": [
      "[0]\ttrain-rmse:954.56373\teval-rmse:937.67520                                     \n",
      "[100]\ttrain-rmse:558.37711\teval-rmse:590.89928                                   \n",
      "[200]\ttrain-rmse:495.24604\teval-rmse:583.28370                                   \n",
      "[236]\ttrain-rmse:481.66721\teval-rmse:583.28732                                   \n",
      "\\RMSE 583.0051250544687                                                          \n",
      "\n",
      "\n",
      "Training with params:                                                            \n",
      "{'colsample_bytree': 0.5, 'eta': 0.17500000000000002, 'eval_metric': 'rmse', 'gamma': 0.7000000000000001, 'max_depth': 8, 'min_child_weight': 4.0, 'n_estimators': 904.0, 'objective': 'reg:squarederror', 'reg_alpha': 51.0, 'reg_lambda': 0.9, 'seed': 314159265, 'subsample': 0.9, 'tree_method': 'hist'}\n",
      " 82%|████████▏ | 82/100 [21:05<05:13, 17.43s/trial, best loss: 580.6354589728792]"
     ]
    },
    {
     "name": "stderr",
     "output_type": "stream",
     "text": [
      "/home/acz001/.local/lib/python3.9/site-packages/xgboost/core.py:122: UserWarning: ntree_limit is deprecated, use `iteration_range` or model slicing instead.\n",
      "  warnings.warn(\n",
      "\n"
     ]
    },
    {
     "name": "stdout",
     "output_type": "stream",
     "text": [
      "[0]\ttrain-rmse:878.19802\teval-rmse:860.44846                                     \n",
      "[78]\ttrain-rmse:497.56834\teval-rmse:593.29957                                    \n",
      "\\RMSE 588.3130751408021                                                          \n",
      "\n",
      "\n",
      "Training with params:                                                            \n",
      "{'colsample_bytree': 0.6000000000000001, 'eta': 0.1, 'eval_metric': 'rmse', 'gamma': 0.55, 'max_depth': 9, 'min_child_weight': 6.0, 'n_estimators': 965.0, 'objective': 'reg:squarederror', 'reg_alpha': 75.0, 'reg_lambda': 0.5, 'seed': 314159265, 'subsample': 0.8500000000000001, 'tree_method': 'hist'}\n",
      " 83%|████████▎ | 83/100 [21:12<04:04, 14.39s/trial, best loss: 580.6354589728792]"
     ]
    },
    {
     "name": "stderr",
     "output_type": "stream",
     "text": [
      "/home/acz001/.local/lib/python3.9/site-packages/xgboost/core.py:122: UserWarning: ntree_limit is deprecated, use `iteration_range` or model slicing instead.\n",
      "  warnings.warn(\n",
      "\n"
     ]
    },
    {
     "name": "stdout",
     "output_type": "stream",
     "text": [
      "[0]\ttrain-rmse:915.55873\teval-rmse:898.24427                                     \n",
      "[91]\ttrain-rmse:476.46992\teval-rmse:587.24806                                    \n",
      "\\RMSE 584.2214332002699                                                          \n",
      "\n",
      "\n",
      "Training with params:                                                            \n",
      "{'colsample_bytree': 0.55, 'eta': 0.30000000000000004, 'eval_metric': 'rmse', 'gamma': 0.65, 'max_depth': 12, 'min_child_weight': 5.0, 'n_estimators': 552.0, 'objective': 'reg:squarederror', 'reg_alpha': 84.0, 'reg_lambda': 0.55, 'seed': 314159265, 'subsample': 0.9500000000000001, 'tree_method': 'hist'}\n",
      " 84%|████████▍ | 84/100 [21:25<03:42, 13.89s/trial, best loss: 580.6354589728792]"
     ]
    },
    {
     "name": "stderr",
     "output_type": "stream",
     "text": [
      "/home/acz001/.local/lib/python3.9/site-packages/xgboost/core.py:122: UserWarning: ntree_limit is deprecated, use `iteration_range` or model slicing instead.\n",
      "  warnings.warn(\n",
      "\n"
     ]
    },
    {
     "name": "stdout",
     "output_type": "stream",
     "text": [
      "[0]\ttrain-rmse:818.89367\teval-rmse:801.59950                                     \n",
      "[60]\ttrain-rmse:266.43789\teval-rmse:634.81741                                    \n",
      "\\RMSE 605.1221180712037                                                          \n",
      "\n",
      "\n",
      "Training with params:                                                            \n",
      "{'colsample_bytree': 0.5, 'eta': 0.05, 'eval_metric': 'rmse', 'gamma': 0.75, 'max_depth': 2, 'min_child_weight': 4.0, 'n_estimators': 653.0, 'objective': 'reg:squarederror', 'reg_alpha': 59.0, 'reg_lambda': 0.8, 'seed': 314159265, 'subsample': 0.7000000000000001, 'tree_method': 'hist'}\n",
      "[0]\ttrain-rmse:941.68694\teval-rmse:924.39919                                     \n",
      " 85%|████████▌ | 85/100 [21:57<04:48, 19.24s/trial, best loss: 580.6354589728792]"
     ]
    },
    {
     "name": "stderr",
     "output_type": "stream",
     "text": [
      "/home/acz001/.local/lib/python3.9/site-packages/xgboost/core.py:122: UserWarning: ntree_limit is deprecated, use `iteration_range` or model slicing instead.\n",
      "  warnings.warn(\n",
      "\n"
     ]
    },
    {
     "name": "stdout",
     "output_type": "stream",
     "text": [
      "[100]\ttrain-rmse:626.51173\teval-rmse:598.08389                                   \n",
      "[200]\ttrain-rmse:620.71340\teval-rmse:592.80196                                   \n",
      "[300]\ttrain-rmse:618.57920\teval-rmse:592.05501                                   \n",
      "[342]\ttrain-rmse:618.16538\teval-rmse:592.11685                                   \n",
      "\\RMSE 592.0040748219099                                                          \n",
      "\n",
      "\n",
      "Training with params:                                                            \n",
      "{'colsample_bytree': 0.6000000000000001, 'eta': 0.15000000000000002, 'eval_metric': 'rmse', 'gamma': 1.0, 'max_depth': 11, 'min_child_weight': 3.0, 'n_estimators': 482.0, 'objective': 'reg:squarederror', 'reg_alpha': 47.0, 'reg_lambda': 0.45, 'seed': 314159265, 'subsample': 0.65, 'tree_method': 'hist'}\n",
      " 86%|████████▌ | 86/100 [22:01<03:28, 14.92s/trial, best loss: 580.6354589728792]"
     ]
    },
    {
     "name": "stderr",
     "output_type": "stream",
     "text": [
      "/home/acz001/.local/lib/python3.9/site-packages/xgboost/core.py:122: UserWarning: ntree_limit is deprecated, use `iteration_range` or model slicing instead.\n",
      "  warnings.warn(\n",
      "\n"
     ]
    },
    {
     "name": "stdout",
     "output_type": "stream",
     "text": [
      "[0]\ttrain-rmse:889.96222\teval-rmse:873.11676                                     \n",
      "[79]\ttrain-rmse:363.44158\teval-rmse:608.29326                                    \n",
      "\\RMSE 592.9839770187853                                                          \n",
      "\n",
      "\n",
      "Training with params:                                                            \n",
      "{'colsample_bytree': 0.9500000000000001, 'eta': 0.325, 'eval_metric': 'rmse', 'gamma': 0.8, 'max_depth': 5, 'min_child_weight': 6.0, 'n_estimators': 517.0, 'objective': 'reg:squarederror', 'reg_alpha': 69.0, 'reg_lambda': 0.9, 'seed': 314159265, 'subsample': 0.8, 'tree_method': 'hist'}\n",
      "[0]\ttrain-rmse:799.10915\teval-rmse:778.27239                                     \n",
      " 87%|████████▋ | 87/100 [22:29<04:03, 18.74s/trial, best loss: 580.6354589728792]"
     ]
    },
    {
     "name": "stderr",
     "output_type": "stream",
     "text": [
      "/home/acz001/.local/lib/python3.9/site-packages/xgboost/core.py:122: UserWarning: ntree_limit is deprecated, use `iteration_range` or model slicing instead.\n",
      "  warnings.warn(\n",
      "\n"
     ]
    },
    {
     "name": "stdout",
     "output_type": "stream",
     "text": [
      "[59]\ttrain-rmse:536.52765\teval-rmse:607.25238                                    \n",
      "\\RMSE 587.9348630572306                                                          \n",
      "\n",
      "\n",
      "Training with params:                                                            \n",
      "{'colsample_bytree': 0.8500000000000001, 'eta': 0.225, 'eval_metric': 'rmse', 'gamma': 0.6000000000000001, 'max_depth': 8, 'min_child_weight': 5.0, 'n_estimators': 618.0, 'objective': 'reg:squarederror', 'reg_alpha': 90.0, 'reg_lambda': 0.7000000000000001, 'seed': 314159265, 'subsample': 0.8500000000000001, 'tree_method': 'hist'}\n",
      " 88%|████████▊ | 88/100 [22:31<02:45, 13.83s/trial, best loss: 580.6354589728792]"
     ]
    },
    {
     "name": "stderr",
     "output_type": "stream",
     "text": [
      "/home/acz001/.local/lib/python3.9/site-packages/xgboost/core.py:122: UserWarning: ntree_limit is deprecated, use `iteration_range` or model slicing instead.\n",
      "  warnings.warn(\n",
      "\n"
     ]
    },
    {
     "name": "stdout",
     "output_type": "stream",
     "text": [
      "[0]\ttrain-rmse:841.62995\teval-rmse:825.62253                                     \n",
      "[60]\ttrain-rmse:412.59576\teval-rmse:604.20742                                    \n",
      "\\RMSE 583.8297299223417                                                          \n",
      "\n",
      "\n",
      "Training with params:                                                            \n",
      "{'colsample_bytree': 0.65, 'eta': 0.07500000000000001, 'eval_metric': 'rmse', 'gamma': 0.9500000000000001, 'max_depth': 13, 'min_child_weight': 4.0, 'n_estimators': 724.0, 'objective': 'reg:squarederror', 'reg_alpha': 62.0, 'reg_lambda': 0.6000000000000001, 'seed': 314159265, 'subsample': 1.0, 'tree_method': 'hist'}\n",
      " 89%|████████▉ | 89/100 [22:39<02:11, 11.99s/trial, best loss: 580.6354589728792]"
     ]
    },
    {
     "name": "stderr",
     "output_type": "stream",
     "text": [
      "/home/acz001/.local/lib/python3.9/site-packages/xgboost/core.py:122: UserWarning: ntree_limit is deprecated, use `iteration_range` or model slicing instead.\n",
      "  warnings.warn(\n",
      "\n"
     ]
    },
    {
     "name": "stdout",
     "output_type": "stream",
     "text": [
      "[0]\ttrain-rmse:927.90022\teval-rmse:911.23423                                     \n",
      "[89]\ttrain-rmse:322.13963\teval-rmse:596.70479                                    \n",
      "\\RMSE 588.3814937523181                                                          \n",
      "\n",
      "\n",
      "Training with params:                                                            \n",
      "{'colsample_bytree': 0.7000000000000001, 'eta': 0.125, 'eval_metric': 'rmse', 'gamma': 0.7000000000000001, 'max_depth': 1, 'min_child_weight': 6.0, 'n_estimators': 396.0, 'objective': 'reg:squarederror', 'reg_alpha': 40.0, 'reg_lambda': 0.4, 'seed': 314159265, 'subsample': 0.9, 'tree_method': 'hist'}\n",
      "[0]\ttrain-rmse:903.82812\teval-rmse:885.73332                                     \n",
      " 90%|█████████ | 90/100 [23:49<04:53, 29.33s/trial, best loss: 580.6354589728792]"
     ]
    },
    {
     "name": "stderr",
     "output_type": "stream",
     "text": [
      "/home/acz001/.local/lib/python3.9/site-packages/xgboost/core.py:122: UserWarning: ntree_limit is deprecated, use `iteration_range` or model slicing instead.\n",
      "  warnings.warn(\n",
      "\n"
     ]
    },
    {
     "name": "stdout",
     "output_type": "stream",
     "text": [
      "[100]\ttrain-rmse:629.74687\teval-rmse:599.58221                                   \n",
      "[200]\ttrain-rmse:627.85517\teval-rmse:597.46512                                   \n",
      "[300]\ttrain-rmse:627.39687\teval-rmse:597.06921                                   \n",
      "[346]\ttrain-rmse:627.28603\teval-rmse:597.26845                                   \n",
      "\\RMSE 597.0264992481867                                                          \n",
      "\n",
      "\n",
      "Training with params:                                                            \n",
      "{'colsample_bytree': 0.8, 'eta': 0.15000000000000002, 'eval_metric': 'rmse', 'gamma': 0.65, 'max_depth': 6, 'min_child_weight': 5.0, 'n_estimators': 833.0, 'objective': 'reg:squarederror', 'reg_alpha': 54.0, 'reg_lambda': 0.55, 'seed': 314159265, 'subsample': 0.75, 'tree_method': 'hist'}\n",
      "[0]\ttrain-rmse:885.72816\teval-rmse:868.34569                                     \n",
      " 91%|█████████ | 91/100 [23:53<03:16, 21.83s/trial, best loss: 580.6354589728792]"
     ]
    },
    {
     "name": "stderr",
     "output_type": "stream",
     "text": [
      "/home/acz001/.local/lib/python3.9/site-packages/xgboost/core.py:122: UserWarning: ntree_limit is deprecated, use `iteration_range` or model slicing instead.\n",
      "  warnings.warn(\n",
      "\n"
     ]
    },
    {
     "name": "stdout",
     "output_type": "stream",
     "text": [
      "[69]\ttrain-rmse:532.34994\teval-rmse:591.58827                                    \n",
      "\\RMSE 588.5128772470508                                                          \n",
      "\n",
      "\n",
      "Training with params:                                                            \n",
      "{'colsample_bytree': 0.55, 'eta': 0.025, 'eval_metric': 'rmse', 'gamma': 0.8500000000000001, 'max_depth': 4, 'min_child_weight': 5.0, 'n_estimators': 637.0, 'objective': 'reg:squarederror', 'reg_alpha': 96.0, 'reg_lambda': 0.65, 'seed': 314159265, 'subsample': 0.8, 'tree_method': 'hist'}\n",
      "[0]\ttrain-rmse:954.65075\teval-rmse:937.63222                                     \n",
      " 92%|█████████▏| 92/100 [23:57<02:11, 16.40s/trial, best loss: 580.6354589728792]"
     ]
    },
    {
     "name": "stderr",
     "output_type": "stream",
     "text": [
      "/home/acz001/.local/lib/python3.9/site-packages/xgboost/core.py:122: UserWarning: ntree_limit is deprecated, use `iteration_range` or model slicing instead.\n",
      "  warnings.warn(\n",
      "\n"
     ]
    },
    {
     "name": "stdout",
     "output_type": "stream",
     "text": [
      "[100]\ttrain-rmse:621.41555\teval-rmse:596.40959                                   \n",
      "[200]\ttrain-rmse:606.32312\teval-rmse:586.53082                                   \n",
      "[300]\ttrain-rmse:600.05573\teval-rmse:585.23938                                   \n",
      "[400]\ttrain-rmse:595.36743\teval-rmse:584.99127                                   \n",
      "[500]\ttrain-rmse:591.62402\teval-rmse:584.65913                                   \n",
      "[531]\ttrain-rmse:590.31524\teval-rmse:584.74784                                   \n",
      "\\RMSE 584.5056163463499                                                          \n",
      "\n",
      "\n",
      "Training with params:                                                            \n",
      "{'colsample_bytree': 0.75, 'eta': 0.2, 'eval_metric': 'rmse', 'gamma': 0.75, 'max_depth': 10, 'min_child_weight': 6.0, 'n_estimators': 753.0, 'objective': 'reg:squarederror', 'reg_alpha': 82.0, 'reg_lambda': 0.75, 'seed': 314159265, 'subsample': 0.8500000000000001, 'tree_method': 'hist'}\n",
      " 93%|█████████▎| 93/100 [24:09<01:45, 15.10s/trial, best loss: 580.6354589728792]"
     ]
    },
    {
     "name": "stderr",
     "output_type": "stream",
     "text": [
      "/home/acz001/.local/lib/python3.9/site-packages/xgboost/core.py:122: UserWarning: ntree_limit is deprecated, use `iteration_range` or model slicing instead.\n",
      "  warnings.warn(\n",
      "\n"
     ]
    },
    {
     "name": "stdout",
     "output_type": "stream",
     "text": [
      "[0]\ttrain-rmse:865.78534\teval-rmse:847.86184                                     \n",
      "[70]\ttrain-rmse:335.66397\teval-rmse:608.01090                                    \n",
      "\\RMSE 589.799201267691                                                           \n",
      "\n",
      "\n",
      "Training with params:                                                            \n",
      "{'colsample_bytree': 0.9, 'eta': 0.375, 'eval_metric': 'rmse', 'gamma': 0.8, 'max_depth': 3, 'min_child_weight': 3.0, 'n_estimators': 441.0, 'objective': 'reg:squarederror', 'reg_alpha': 89.0, 'reg_lambda': 1.0, 'seed': 314159265, 'subsample': 0.75, 'tree_method': 'hist'}\n",
      "[0]\ttrain-rmse:782.04316\teval-rmse:757.17999                                     \n",
      " 94%|█████████▍| 94/100 [24:31<01:42, 17.06s/trial, best loss: 580.6354589728792]"
     ]
    },
    {
     "name": "stderr",
     "output_type": "stream",
     "text": [
      "/home/acz001/.local/lib/python3.9/site-packages/xgboost/core.py:122: UserWarning: ntree_limit is deprecated, use `iteration_range` or model slicing instead.\n",
      "  warnings.warn(\n",
      "\n"
     ]
    },
    {
     "name": "stdout",
     "output_type": "stream",
     "text": [
      "[67]\ttrain-rmse:594.08864\teval-rmse:596.10145                                    \n",
      "\\RMSE 588.7219554175042                                                          \n",
      "\n",
      "\n",
      "Training with params:                                                            \n",
      "{'colsample_bytree': 0.65, 'eta': 0.1, 'eval_metric': 'rmse', 'gamma': 0.9, 'max_depth': 9, 'min_child_weight': 6.0, 'n_estimators': 893.0, 'objective': 'reg:squarederror', 'reg_alpha': 43.0, 'reg_lambda': 0.9, 'seed': 314159265, 'subsample': 0.9, 'tree_method': 'hist'}\n",
      " 95%|█████████▌| 95/100 [24:32<01:02, 12.45s/trial, best loss: 580.6354589728792]"
     ]
    },
    {
     "name": "stderr",
     "output_type": "stream",
     "text": [
      "/home/acz001/.local/lib/python3.9/site-packages/xgboost/core.py:122: UserWarning: ntree_limit is deprecated, use `iteration_range` or model slicing instead.\n",
      "  warnings.warn(\n",
      "\n"
     ]
    },
    {
     "name": "stdout",
     "output_type": "stream",
     "text": [
      "[0]\ttrain-rmse:915.58855\teval-rmse:897.99478                                     \n",
      "[88]\ttrain-rmse:460.33839\teval-rmse:586.56618                                    \n",
      "\\RMSE 582.5798502415357                                                          \n",
      "\n",
      "\n",
      "Training with params:                                                            \n",
      "{'colsample_bytree': 0.55, 'eta': 0.17500000000000002, 'eval_metric': 'rmse', 'gamma': 0.65, 'max_depth': 8, 'min_child_weight': 5.0, 'n_estimators': 663.0, 'objective': 'reg:squarederror', 'reg_alpha': 64.0, 'reg_lambda': 0.35000000000000003, 'seed': 314159265, 'subsample': 0.9500000000000001, 'tree_method': 'hist'}\n",
      " 96%|█████████▌| 96/100 [24:46<00:50, 12.67s/trial, best loss: 580.6354589728792]"
     ]
    },
    {
     "name": "stderr",
     "output_type": "stream",
     "text": [
      "/home/acz001/.local/lib/python3.9/site-packages/xgboost/core.py:122: UserWarning: ntree_limit is deprecated, use `iteration_range` or model slicing instead.\n",
      "  warnings.warn(\n",
      "\n"
     ]
    },
    {
     "name": "stdout",
     "output_type": "stream",
     "text": [
      "[0]\ttrain-rmse:878.13301\teval-rmse:860.36362                                     \n",
      "[75]\ttrain-rmse:483.71165\teval-rmse:592.43064                                    \n",
      "\\RMSE 585.428699423808                                                           \n",
      "\n",
      "\n",
      "Training with params:                                                            \n",
      "{'colsample_bytree': 0.6000000000000001, 'eta': 0.07500000000000001, 'eval_metric': 'rmse', 'gamma': 0.6000000000000001, 'max_depth': 2, 'min_child_weight': 4.0, 'n_estimators': 306.0, 'objective': 'reg:squarederror', 'reg_alpha': 126.0, 'reg_lambda': 0.9500000000000001, 'seed': 314159265, 'subsample': 0.6000000000000001, 'tree_method': 'hist'}\n",
      "[0]\ttrain-rmse:928.72395\teval-rmse:911.19230                                     \n",
      " 97%|█████████▋| 97/100 [24:53<00:33, 11.11s/trial, best loss: 580.6354589728792]"
     ]
    },
    {
     "name": "stderr",
     "output_type": "stream",
     "text": [
      "/home/acz001/.local/lib/python3.9/site-packages/xgboost/core.py:122: UserWarning: ntree_limit is deprecated, use `iteration_range` or model slicing instead.\n",
      "  warnings.warn(\n",
      "\n"
     ]
    },
    {
     "name": "stdout",
     "output_type": "stream",
     "text": [
      "[100]\ttrain-rmse:622.67849\teval-rmse:595.43774                                   \n",
      "[200]\ttrain-rmse:618.49773\teval-rmse:592.61319                                   \n",
      "[300]\ttrain-rmse:616.38190\teval-rmse:591.93079                                   \n",
      "[339]\ttrain-rmse:615.77484\teval-rmse:592.28068                                   \n",
      "\\RMSE 591.8306974930383                                                          \n",
      "\n",
      "\n",
      "Training with params:                                                            \n",
      "{'colsample_bytree': 0.5, 'eta': 0.125, 'eval_metric': 'rmse', 'gamma': 0.7000000000000001, 'max_depth': 12, 'min_child_weight': 1.0, 'n_estimators': 494.0, 'objective': 'reg:squarederror', 'reg_alpha': 80.0, 'reg_lambda': 0.4, 'seed': 314159265, 'subsample': 1.0, 'tree_method': 'hist'}\n",
      " 98%|█████████▊| 98/100 [24:59<00:18,  9.46s/trial, best loss: 580.6354589728792]"
     ]
    },
    {
     "name": "stderr",
     "output_type": "stream",
     "text": [
      "/home/acz001/.local/lib/python3.9/site-packages/xgboost/core.py:122: UserWarning: ntree_limit is deprecated, use `iteration_range` or model slicing instead.\n",
      "  warnings.warn(\n",
      "\n"
     ]
    },
    {
     "name": "stdout",
     "output_type": "stream",
     "text": [
      "[0]\ttrain-rmse:900.74096\teval-rmse:886.03083                                     \n",
      "[83]\ttrain-rmse:334.29517\teval-rmse:596.60347                                    \n",
      "\\RMSE 590.9634716316509                                                          \n",
      "\n",
      "\n",
      "Training with params:                                                            \n",
      "{'colsample_bytree': 0.7000000000000001, 'eta': 0.05, 'eval_metric': 'rmse', 'gamma': 0.8500000000000001, 'max_depth': 11, 'min_child_weight': 6.0, 'n_estimators': 688.0, 'objective': 'reg:squarederror', 'reg_alpha': 141.0, 'reg_lambda': 0.6000000000000001, 'seed': 314159265, 'subsample': 0.9500000000000001, 'tree_method': 'hist'}\n",
      " 99%|█████████▉| 99/100 [25:27<00:15, 15.22s/trial, best loss: 580.6354589728792]"
     ]
    },
    {
     "name": "stderr",
     "output_type": "stream",
     "text": [
      "/home/acz001/.local/lib/python3.9/site-packages/xgboost/core.py:122: UserWarning: ntree_limit is deprecated, use `iteration_range` or model slicing instead.\n",
      "  warnings.warn(\n",
      "\n"
     ]
    },
    {
     "name": "stdout",
     "output_type": "stream",
     "text": [
      "[0]\ttrain-rmse:941.24414\teval-rmse:924.31765                                     \n",
      "[100]\ttrain-rmse:425.51080\teval-rmse:584.35347                                   \n",
      "[133]\ttrain-rmse:391.60027\teval-rmse:585.23593                                   \n",
      "\\RMSE 583.1166135406361                                                          \n",
      "\n",
      "\n",
      "100%|██████████| 100/100 [26:18<00:00, 15.78s/trial, best loss: 580.6354589728792]\n"
     ]
    },
    {
     "name": "stderr",
     "output_type": "stream",
     "text": [
      "/home/acz001/.local/lib/python3.9/site-packages/xgboost/core.py:122: UserWarning: ntree_limit is deprecated, use `iteration_range` or model slicing instead.\n",
      "  warnings.warn(\n",
      "\n"
     ]
    },
    {
     "data": {
      "text/plain": [
       "{'colsample_bytree': 0.55,\n",
       " 'eta': 0.1,\n",
       " 'gamma': 0.65,\n",
       " 'max_depth': 7,\n",
       " 'min_child_weight': 5.0,\n",
       " 'n_estimators': 707.0,\n",
       " 'reg_alpha': 45.0,\n",
       " 'reg_lambda': 0.8,\n",
       " 'subsample': 0.8}"
      ]
     },
     "execution_count": 9,
     "metadata": {},
     "output_type": "execute_result"
    }
   ],
   "source": [
    "# import packages for hyperparameters tuning\n",
    "from hyperopt import STATUS_OK, Trials, fmin, hp, tpe\n",
    "from sklearn.metrics import mean_squared_error\n",
    "\n",
    "xgb.set_config(verbosity=0)\n",
    "\n",
    "N_HP_DATA = 10000\n",
    "dtrainHP_reg = xgb.DMatrix(X_train.head(9 * N_HP_DATA), y_train.head(9 * N_HP_DATA), enable_categorical=True)\n",
    "dtestHP_reg = xgb.DMatrix(X_test.head(N_HP_DATA), y_test.head(N_HP_DATA), enable_categorical=True)\n",
    "\n",
    "def score(params):\n",
    "    print(\"Training with params: \")\n",
    "    print(params)\n",
    "    num_round = int(params['n_estimators'])\n",
    "    del params['n_estimators']\n",
    "    watchlist = [(dtrainHP_reg, 'train'), (dtestHP_reg, 'eval')]\n",
    "    model = xgb.train(params, dtrainHP_reg, num_boost_round=1000,\n",
    "                          evals=watchlist, early_stopping_rounds=EARLY_STOP,\n",
    "                          verbose_eval=100)\n",
    "    predictions = model.predict(dtestHP_reg, ntree_limit=model.best_iteration + 1)\n",
    "    rmse = mean_squared_error(y_test.head(N_HP_DATA), predictions, squared=False)\n",
    "    print(\"\\RMSE {0}\\n\\n\".format(rmse))\n",
    "    return {'loss': rmse, 'status': STATUS_OK}\n",
    "\n",
    "def optimize_hyperparams(random_state=314159265):\n",
    "    \"\"\"\n",
    "    This is the optimization function that given a space (space here) of \n",
    "    hyperparameters and a scoring function (score here), finds the best hyperparameters.\n",
    "    \"\"\"\n",
    "    # To learn more about XGBoost parameters, head to this page: \n",
    "    # https://github.com/dmlc/xgboost/blob/master/doc/parameter.md\n",
    "    space = {\n",
    "        'n_estimators': hp.quniform('n_estimators', 100, 1000, 1),\n",
    "        'eta': hp.quniform('eta', 0.025, 0.5, 0.025),\n",
    "        # A problem with max_depth casted to float instead of int with\n",
    "        # the hp.quniform method.\n",
    "        'max_depth':  hp.choice('max_depth', np.arange(1, 14, dtype=int)),\n",
    "        'min_child_weight': hp.quniform('min_child_weight', 1, 6, 1),\n",
    "        'subsample': hp.quniform('subsample', 0.5, 1, 0.05),\n",
    "        'gamma': hp.quniform('gamma', 0.5, 1, 0.05),\n",
    "        'reg_alpha': hp.quniform('reg_alpha', 40, 180, 1),\n",
    "        'reg_lambda': hp.quniform('reg_lambda', 0, 1, 0.05),\n",
    "        'colsample_bytree': hp.quniform('colsample_bytree', 0.5, 1, 0.05),\n",
    "        'eval_metric': 'rmse',\n",
    "        'objective': \"reg:squarederror\",\n",
    "        'tree_method': 'hist',\n",
    "        'seed': random_state\n",
    "    }\n",
    "    # Use the fmin function from Hyperopt to find the best hyperparameters\n",
    "    best = fmin(score, space, algo=tpe.suggest, \n",
    "                max_evals=100)\n",
    "    return best\n",
    "\n",
    "optimize_hyperparams()"
   ]
  },
  {
   "cell_type": "code",
   "execution_count": 13,
   "id": "f09c70cc",
   "metadata": {},
   "outputs": [
    {
     "name": "stdout",
     "output_type": "stream",
     "text": [
      "647.4011965057042\n",
      "   train-rmse-mean  train-rmse-std  test-rmse-mean  test-rmse-std\n",
      "0       939.619669        1.668992      939.627802       6.741150\n",
      "1       895.257299        1.731106      895.299768       7.055784\n",
      "2       853.944558        1.678637      854.507343       7.161294\n",
      "3       819.496825        1.646908      820.727173       7.320183\n",
      "4       789.750946        1.665827      791.381867       7.445963\n"
     ]
    }
   ],
   "source": [
    "# Hyperparameter evaluation with k-fold cross validation\n",
    "results = xgb.cv(\n",
    "   params, dfull_reg,\n",
    "   num_boost_round=n,\n",
    "   nfold=5,\n",
    "   early_stopping_rounds=EARLY_STOP\n",
    ")\n",
    "\n",
    "print(results['test-rmse-mean'].mean())\n",
    "print(results.head())"
   ]
  },
  {
   "cell_type": "code",
   "execution_count": 14,
   "id": "34f2b60c",
   "metadata": {},
   "outputs": [],
   "source": [
    "# These are all of the files you are given\n",
    "# Writing the output to submit to kaggle\n",
    "df_test = pd.read_csv(\"kaggle_data/test_public.csv\")\n",
    "titles = df_test['TRIP_ID']\n",
    "df_test = process_df(df_test)"
   ]
  },
  {
   "cell_type": "code",
   "execution_count": 15,
   "id": "26af646d",
   "metadata": {},
   "outputs": [],
   "source": [
    "X_submission = df_test\n",
    "dsubmission_reg = xgb.DMatrix(X_submission, enable_categorical=True)"
   ]
  },
  {
   "cell_type": "code",
   "execution_count": 16,
   "id": "af60b24b",
   "metadata": {
    "scrolled": true
   },
   "outputs": [
    {
     "name": "stderr",
     "output_type": "stream",
     "text": [
      "/opt/conda/lib/python3.9/site-packages/sklearn/model_selection/_split.py:666: UserWarning: The least populated class in y has only 1 members, which is less than n_splits=5.\n",
      "  warnings.warn((\"The least populated class in y has only %d\"\n"
     ]
    },
    {
     "name": "stdout",
     "output_type": "stream",
     "text": [
      "nFold:  1\n",
      "[0]\ttrain-rmse:939.42669\teval-rmse:940.63777\n",
      "[100]\ttrain-rmse:626.55001\teval-rmse:644.61144\n",
      "[200]\ttrain-rmse:618.74249\teval-rmse:642.25914\n",
      "[300]\ttrain-rmse:611.54567\teval-rmse:640.88300\n",
      "[377]\ttrain-rmse:606.26568\teval-rmse:640.88044\n",
      "nFold:  2\n",
      "[0]\ttrain-rmse:941.18596\teval-rmse:933.47413\n",
      "[100]\ttrain-rmse:627.51917\teval-rmse:636.65846\n",
      "[200]\ttrain-rmse:619.75802\teval-rmse:634.50241\n",
      "[300]\ttrain-rmse:612.43053\teval-rmse:633.32675\n",
      "[400]\ttrain-rmse:605.87755\teval-rmse:632.98650\n",
      "[467]\ttrain-rmse:602.07172\teval-rmse:632.96297\n",
      "nFold:  3\n",
      "[0]\ttrain-rmse:935.57098\teval-rmse:955.65072\n",
      "[100]\ttrain-rmse:619.60037\teval-rmse:667.89279\n",
      "[200]\ttrain-rmse:612.16397\teval-rmse:665.73628\n",
      "[300]\ttrain-rmse:605.92010\teval-rmse:664.73029\n",
      "[400]\ttrain-rmse:599.39033\teval-rmse:663.97649\n",
      "[500]\ttrain-rmse:594.60902\teval-rmse:663.49022\n",
      "[534]\ttrain-rmse:593.48299\teval-rmse:663.48182\n",
      "nFold:  4\n",
      "[0]\ttrain-rmse:939.62690\teval-rmse:939.77274\n",
      "[100]\ttrain-rmse:625.66182\teval-rmse:645.45237\n",
      "[200]\ttrain-rmse:617.57184\teval-rmse:643.23238\n",
      "[300]\ttrain-rmse:610.73695\teval-rmse:642.28018\n",
      "[400]\ttrain-rmse:603.84832\teval-rmse:641.49376\n",
      "[452]\ttrain-rmse:600.80405\teval-rmse:641.64770\n",
      "nFold:  5\n",
      "[0]\ttrain-rmse:942.42719\teval-rmse:928.63703\n",
      "[100]\ttrain-rmse:628.54749\teval-rmse:630.02843\n",
      "[200]\ttrain-rmse:620.13697\teval-rmse:628.02138\n",
      "[300]\ttrain-rmse:613.01340\teval-rmse:626.62528\n",
      "[400]\ttrain-rmse:605.89812\teval-rmse:626.16352\n",
      "[500]\ttrain-rmse:600.84974\teval-rmse:626.02932\n",
      "[522]\ttrain-rmse:600.18839\teval-rmse:626.06500\n"
     ]
    }
   ],
   "source": [
    "# Training and evaluating on the public dataset\n",
    "from sklearn.model_selection import StratifiedKFold\n",
    "\n",
    "nfold=5\n",
    "skf = StratifiedKFold(n_splits=nfold, shuffle=True, random_state=1)\n",
    "\n",
    "predictions = np.zeros(len(df_test))\n",
    "i = 1\n",
    "for train_index, valid_index in skf.split(X, y):\n",
    "    print(\"nFold: \", i)\n",
    "    xg_train = xgb.DMatrix(X.iloc[train_index], y.iloc[train_index], enable_categorical=True)\n",
    "    xg_valid = xgb.DMatrix(X.iloc[valid_index], y.iloc[valid_index], enable_categorical=True)\n",
    "    \n",
    "    model = xgb.train(params, xg_train, num_boost_round=n, evals=[(xg_train, \"train\"), (xg_valid, \"eval\")], \n",
    "                      early_stopping_rounds=EARLY_STOP, verbose_eval=100)\n",
    "    predictions += model.predict(dsubmission_reg) / nfold\n",
    "    i = i + 1"
   ]
  },
  {
   "cell_type": "code",
   "execution_count": 18,
   "id": "131e58c1",
   "metadata": {},
   "outputs": [],
   "source": [
    "df = pd.DataFrame(data={\"TRIP_ID\": titles, \"TRAVEL_TIME\": predictions})\n",
    "df.to_csv(\"solution.csv\", index=False)"
   ]
  },
  {
   "cell_type": "markdown",
   "id": "190667cf",
   "metadata": {},
   "source": [
    "# Final model evaluation"
   ]
  },
  {
   "cell_type": "code",
   "execution_count": 134,
   "id": "a2e6100b",
   "metadata": {
    "scrolled": true
   },
   "outputs": [
    {
     "name": "stdout",
     "output_type": "stream",
     "text": [
      "[(tensor(57586.3359, device='cuda:0'), TRIP_ID                                       1393061275620000681\n",
      "CALL_TYPE                                                       C\n",
      "ORIGIN_CALL                                                   NaN\n",
      "ORIGIN_STAND                                                  NaN\n",
      "TAXI_ID                                                  20000681\n",
      "TIMESTAMP                                              1393061275\n",
      "DAY_TYPE                                                        A\n",
      "MISSING_DATA                                                False\n",
      "POLYLINE        [[-8.583435,41.158665],[-8.582958,41.158899],[...\n",
      "LEN                                                         58200\n",
      "Name: 1093727, dtype: object), (tensor(57451.5039, device='cuda:0'), TRIP_ID                                       1400312076620000562\n",
      "CALL_TYPE                                                       C\n",
      "ORIGIN_CALL                                                   NaN\n",
      "ORIGIN_STAND                                                  NaN\n",
      "TAXI_ID                                                  20000562\n",
      "TIMESTAMP                                              1400312076\n",
      "DAY_TYPE                                                        A\n",
      "MISSING_DATA                                                False\n",
      "POLYLINE        [[-8.614881,41.151051],[-8.614836,41.151087],[...\n",
      "LEN                                                         58065\n",
      "Name: 1492417, dtype: object), (tensor(56955.9609, device='cuda:0'), TRIP_ID                                       1383293324620000520\n",
      "CALL_TYPE                                                       B\n",
      "ORIGIN_CALL                                                   NaN\n",
      "ORIGIN_STAND                                                 13.0\n",
      "TAXI_ID                                                  20000520\n",
      "TIMESTAMP                                              1383293324\n",
      "DAY_TYPE                                                        A\n",
      "MISSING_DATA                                                False\n",
      "POLYLINE        [[-8.628237,41.157558],[-8.628012,41.158035],[...\n",
      "LEN                                                         57525\n",
      "Name: 578581, dtype: object), (tensor(53221.8789, device='cuda:0'), TRIP_ID                                       1376892235620000086\n",
      "CALL_TYPE                                                       C\n",
      "ORIGIN_CALL                                                   NaN\n",
      "ORIGIN_STAND                                                  NaN\n",
      "TAXI_ID                                                  20000086\n",
      "TIMESTAMP                                              1376892235\n",
      "DAY_TYPE                                                        A\n",
      "MISSING_DATA                                                False\n",
      "POLYLINE        [[-8.618148,41.167557],[-8.618409,41.167575],[...\n",
      "LEN                                                         53835\n",
      "Name: 224510, dtype: object), (tensor(52936.4766, device='cuda:0'), TRIP_ID                                       1375289927620000902\n",
      "CALL_TYPE                                                       C\n",
      "ORIGIN_CALL                                                   NaN\n",
      "ORIGIN_STAND                                                  NaN\n",
      "TAXI_ID                                                  20000902\n",
      "TIMESTAMP                                              1375289927\n",
      "DAY_TYPE                                                        A\n",
      "MISSING_DATA                                                False\n",
      "POLYLINE        [[-8.614386,41.141079],[-8.613729,41.141304],[...\n",
      "LEN                                                         53550\n",
      "Name: 147121, dtype: object), (tensor(46171.7344, device='cuda:0'), TRIP_ID                                       1379954402620000904\n",
      "CALL_TYPE                                                       C\n",
      "ORIGIN_CALL                                                   NaN\n",
      "ORIGIN_STAND                                                  NaN\n",
      "TAXI_ID                                                  20000904\n",
      "TIMESTAMP                                              1379954402\n",
      "DAY_TYPE                                                        A\n",
      "MISSING_DATA                                                False\n",
      "POLYLINE        [[-8.621001,41.150358],[-8.621388,41.150664],[...\n",
      "LEN                                                         46785\n",
      "Name: 385819, dtype: object), (tensor(43440.6641, device='cuda:0'), TRIP_ID                                       1375981643620000520\n",
      "CALL_TYPE                                                       B\n",
      "ORIGIN_CALL                                                   NaN\n",
      "ORIGIN_STAND                                                 53.0\n",
      "TAXI_ID                                                  20000520\n",
      "TIMESTAMP                                              1375981643\n",
      "DAY_TYPE                                                        A\n",
      "MISSING_DATA                                                False\n",
      "POLYLINE        [[-8.613783,41.14125],[-8.61399,41.141223],[-8...\n",
      "LEN                                                         44010\n",
      "Name: 182829, dtype: object), (tensor(40456.4297, device='cuda:0'), TRIP_ID                                       1395081407620000904\n",
      "CALL_TYPE                                                       C\n",
      "ORIGIN_CALL                                                   NaN\n",
      "ORIGIN_STAND                                                  NaN\n",
      "TAXI_ID                                                  20000904\n",
      "TIMESTAMP                                              1395081407\n",
      "DAY_TYPE                                                        A\n",
      "MISSING_DATA                                                False\n",
      "POLYLINE        [[-8.531757,41.14692],[-8.532054,41.145624],[-...\n",
      "LEN                                                         41070\n",
      "Name: 1199139, dtype: object), (tensor(39556.7070, device='cuda:0'), TRIP_ID                                       1391442237620000902\n",
      "CALL_TYPE                                                       C\n",
      "ORIGIN_CALL                                                   NaN\n",
      "ORIGIN_STAND                                                  NaN\n",
      "TAXI_ID                                                  20000902\n",
      "TIMESTAMP                                              1391442237\n",
      "DAY_TYPE                                                        A\n",
      "MISSING_DATA                                                False\n",
      "POLYLINE        [[-8.672364,41.154831],[-8.670393,41.155974],[...\n",
      "LEN                                                         40170\n",
      "Name: 1003876, dtype: object), (tensor(39166.6289, device='cuda:0'), TRIP_ID                                       1388220860620000144\n",
      "CALL_TYPE                                                       C\n",
      "ORIGIN_CALL                                                   NaN\n",
      "ORIGIN_STAND                                                  NaN\n",
      "TAXI_ID                                                  20000144\n",
      "TIMESTAMP                                              1388220860\n",
      "DAY_TYPE                                                        A\n",
      "MISSING_DATA                                                False\n",
      "POLYLINE        [[-8.621415,41.156316],[-8.621064,41.155749],[...\n",
      "LEN                                                         39780\n",
      "Name: 849531, dtype: object)]\n"
     ]
    }
   ],
   "source": [
    "# Final testing on all data\n",
    "batch_size = 128\n",
    "\n",
    "test_dataset = ModelDataset(mode='test', raw_data = raw_train)\n",
    "\n",
    "highest_loss = []\n",
    "for i in range(len(test_dataset)):\n",
    "    model.eval()\n",
    "    x, t, raw = test_dataset[i]\n",
    "    y = model(x.unsqueeze(0))\n",
    "    loss = loss_function(torch.tensor(y.item()).to(device), t)\n",
    "    highest_loss = sorted(highest_loss + [(loss, raw)], key=lambda x: -x[0])[:10]\n",
    "print(highest_loss)"
   ]
  },
  {
   "cell_type": "code",
   "execution_count": 172,
   "id": "1d2e00f0",
   "metadata": {},
   "outputs": [
    {
     "data": {
      "image/png": "[encoded data removed]",
      "text/plain": [
       "<Figure size 432x288 with 1 Axes>"
      ]
     },
     "metadata": {
      "needs_background": "light"
     },
     "output_type": "display_data"
    }
   ],
   "source": [
    "# Visualize paths of biggest outliers\n",
    "loss, row = highest_loss[9]\n",
    "count += 1\n",
    "polyline = row['POLYLINE'].split(\"],\")\n",
    "polyline = [i.replace(\"[\", '').replace(\"]\", '') for i in polyline]\n",
    "polyline = [(float(i.split(\",\")[0]), float(i.split(\",\")[1])) for i in polyline]\n",
    "lat = [i[0] for i in polyline]\n",
    "lon = [i[1] for i in polyline]\n",
    "plt.plot(lat, lon)\n",
    "plt.xlabel(\"Latitude\")\n",
    "plt.ylabel(\"Longitude\")\n",
    "plt.title(f'Path with Loss: {loss}')\n",
    "plt.show()"
   ]
  }
 ],
 "metadata": {
  "kernelspec": {
   "display_name": "Python 3 (ipykernel)",
   "language": "python",
   "name": "python3"
  },
  "language_info": {
   "codemirror_mode": {
    "name": "ipython",
    "version": 3
   },
   "file_extension": ".py",
   "mimetype": "text/x-python",
   "name": "python",
   "nbconvert_exporter": "python",
   "pygments_lexer": "ipython3",
   "version": "3.9.5"
  }
 },
 "nbformat": 4,
 "nbformat_minor": 5
}
