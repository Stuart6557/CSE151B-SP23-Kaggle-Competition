{
 "cells": [
  {
   "cell_type": "code",
   "execution_count": 1,
   "id": "49c17ba8",
   "metadata": {
    "scrolled": true
   },
   "outputs": [
    {
     "name": "stdout",
     "output_type": "stream",
     "text": [
      "  % Total    % Received % Xferd  Average Speed   Time    Time     Time  Current\n",
      "                                 Dload  Upload   Total   Spent    Left  Speed\n",
      "100    17    0    17    0     0     57      0 --:--:-- --:--:-- --:--:--    57\n",
      "100   340  100   340    0     0    478      0 --:--:-- --:--:-- --:--:--     0\n",
      "100   534    0   534    0     0    425      0 --:--:--  0:00:01 --:--:--   425\n",
      " 41  515M   41  212M    0     0  46.1M      0  0:00:11  0:00:04  0:00:07 70.7M^C\n",
      "Archive:  kaggle-download.zip\n",
      "  End-of-central-directory signature not found.  Either this file is not\n",
      "  a zipfile, or it constitutes one disk of a multi-part archive.  In the\n",
      "  latter case the central directory and zipfile comment will be found on\n",
      "  the last disk(s) of this archive.\n",
      "unzip:  cannot find zipfile directory in one of kaggle-download.zip or\n",
      "        kaggle-download.zip.zip, and cannot find kaggle-download.zip.ZIP, period.\n"
     ]
    }
   ],
   "source": [
    "!curl -L https://www.dropbox.com/s/rndzndlgpw3coiq/kaggle-download.zip -o kaggle-download.zip\n",
    "!unzip kaggle-download.zip -d kaggle_data"
   ]
  },
  {
   "cell_type": "code",
   "execution_count": 2,
   "id": "c5411bf0",
   "metadata": {},
   "outputs": [],
   "source": [
    "import numpy as np, pandas as pd\n",
    "import matplotlib.pyplot as plt\n",
    "import torch\n",
    "from torch.utils.data import Dataset\n",
    "import torch.nn as nn"
   ]
  },
  {
   "cell_type": "code",
   "execution_count": 3,
   "id": "e097d18b",
   "metadata": {},
   "outputs": [],
   "source": [
    "device = torch.device(\"cuda\" if torch.cuda.is_available() else \"cpu\")"
   ]
  },
  {
   "cell_type": "code",
   "execution_count": 4,
   "id": "c21a61d1",
   "metadata": {},
   "outputs": [],
   "source": [
    "# Processing data"
   ]
  },
  {
   "cell_type": "code",
   "execution_count": 7,
   "id": "2b46b2fb",
   "metadata": {},
   "outputs": [],
   "source": [
    "# These are all of the files you are given\n",
    "df_tr = pd.read_csv(\"kaggle_data/train.csv\")"
   ]
  },
  {
   "cell_type": "code",
   "execution_count": 8,
   "id": "04c73b0f",
   "metadata": {},
   "outputs": [],
   "source": [
    "df_taxi_data = pd.read_csv(\"kaggle_data/metaData_taxistandsID_name_GPSlocation.csv\")\n",
    "# The following code normalizes longitudes and latitudes.\n",
    "# df_taxi_data[\"Longitude\"] = (df_taxi_data[\"Longitude\"] - df_taxi_data[\"Longitude\"].mean()) / df_taxi_data[\"Longitude\"].std()\n",
    "# df_taxi_data[\"Latitude\"] = (df_taxi_data[\"Latitude\"] - df_taxi_data[\"Latitude\"].mean()) / df_taxi_data[\"Latitude\"].std()"
   ]
  },
  {
   "cell_type": "code",
   "execution_count": 128,
   "id": "967f0432",
   "metadata": {},
   "outputs": [],
   "source": [
    "class ModelDataset(Dataset):\n",
    "    def __init__(self, mode, raw_data):\n",
    "        \"\"\"\n",
    "        The __init__ function is run once when instantiating the Dataset object\n",
    "        \"\"\"\n",
    "        assert mode in ['train', 'valid', 'test']\n",
    "        self.mode = mode\n",
    "        train_len = int(len(raw_data[0]) * 0.8)\n",
    "        if mode == \"train\":\n",
    "            self.images = raw_data[0][:train_len].float()\n",
    "            self.labels = raw_data[1][:train_len].float()\n",
    "            self.num_samples = len(self.labels)\n",
    "        elif mode == \"valid\":\n",
    "            self.images = raw_data[0][train_len:].float()\n",
    "            self.labels = raw_data[1][train_len:].float()\n",
    "            self.num_samples = len(self.labels)\n",
    "        else:\n",
    "            self.images = raw_data[0].float()\n",
    "            self.labels = raw_data[1].float()\n",
    "            self.raw_data = raw_data[2]\n",
    "            self.num_samples = len(self.labels)\n",
    "            \n",
    "    def __len__(self):\n",
    "        \"\"\"\n",
    "        The __len__ function returns the number of samples in our dataset.\n",
    "        \"\"\"\n",
    "        return self.num_samples\n",
    "    \n",
    "    def __getitem__(self, index):\n",
    "        \"\"\"\n",
    "        The __getitem__ function loads and returns a sample from the dataset at the given index\n",
    "        \"\"\"\n",
    "        if self.mode == 'test':\n",
    "            image, label, raw_data = self.images[index], self.labels[index], self.raw_data[index]    \n",
    "            return image, label, raw_data\n",
    "        image, label = self.images[index], self.labels[index]   \n",
    "        return image, label\n",
    "        "
   ]
  },
  {
   "cell_type": "code",
   "execution_count": 129,
   "id": "a056e237",
   "metadata": {},
   "outputs": [
    {
     "name": "stdout",
     "output_type": "stream",
     "text": [
      "[1, 2013, 7, 1, 0, 0, 0.0, 0.0, 0.0, 0.0, 0.0, 0.0, 0.0, 0.0, 0.0, 0.0, 0.0, 0.0, 1.0, 2013.0, 7.0, 1.0, 0.0, 0.0, 1.0, 2013.0, 7.0, 1.0, 0.0, 0.0, 0.0, 0.0, 0.0, 0.0, 0.0, 0.0, 0.0, 0.0, 0.0, 0.0, 0.0, 0.0, 0, 0]\n"
     ]
    }
   ],
   "source": [
    "from datetime import datetime\n",
    "import math\n",
    "    \n",
    "input_dim = 0\n",
    "latlong = [[], []]\n",
    "def process_data_row(row):\n",
    "    def parse_time(x):\n",
    "      # We are using python's builtin datetime library\n",
    "      # https://docs.python.org/3/library/datetime.html#datetime.date.fromtimestamp\n",
    "\n",
    "      # Each x is essentially a 1 row, 1 column pandas Series\n",
    "      dt = datetime.fromtimestamp(x[\"TIMESTAMP\"])\n",
    "      return dt.year, dt.month, dt.day, dt.hour, dt.weekday()\n",
    "\n",
    "    def get_lat_long():\n",
    "        if math.isnan(row[\"ORIGIN_STAND\"]):\n",
    "            return [0, 0]\n",
    "        taxi_row = df_taxi_data.iloc[int(row[\"ORIGIN_STAND\"]) - 1]\n",
    "        latlong[0].append(float(taxi_row[\"Latitude\"]))\n",
    "        latlong[1].append(float(taxi_row[\"Longitude\"]))\n",
    "        return [float(taxi_row[\"Latitude\"]), float(taxi_row[\"Longitude\"])]\n",
    "\n",
    "    year, month, day, hour, weekday = parse_time(row)\n",
    "    data = []\n",
    "    scalars = [1]\n",
    "    options = [\"A\", \"B\", \"C\"]\n",
    "    scalars.extend([float(row[\"CALL_TYPE\"] == val) for val in options])\n",
    "    scalars.extend([float(row[\"DAY_TYPE\"] == val) for val in options])\n",
    "    \n",
    "    for scalar in scalars:\n",
    "        data.append(scalar)\n",
    "        data.append(scalar * year)\n",
    "        data.append(scalar * month)\n",
    "        data.append(scalar * day)\n",
    "        data.append(scalar * hour)\n",
    "        data.append(scalar * weekday)\n",
    "    \n",
    "    data.extend(get_lat_long())\n",
    "    return data\n",
    "    \n",
    "\n",
    "def process_dataset(df):\n",
    "    global input_dim\n",
    "    \n",
    "    # Over every single \n",
    "    def polyline_to_trip_duration(polyline):\n",
    "      return max(polyline.count(\"[\") - 2, 0) * 15\n",
    "\n",
    "    # This code creates a new column, \"LEN\", in our dataframe. The value is\n",
    "    # the (polyline_length - 1) * 15, where polyline_length = count(\"[\") - 1\n",
    "    df[\"LEN\"] = df[\"POLYLINE\"].apply(polyline_to_trip_duration)\n",
    "    \n",
    "    raw_train = [[],[],[]]\n",
    "    \n",
    "    for index, row in df.iterrows():\n",
    "        if not row[\"MISSING_DATA\"]:\n",
    "            data = process_data_row(row)\n",
    "            raw_train[0].append(data)\n",
    "            raw_train[1].append(row[\"LEN\"])\n",
    "            raw_train[2].append(row)\n",
    "            input_dim = len(data)\n",
    "    print(raw_train[0][0])\n",
    "    raw_train[0] = torch.tensor(raw_train[0]).to(device)\n",
    "    raw_train[1] = torch.tensor(raw_train[1]).to(device)\n",
    "    \n",
    "    return raw_train\n",
    "\n",
    "raw_train = process_dataset(df_tr)"
   ]
  },
  {
   "cell_type": "code",
   "execution_count": null,
   "id": "98675080",
   "metadata": {},
   "outputs": [],
   "source": [
    "# Data visualization of all trip times\n",
    "plt.hist(raw_train[1].tolist(), bins=50, range=(0, 5000), linewidth=1, edgecolor='black')\n",
    "plt.xlabel('Taxi Trip Time')\n",
    "plt.ylabel('Frequency')\n",
    "plt.show()"
   ]
  },
  {
   "cell_type": "code",
   "execution_count": 30,
   "id": "82dfc9ee",
   "metadata": {},
   "outputs": [
    {
     "data": {
      "image/png": "[encoded data removed]",
      "text/plain": [
       "<Figure size 432x288 with 1 Axes>"
      ]
     },
     "metadata": {
      "needs_background": "light"
     },
     "output_type": "display_data"
    }
   ],
   "source": [
    "# Heatmap visualization of trip start points\n",
    "import matplotlib.colors as mcolors\n",
    "plt.hist2d(latlong[0], latlong[1], bins=15, norm=mcolors.PowerNorm(0.5))\n",
    "plt.title('Latitude/Longitude Distribution (Heatmap)')\n",
    "plt.xlabel('Latitude')\n",
    "plt.ylabel('Longitude')\n",
    "plt.show()"
   ]
  },
  {
   "cell_type": "code",
   "execution_count": 41,
   "id": "ad176d47",
   "metadata": {},
   "outputs": [],
   "source": [
    "batch_size = 128\n",
    "\n",
    "train_dataset = ModelDataset(mode='train', raw_data = raw_train)\n",
    "valid_dataset = ModelDataset(mode='valid', raw_data = raw_train)\n",
    "    \n",
    "train_loader = torch.utils.data.DataLoader(train_dataset, batch_size=batch_size, shuffle = True)\n",
    "valid_loader = torch.utils.data.DataLoader(valid_dataset, batch_size=batch_size, shuffle = True)"
   ]
  },
  {
   "cell_type": "code",
   "execution_count": 42,
   "id": "3b864634",
   "metadata": {
    "scrolled": true
   },
   "outputs": [],
   "source": [
    "# Model training"
   ]
  },
  {
   "cell_type": "code",
   "execution_count": 69,
   "id": "83e5dd27",
   "metadata": {},
   "outputs": [],
   "source": [
    "class MLP(torch.nn.Module):\n",
    "    def __init__(self, input_dim, hidden_dim):\n",
    "        super(MLP, self).__init__() # Refers to the fact that this is a subclass of nn.Module and is inheriting all methods\n",
    "        \"\"\"\n",
    "        the __init__() method that defines the layers and other components\n",
    "        \"\"\" \n",
    "        self.model = torch.nn.Sequential( #an ordered container of modules\n",
    "            nn.Linear(input_dim, hidden_dim),\n",
    "            nn.ReLU(),\n",
    "            nn.Linear(hidden_dim, hidden_dim),\n",
    "            nn.ReLU(),\n",
    "            nn.Linear(hidden_dim, hidden_dim),\n",
    "            nn.ReLU(),\n",
    "            nn.Linear(hidden_dim, hidden_dim),\n",
    "            nn.ReLU(),\n",
    "            nn.Linear(hidden_dim, 1)\n",
    "        )   \n",
    "\n",
    "        # you can also do\n",
    "        # self.layer1 = nn.Linear(input_dim, hidden_dim)\n",
    "        # self.layer2 = nn.Linear(input_dim, hidden_dim)\n",
    "        # ...\n",
    "        # self.relu = nn.ReLU()\n",
    "        \n",
    "    def forward(self, x): #You never have to call model.forward(x)\n",
    "        \"\"\"\n",
    "        the forward function is where computatioin gets done\n",
    "        \"\"\"\n",
    "        x = x.reshape(x.shape[0], -1)\n",
    "        \n",
    "        out = self.model(x)    \n",
    "\n",
    "        # if you defined each layers, maybe you need to do something like:\n",
    "        # x = self.layer1(x)\n",
    "        # x = self.relu(x)\n",
    "        # x = self.layer2(x)\n",
    "        # x = self.relu(x)\n",
    "\n",
    "        return out"
   ]
  },
  {
   "cell_type": "code",
   "execution_count": 70,
   "id": "876bc4ac",
   "metadata": {
    "scrolled": false
   },
   "outputs": [],
   "source": [
    "model = MLP(input_dim=input_dim, hidden_dim=256).to(device)"
   ]
  },
  {
   "cell_type": "code",
   "execution_count": 71,
   "id": "af60b24b",
   "metadata": {},
   "outputs": [],
   "source": [
    "loss_function = torch.nn.L1Loss()\n",
    "learning_rate = 1e-5\n",
    "\n",
    "# All the optimizers have to be initialized with the model.parameters(). \n",
    "optimizer = torch.optim.Adam(model.parameters(), lr = learning_rate)\n",
    "\n",
    "# there are other options, such as torch.optim.Adam, feel free to search pytorch documentation for details "
   ]
  },
  {
   "cell_type": "code",
   "execution_count": 72,
   "id": "1c28748e",
   "metadata": {},
   "outputs": [],
   "source": [
    "def train_epoch(train_loader, model, optimizer, loss_function):\n",
    "    losses = []\n",
    "    # get a batch of training data from the train_loader (DataLoader obj)\n",
    "    for i, (x, t, r) in enumerate(train_loader):\n",
    "        x.to(device)\n",
    "        # make predictions for this batch\n",
    "        y = model(x).flatten()\n",
    "        \n",
    "        # Compute the loss\n",
    "        loss = loss_function(y, t)\n",
    "        \n",
    "        # Backpropagation\n",
    "        # zero out the gradients so that it will not accumulate through each iteration\n",
    "        optimizer.zero_grad()\n",
    "        \n",
    "        # Compute the gradents with the backward call (backprop)\n",
    "        loss.backward()\n",
    "        \n",
    "        # Update weight using gradient descent \n",
    "        optimizer.step()\n",
    "        \n",
    "        losses.append(loss.item() / batch_size)\n",
    "    return np.mean(losses)\n",
    "\n",
    "def eval_epoch(valid_loader, model, loss_function):\n",
    "    losses = []\n",
    "    \n",
    "    with torch.no_grad(): \n",
    "        for i, (x, t, r) in enumerate(valid_loader):\n",
    "            x.to(device)\n",
    "            # Compute prediction\n",
    "            y = model(x).flatten()\n",
    "            \n",
    "            loss = loss_function(y, t)\n",
    "            \n",
    "            losses.append(loss.item() / batch_size)\n",
    "            \n",
    "    return np.mean(losses)"
   ]
  },
  {
   "cell_type": "code",
   "execution_count": 73,
   "id": "7f8e549d",
   "metadata": {},
   "outputs": [
    {
     "name": "stdout",
     "output_type": "stream",
     "text": [
      "Epoch: 1, Train Loss: 4.0558, Validation Loss: 2.5412 \n",
      "\n",
      "Epoch: 2, Train Loss: 2.5342, Validation Loss: 2.5280 \n",
      "\n",
      "Epoch: 3, Train Loss: 2.5330, Validation Loss: 2.5407 \n",
      "\n",
      "Epoch: 4, Train Loss: 2.5324, Validation Loss: 2.5200 \n",
      "\n",
      "Epoch: 5, Train Loss: 2.5322, Validation Loss: 2.5251 \n",
      "\n",
      "Epoch: 6, Train Loss: 2.5318, Validation Loss: 2.5311 \n",
      "\n",
      "Epoch: 7, Train Loss: 2.5335, Validation Loss: 2.5395 \n",
      "\n",
      "Epoch: 8, Train Loss: 2.5319, Validation Loss: 2.5258 \n",
      "\n",
      "Epoch: 9, Train Loss: 2.5323, Validation Loss: 2.5276 \n",
      "\n",
      "Epoch: 10, Train Loss: 2.5332, Validation Loss: 2.5337 \n",
      "\n",
      "Epoch: 11, Train Loss: 2.5329, Validation Loss: 2.5285 \n",
      "\n",
      "Epoch: 12, Train Loss: 2.5328, Validation Loss: 2.5257 \n",
      "\n",
      "Epoch: 13, Train Loss: 2.5323, Validation Loss: 2.5251 \n",
      "\n",
      "Epoch: 14, Train Loss: 2.5320, Validation Loss: 2.5422 \n",
      "\n",
      "Epoch: 15, Train Loss: 2.5328, Validation Loss: 2.5319 \n",
      "\n",
      "Epoch: 16, Train Loss: 2.5323, Validation Loss: 2.5266 \n",
      "\n",
      "Epoch: 17, Train Loss: 2.5333, Validation Loss: 2.5242 \n",
      "\n",
      "Epoch: 18, Train Loss: 2.5327, Validation Loss: 2.5284 \n",
      "\n",
      "Epoch: 19, Train Loss: 2.5330, Validation Loss: 2.5292 \n",
      "\n",
      "Epoch: 20, Train Loss: 2.5330, Validation Loss: 2.5337 \n",
      "\n",
      "\n",
      "Early stopping!\n"
     ]
    }
   ],
   "source": [
    "import copy\n",
    "\n",
    "total_epochs = 50\n",
    "train_losses, valid_losses = [], []\n",
    "max_acc = 0\n",
    "patience = 0\n",
    "min_loss = math.inf\n",
    "for epoch in range(total_epochs):\n",
    "    \n",
    "    model.train() # gradient tracking is on\n",
    "    \n",
    "    train_loss = train_epoch(train_loader, model, optimizer, loss_function)\n",
    "\n",
    "    model.eval() # we don't need gradients on to do reporting\n",
    "    \n",
    "    valid_loss = eval_epoch(valid_loader, model, loss_function)\n",
    "\n",
    "    train_losses.append(train_loss)\n",
    "    valid_losses.append(valid_loss)\n",
    " \n",
    "    if valid_loss < min_loss:\n",
    "        min_loss = valid_loss\n",
    "        best_model = copy.deepcopy(model)\n",
    "        \n",
    "    print(f\"Epoch: {epoch+1}, Train Loss: {train_loss:>0.4f}, Validation Loss: {valid_loss:>0.4f} \\n\")\n",
    "    \n",
    "    # early stop if model starts overfitting\n",
    "    if epoch > 0 and valid_loss > valid_losses[epoch - 1]:\n",
    "        patience += 1\n",
    "    if patience >= 10:\n",
    "        print('\\nEarly stopping!')\n",
    "        break\n",
    "\n",
    "model = best_model"
   ]
  },
  {
   "cell_type": "code",
   "execution_count": 74,
   "id": "36c7a41e",
   "metadata": {},
   "outputs": [
    {
     "data": {
      "image/png": "[encoded data removed]",
      "text/plain": [
       "<Figure size 432x288 with 2 Axes>"
      ]
     },
     "metadata": {
      "needs_background": "light"
     },
     "output_type": "display_data"
    }
   ],
   "source": [
    "import numpy as np\n",
    "import matplotlib.pyplot as plt\n",
    "\n",
    "plt.figure()\n",
    "e = len(train_losses)\n",
    "x_axis = np.arange(1, e + 1, 1)\n",
    "plt.subplot(121)\n",
    "plt.plot(x_axis, train_losses)\n",
    "plt.title('Training losses')\n",
    "plt.xlabel(\"Epochs\")\n",
    "plt.subplot(122)\n",
    "plt.plot(x_axis, valid_losses)\n",
    "plt.title('Validation losses')\n",
    "plt.xlabel(\"Epochs\")\n",
    "plt.show()"
   ]
  },
  {
   "cell_type": "code",
   "execution_count": 75,
   "id": "f33e3bf0",
   "metadata": {},
   "outputs": [],
   "source": [
    "# Running it on the final test set"
   ]
  },
  {
   "cell_type": "code",
   "execution_count": 134,
   "id": "a2e6100b",
   "metadata": {
    "scrolled": true
   },
   "outputs": [
    {
     "name": "stdout",
     "output_type": "stream",
     "text": [
      "[(tensor(57586.3359, device='cuda:0'), TRIP_ID                                       1393061275620000681\n",
      "CALL_TYPE                                                       C\n",
      "ORIGIN_CALL                                                   NaN\n",
      "ORIGIN_STAND                                                  NaN\n",
      "TAXI_ID                                                  20000681\n",
      "TIMESTAMP                                              1393061275\n",
      "DAY_TYPE                                                        A\n",
      "MISSING_DATA                                                False\n",
      "POLYLINE        [[-8.583435,41.158665],[-8.582958,41.158899],[...\n",
      "LEN                                                         58200\n",
      "Name: 1093727, dtype: object), (tensor(57451.5039, device='cuda:0'), TRIP_ID                                       1400312076620000562\n",
      "CALL_TYPE                                                       C\n",
      "ORIGIN_CALL                                                   NaN\n",
      "ORIGIN_STAND                                                  NaN\n",
      "TAXI_ID                                                  20000562\n",
      "TIMESTAMP                                              1400312076\n",
      "DAY_TYPE                                                        A\n",
      "MISSING_DATA                                                False\n",
      "POLYLINE        [[-8.614881,41.151051],[-8.614836,41.151087],[...\n",
      "LEN                                                         58065\n",
      "Name: 1492417, dtype: object), (tensor(56955.9609, device='cuda:0'), TRIP_ID                                       1383293324620000520\n",
      "CALL_TYPE                                                       B\n",
      "ORIGIN_CALL                                                   NaN\n",
      "ORIGIN_STAND                                                 13.0\n",
      "TAXI_ID                                                  20000520\n",
      "TIMESTAMP                                              1383293324\n",
      "DAY_TYPE                                                        A\n",
      "MISSING_DATA                                                False\n",
      "POLYLINE        [[-8.628237,41.157558],[-8.628012,41.158035],[...\n",
      "LEN                                                         57525\n",
      "Name: 578581, dtype: object), (tensor(53221.8789, device='cuda:0'), TRIP_ID                                       1376892235620000086\n",
      "CALL_TYPE                                                       C\n",
      "ORIGIN_CALL                                                   NaN\n",
      "ORIGIN_STAND                                                  NaN\n",
      "TAXI_ID                                                  20000086\n",
      "TIMESTAMP                                              1376892235\n",
      "DAY_TYPE                                                        A\n",
      "MISSING_DATA                                                False\n",
      "POLYLINE        [[-8.618148,41.167557],[-8.618409,41.167575],[...\n",
      "LEN                                                         53835\n",
      "Name: 224510, dtype: object), (tensor(52936.4766, device='cuda:0'), TRIP_ID                                       1375289927620000902\n",
      "CALL_TYPE                                                       C\n",
      "ORIGIN_CALL                                                   NaN\n",
      "ORIGIN_STAND                                                  NaN\n",
      "TAXI_ID                                                  20000902\n",
      "TIMESTAMP                                              1375289927\n",
      "DAY_TYPE                                                        A\n",
      "MISSING_DATA                                                False\n",
      "POLYLINE        [[-8.614386,41.141079],[-8.613729,41.141304],[...\n",
      "LEN                                                         53550\n",
      "Name: 147121, dtype: object), (tensor(46171.7344, device='cuda:0'), TRIP_ID                                       1379954402620000904\n",
      "CALL_TYPE                                                       C\n",
      "ORIGIN_CALL                                                   NaN\n",
      "ORIGIN_STAND                                                  NaN\n",
      "TAXI_ID                                                  20000904\n",
      "TIMESTAMP                                              1379954402\n",
      "DAY_TYPE                                                        A\n",
      "MISSING_DATA                                                False\n",
      "POLYLINE        [[-8.621001,41.150358],[-8.621388,41.150664],[...\n",
      "LEN                                                         46785\n",
      "Name: 385819, dtype: object), (tensor(43440.6641, device='cuda:0'), TRIP_ID                                       1375981643620000520\n",
      "CALL_TYPE                                                       B\n",
      "ORIGIN_CALL                                                   NaN\n",
      "ORIGIN_STAND                                                 53.0\n",
      "TAXI_ID                                                  20000520\n",
      "TIMESTAMP                                              1375981643\n",
      "DAY_TYPE                                                        A\n",
      "MISSING_DATA                                                False\n",
      "POLYLINE        [[-8.613783,41.14125],[-8.61399,41.141223],[-8...\n",
      "LEN                                                         44010\n",
      "Name: 182829, dtype: object), (tensor(40456.4297, device='cuda:0'), TRIP_ID                                       1395081407620000904\n",
      "CALL_TYPE                                                       C\n",
      "ORIGIN_CALL                                                   NaN\n",
      "ORIGIN_STAND                                                  NaN\n",
      "TAXI_ID                                                  20000904\n",
      "TIMESTAMP                                              1395081407\n",
      "DAY_TYPE                                                        A\n",
      "MISSING_DATA                                                False\n",
      "POLYLINE        [[-8.531757,41.14692],[-8.532054,41.145624],[-...\n",
      "LEN                                                         41070\n",
      "Name: 1199139, dtype: object), (tensor(39556.7070, device='cuda:0'), TRIP_ID                                       1391442237620000902\n",
      "CALL_TYPE                                                       C\n",
      "ORIGIN_CALL                                                   NaN\n",
      "ORIGIN_STAND                                                  NaN\n",
      "TAXI_ID                                                  20000902\n",
      "TIMESTAMP                                              1391442237\n",
      "DAY_TYPE                                                        A\n",
      "MISSING_DATA                                                False\n",
      "POLYLINE        [[-8.672364,41.154831],[-8.670393,41.155974],[...\n",
      "LEN                                                         40170\n",
      "Name: 1003876, dtype: object), (tensor(39166.6289, device='cuda:0'), TRIP_ID                                       1388220860620000144\n",
      "CALL_TYPE                                                       C\n",
      "ORIGIN_CALL                                                   NaN\n",
      "ORIGIN_STAND                                                  NaN\n",
      "TAXI_ID                                                  20000144\n",
      "TIMESTAMP                                              1388220860\n",
      "DAY_TYPE                                                        A\n",
      "MISSING_DATA                                                False\n",
      "POLYLINE        [[-8.621415,41.156316],[-8.621064,41.155749],[...\n",
      "LEN                                                         39780\n",
      "Name: 849531, dtype: object)]\n"
     ]
    }
   ],
   "source": [
    "# Final testing on all data\n",
    "batch_size = 128\n",
    "\n",
    "test_dataset = ModelDataset(mode='test', raw_data = raw_train)\n",
    "\n",
    "highest_loss = []\n",
    "for i in range(len(test_dataset)):\n",
    "    model.eval()\n",
    "    x, t, raw = test_dataset[i]\n",
    "    y = model(x.unsqueeze(0))\n",
    "    loss = loss_function(torch.tensor(y.item()).to(device), t)\n",
    "    highest_loss = sorted(highest_loss + [(loss, raw)], key=lambda x: -x[0])[:10]\n",
    "print(highest_loss)"
   ]
  },
  {
   "cell_type": "code",
   "execution_count": 172,
   "id": "1d2e00f0",
   "metadata": {},
   "outputs": [
    {
     "data": {
      "image/png": "[encoded data removed]",
      "text/plain": [
       "<Figure size 432x288 with 1 Axes>"
      ]
     },
     "metadata": {
      "needs_background": "light"
     },
     "output_type": "display_data"
    }
   ],
   "source": [
    "loss, row = highest_loss[9]\n",
    "count += 1\n",
    "polyline = row['POLYLINE'].split(\"],\")\n",
    "polyline = [i.replace(\"[\", '').replace(\"]\", '') for i in polyline]\n",
    "polyline = [(float(i.split(\",\")[0]), float(i.split(\",\")[1])) for i in polyline]\n",
    "lat = [i[0] for i in polyline]\n",
    "lon = [i[1] for i in polyline]\n",
    "plt.plot(lat, lon)\n",
    "plt.xlabel(\"Latitude\")\n",
    "plt.ylabel(\"Longitude\")\n",
    "plt.title(f'Path with Loss: {loss}')\n",
    "plt.show()"
   ]
  },
  {
   "cell_type": "code",
   "execution_count": 76,
   "id": "4872dcf9",
   "metadata": {},
   "outputs": [],
   "source": [
    "# These are all of the files you are given\n",
    "df_test = pd.read_csv(\"kaggle_data/test_public.csv\")"
   ]
  },
  {
   "cell_type": "code",
   "execution_count": 77,
   "id": "4a5e8561",
   "metadata": {},
   "outputs": [],
   "source": [
    "titles = []\n",
    "test_vals = []\n",
    "for index, row in df_test.iterrows():\n",
    "    titles.append(row[\"TRIP_ID\"])\n",
    "    test_vals.append(process_data_row(row))\n",
    "\n",
    "test_vals = torch.tensor(test_vals).to(device)"
   ]
  },
  {
   "cell_type": "code",
   "execution_count": 78,
   "id": "7bab15e2",
   "metadata": {},
   "outputs": [],
   "source": [
    "output = model(test_vals)\n",
    "output.flatten()\n",
    "output = [i.item() for i in output]\n",
    "\n",
    "df = pd.DataFrame(data={\"TRIP_ID\": titles, \"TRAVEL_TIME\": output})\n",
    "df.to_csv(\"solution.csv\", index=False)"
   ]
  },
  {
   "cell_type": "code",
   "execution_count": null,
   "id": "3dabe1c7",
   "metadata": {},
   "outputs": [],
   "source": []
  }
 ],
 "metadata": {
  "kernelspec": {
   "display_name": "Python 3 (ipykernel)",
   "language": "python",
   "name": "python3"
  },
  "language_info": {
   "codemirror_mode": {
    "name": "ipython",
    "version": 3
   },
   "file_extension": ".py",
   "mimetype": "text/x-python",
   "name": "python",
   "nbconvert_exporter": "python",
   "pygments_lexer": "ipython3",
   "version": "3.9.5"
  }
 },
 "nbformat": 4,
 "nbformat_minor": 5
}
