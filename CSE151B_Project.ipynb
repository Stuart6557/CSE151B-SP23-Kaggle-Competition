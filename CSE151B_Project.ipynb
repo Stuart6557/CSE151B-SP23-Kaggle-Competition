{
 "cells": [
  {
   "cell_type": "code",
   "execution_count": 1,
   "id": "49c17ba8",
   "metadata": {
    "scrolled": true
   },
   "outputs": [
    {
     "name": "stdout",
     "output_type": "stream",
     "text": [
      "  % Total    % Received % Xferd  Average Speed   Time    Time     Time  Current\n",
      "                                 Dload  Upload   Total   Spent    Left  Speed\n",
      "100    17    0    17    0     0     57      0 --:--:-- --:--:-- --:--:--    57\n",
      "100   340  100   340    0     0    478      0 --:--:-- --:--:-- --:--:--     0\n",
      "100   534    0   534    0     0    425      0 --:--:--  0:00:01 --:--:--   425\n",
      " 41  515M   41  212M    0     0  46.1M      0  0:00:11  0:00:04  0:00:07 70.7M^C\n",
      "Archive:  kaggle-download.zip\n",
      "  End-of-central-directory signature not found.  Either this file is not\n",
      "  a zipfile, or it constitutes one disk of a multi-part archive.  In the\n",
      "  latter case the central directory and zipfile comment will be found on\n",
      "  the last disk(s) of this archive.\n",
      "unzip:  cannot find zipfile directory in one of kaggle-download.zip or\n",
      "        kaggle-download.zip.zip, and cannot find kaggle-download.zip.ZIP, period.\n"
     ]
    }
   ],
   "source": [
    "!curl -L https://www.dropbox.com/s/rndzndlgpw3coiq/kaggle-download.zip -o kaggle-download.zip\n",
    "!unzip kaggle-download.zip -d kaggle_data"
   ]
  },
  {
   "cell_type": "code",
   "execution_count": 2,
   "id": "c5411bf0",
   "metadata": {},
   "outputs": [],
   "source": [
    "import numpy as np, pandas as pd\n",
    "import matplotlib.pyplot as plt\n",
    "import torch\n",
    "from torch.utils.data import Dataset\n",
    "import torch.nn as nn"
   ]
  },
  {
   "cell_type": "code",
   "execution_count": 3,
   "id": "e097d18b",
   "metadata": {},
   "outputs": [],
   "source": [
    "device = torch.device(\"cuda\" if torch.cuda.is_available() else \"cpu\")"
   ]
  },
  {
   "cell_type": "code",
   "execution_count": 4,
   "id": "c21a61d1",
   "metadata": {},
   "outputs": [],
   "source": [
    "# Processing data"
   ]
  },
  {
   "cell_type": "code",
   "execution_count": 7,
   "id": "2b46b2fb",
   "metadata": {},
   "outputs": [],
   "source": [
    "# These are all of the files you are given\n",
    "df_tr = pd.read_csv(\"kaggle_data/train.csv\")"
   ]
  },
  {
   "cell_type": "code",
   "execution_count": 8,
   "id": "04c73b0f",
   "metadata": {},
   "outputs": [],
   "source": [
    "df_taxi_data = pd.read_csv(\"kaggle_data/metaData_taxistandsID_name_GPSlocation.csv\")\n",
    "# The following code normalizes longitudes and latitudes.\n",
    "# df_taxi_data[\"Longitude\"] = (df_taxi_data[\"Longitude\"] - df_taxi_data[\"Longitude\"].mean()) / df_taxi_data[\"Longitude\"].std()\n",
    "# df_taxi_data[\"Latitude\"] = (df_taxi_data[\"Latitude\"] - df_taxi_data[\"Latitude\"].mean()) / df_taxi_data[\"Latitude\"].std()"
   ]
  },
  {
   "cell_type": "code",
   "execution_count": 68,
   "id": "a056e237",
   "metadata": {},
   "outputs": [
    {
     "name": "stdout",
     "output_type": "stream",
     "text": [
      "[1, 2013, 7, 1, 0, 0, 0.01, 20.13, 0.07, 0.01, 0.0, 0.0, 0.01, 20.13, 0.07, 0.01, 0.0, 0.0, 1.01, 2033.13, 7.07, 1.01, 0.0, 0.0, 1.01, 2033.13, 7.07, 1.01, 0.0, 0.0, 0.01, 20.13, 0.07, 0.01, 0.0, 0.0, 0.01, 20.13, 0.07, 0.01, 0.0, 0.0, 0.01, 0.01]\n"
     ]
    }
   ],
   "source": [
    "from datetime import datetime\n",
    "import math\n",
    "\n",
    "class ModelDataset(Dataset):\n",
    "    def __init__(self, mode, raw_data):\n",
    "        \"\"\"\n",
    "        The __init__ function is run once when instantiating the Dataset object\n",
    "        \"\"\"\n",
    "        assert mode in ['train', 'valid']\n",
    "        train_len = int(len(raw_data[0]) * 0.8)\n",
    "        if mode == \"train\":\n",
    "            self.images = raw_data[0][:train_len].float()\n",
    "            self.labels = raw_data[1][:train_len].float()\n",
    "            self.num_samples = len(self.labels)\n",
    "        else:\n",
    "            self.images = raw_data[0][train_len:].float()\n",
    "            self.labels = raw_data[1][train_len:].float()\n",
    "            self.num_samples = len(self.labels)\n",
    "            \n",
    "    def __len__(self):\n",
    "        \"\"\"\n",
    "        The __len__ function returns the number of samples in our dataset.\n",
    "        \"\"\"\n",
    "        return self.num_samples\n",
    "    \n",
    "    def __getitem__(self, index):\n",
    "        \"\"\"\n",
    "        The __getitem__ function loads and returns a sample from the dataset at the given index\n",
    "        \"\"\"\n",
    "        image, label = self.images[index], self.labels[index]    \n",
    "        return image, label\n",
    "    \n",
    "input_dim = 0\n",
    "latlong = [[], []]\n",
    "def process_data_row(row):\n",
    "    def parse_time(x):\n",
    "      # We are using python's builtin datetime library\n",
    "      # https://docs.python.org/3/library/datetime.html#datetime.date.fromtimestamp\n",
    "\n",
    "      # Each x is essentially a 1 row, 1 column pandas Series\n",
    "      dt = datetime.fromtimestamp(x[\"TIMESTAMP\"])\n",
    "      return dt.year, dt.month, dt.day, dt.hour, dt.weekday()\n",
    "\n",
    "    def get_lat_long():\n",
    "        if math.isnan(row[\"ORIGIN_STAND\"]):\n",
    "            return [0, 0]\n",
    "        taxi_row = df_taxi_data.iloc[int(row[\"ORIGIN_STAND\"]) - 1]\n",
    "        latlong[0].append(float(taxi_row[\"Latitude\"]))\n",
    "        latlong[1].append(float(taxi_row[\"Longitude\"]))\n",
    "        return [float(taxi_row[\"Latitude\"]), float(taxi_row[\"Longitude\"])]\n",
    "\n",
    "    year, month, day, hour, weekday = parse_time(row)\n",
    "    data = []\n",
    "    scalars = [1]\n",
    "    options = [\"A\", \"B\", \"C\"]\n",
    "    scalars.extend([float(row[\"CALL_TYPE\"] == val) for val in options])\n",
    "    scalars.extend([float(row[\"DAY_TYPE\"] == val) for val in options])\n",
    "    \n",
    "    for scalar in scalars:\n",
    "        data.append(scalar)\n",
    "        data.append(scalar * year)\n",
    "        data.append(scalar * month)\n",
    "        data.append(scalar * day)\n",
    "        data.append(scalar * hour)\n",
    "        data.append(scalar * weekday)\n",
    "    \n",
    "    data.extend(get_lat_long())\n",
    "    return data\n",
    "    \n",
    "\n",
    "def process_dataset(df):\n",
    "    global input_dim\n",
    "    \n",
    "    # Over every single \n",
    "    def polyline_to_trip_duration(polyline):\n",
    "      return max(polyline.count(\"[\") - 2, 0) * 15\n",
    "\n",
    "    # This code creates a new column, \"LEN\", in our dataframe. The value is\n",
    "    # the (polyline_length - 1) * 15, where polyline_length = count(\"[\") - 1\n",
    "    df[\"LEN\"] = df[\"POLYLINE\"].apply(polyline_to_trip_duration)\n",
    "    \n",
    "    raw_train = [[],[]]\n",
    "    \n",
    "    for index, row in df.iterrows():\n",
    "        if not row[\"MISSING_DATA\"]:\n",
    "            data = process_data_row(row)\n",
    "            raw_train[0].append(data)\n",
    "            raw_train[1].append(row[\"LEN\"])\n",
    "            input_dim = len(data)\n",
    "    print(raw_train[0][0])\n",
    "    raw_train[0] = torch.tensor(raw_train[0]).to(device)\n",
    "    raw_train[1] = torch.tensor(raw_train[1]).to(device)\n",
    "    \n",
    "    return raw_train\n",
    "\n",
    "raw_train = process_dataset(df_tr)"
   ]
  },
  {
   "cell_type": "code",
   "execution_count": null,
   "id": "d110cfcd",
   "metadata": {},
   "outputs": [],
   "source": [
    "# Data visualization of all trip times\n",
    "plt.hist(raw_train[1].tolist(), bins=50, range=(0, 5000), linewidth=1, edgecolor='black')\n",
    "plt.xlabel('Taxi Trip Time')\n",
    "plt.ylabel('Frequency')\n",
    "plt.show()"
   ]
  },
  {
   "cell_type": "code",
   "execution_count": 30,
   "id": "9d947140",
   "metadata": {},
   "outputs": [
    {
     "data": {
      "image/png": "[encoded data removed]",
      "text/plain": [
       "<Figure size 432x288 with 1 Axes>"
      ]
     },
     "metadata": {
      "needs_background": "light"
     },
     "output_type": "display_data"
    }
   ],
   "source": [
    "# Heatmap visualization of trip start points\n",
    "import matplotlib.colors as mcolors\n",
    "plt.hist2d(latlong[0], latlong[1], bins=15, norm=mcolors.PowerNorm(0.5))\n",
    "plt.title('Latitude/Longitude Distribution (Heatmap)')\n",
    "plt.xlabel('Latitude')\n",
    "plt.ylabel('Longitude')\n",
    "plt.show()"
   ]
  },
  {
   "cell_type": "code",
   "execution_count": 41,
   "id": "ad176d47",
   "metadata": {},
   "outputs": [],
   "source": [
    "batch_size = 128\n",
    "\n",
    "mnist_train = ModelDataset(mode='train', raw_data = raw_train)\n",
    "mnist_valid = ModelDataset(mode='valid', raw_data = raw_train)\n",
    "    \n",
    "train_loader = torch.utils.data.DataLoader(mnist_train, batch_size=batch_size, shuffle = True)\n",
    "valid_loader = torch.utils.data.DataLoader(mnist_valid, batch_size=batch_size, shuffle = True)"
   ]
  },
  {
   "cell_type": "code",
   "execution_count": 42,
   "id": "3b864634",
   "metadata": {
    "scrolled": true
   },
   "outputs": [],
   "source": [
    "# Model training"
   ]
  },
  {
   "cell_type": "code",
   "execution_count": 69,
   "id": "83e5dd27",
   "metadata": {},
   "outputs": [],
   "source": [
    "class MLP(torch.nn.Module):\n",
    "    def __init__(self, input_dim, hidden_dim):\n",
    "        super(MLP, self).__init__() # Refers to the fact that this is a subclass of nn.Module and is inheriting all methods\n",
    "        \"\"\"\n",
    "        the __init__() method that defines the layers and other components\n",
    "        \"\"\" \n",
    "        self.model = torch.nn.Sequential( #an ordered container of modules\n",
    "            nn.Linear(input_dim, hidden_dim),\n",
    "            nn.ReLU(),\n",
    "            nn.Linear(hidden_dim, hidden_dim),\n",
    "            nn.ReLU(),\n",
    "            nn.Linear(hidden_dim, hidden_dim),\n",
    "            nn.ReLU(),\n",
    "            nn.Linear(hidden_dim, hidden_dim),\n",
    "            nn.ReLU(),\n",
    "            nn.Linear(hidden_dim, 1)\n",
    "        )   \n",
    "\n",
    "        # you can also do\n",
    "        # self.layer1 = nn.Linear(input_dim, hidden_dim)\n",
    "        # self.layer2 = nn.Linear(input_dim, hidden_dim)\n",
    "        # ...\n",
    "        # self.relu = nn.ReLU()\n",
    "        \n",
    "    def forward(self, x): #You never have to call model.forward(x)\n",
    "        \"\"\"\n",
    "        the forward function is where computatioin gets done\n",
    "        \"\"\"\n",
    "        x = x.reshape(x.shape[0], -1)\n",
    "        \n",
    "        out = self.model(x)    \n",
    "\n",
    "        # if you defined each layers, maybe you need to do something like:\n",
    "        # x = self.layer1(x)\n",
    "        # x = self.relu(x)\n",
    "        # x = self.layer2(x)\n",
    "        # x = self.relu(x)\n",
    "\n",
    "        return out"
   ]
  },
  {
   "cell_type": "code",
   "execution_count": 70,
   "id": "876bc4ac",
   "metadata": {
    "scrolled": false
   },
   "outputs": [],
   "source": [
    "model = MLP(input_dim=input_dim, hidden_dim=256).to(device)"
   ]
  },
  {
   "cell_type": "code",
   "execution_count": 71,
   "id": "af60b24b",
   "metadata": {},
   "outputs": [],
   "source": [
    "loss_function = torch.nn.L1Loss()\n",
    "learning_rate = 1e-5\n",
    "\n",
    "# All the optimizers have to be initialized with the model.parameters(). \n",
    "optimizer = torch.optim.Adam(model.parameters(), lr = learning_rate)\n",
    "\n",
    "# there are other options, such as torch.optim.Adam, feel free to search pytorch documentation for details "
   ]
  },
  {
   "cell_type": "code",
   "execution_count": 72,
   "id": "1c28748e",
   "metadata": {},
   "outputs": [],
   "source": [
    "def train_epoch(train_loader, model, optimizer, loss_function):\n",
    "    losses = []\n",
    "    # get a batch of training data from the train_loader (DataLoader obj)\n",
    "    for i, (x, t) in enumerate(train_loader):\n",
    "        x.to(device)\n",
    "        # make predictions for this batch\n",
    "        y = model(x).flatten()\n",
    "        \n",
    "        # Compute the loss\n",
    "        loss = loss_function(y, t)\n",
    "        \n",
    "        # Backpropagation\n",
    "        # zero out the gradients so that it will not accumulate through each iteration\n",
    "        optimizer.zero_grad()\n",
    "        \n",
    "        # Compute the gradents with the backward call (backprop)\n",
    "        loss.backward()\n",
    "        \n",
    "        # Update weight using gradient descent \n",
    "        optimizer.step()\n",
    "        \n",
    "        losses.append(loss.item() / batch_size)\n",
    "    return np.mean(losses)\n",
    "\n",
    "def eval_epoch(valid_loader, model, loss_function):\n",
    "    losses = []\n",
    "    \n",
    "    with torch.no_grad(): \n",
    "        for i, (x, t) in enumerate(valid_loader):\n",
    "            x.to(device)\n",
    "            # Compute prediction\n",
    "            y = model(x).flatten()\n",
    "            \n",
    "            loss = loss_function(y, t)\n",
    "            \n",
    "            losses.append(loss.item() / batch_size)\n",
    "            \n",
    "    return np.mean(losses)"
   ]
  },
  {
   "cell_type": "code",
   "execution_count": 73,
   "id": "7f8e549d",
   "metadata": {},
   "outputs": [
    {
     "name": "stdout",
     "output_type": "stream",
     "text": [
      "Epoch: 1, Train Loss: 4.0558, Validation Loss: 2.5412 \n",
      "\n",
      "Epoch: 2, Train Loss: 2.5342, Validation Loss: 2.5280 \n",
      "\n",
      "Epoch: 3, Train Loss: 2.5330, Validation Loss: 2.5407 \n",
      "\n",
      "Epoch: 4, Train Loss: 2.5324, Validation Loss: 2.5200 \n",
      "\n",
      "Epoch: 5, Train Loss: 2.5322, Validation Loss: 2.5251 \n",
      "\n",
      "Epoch: 6, Train Loss: 2.5318, Validation Loss: 2.5311 \n",
      "\n",
      "Epoch: 7, Train Loss: 2.5335, Validation Loss: 2.5395 \n",
      "\n",
      "Epoch: 8, Train Loss: 2.5319, Validation Loss: 2.5258 \n",
      "\n",
      "Epoch: 9, Train Loss: 2.5323, Validation Loss: 2.5276 \n",
      "\n",
      "Epoch: 10, Train Loss: 2.5332, Validation Loss: 2.5337 \n",
      "\n",
      "Epoch: 11, Train Loss: 2.5329, Validation Loss: 2.5285 \n",
      "\n",
      "Epoch: 12, Train Loss: 2.5328, Validation Loss: 2.5257 \n",
      "\n",
      "Epoch: 13, Train Loss: 2.5323, Validation Loss: 2.5251 \n",
      "\n",
      "Epoch: 14, Train Loss: 2.5320, Validation Loss: 2.5422 \n",
      "\n",
      "Epoch: 15, Train Loss: 2.5328, Validation Loss: 2.5319 \n",
      "\n",
      "Epoch: 16, Train Loss: 2.5323, Validation Loss: 2.5266 \n",
      "\n",
      "Epoch: 17, Train Loss: 2.5333, Validation Loss: 2.5242 \n",
      "\n",
      "Epoch: 18, Train Loss: 2.5327, Validation Loss: 2.5284 \n",
      "\n",
      "Epoch: 19, Train Loss: 2.5330, Validation Loss: 2.5292 \n",
      "\n",
      "Epoch: 20, Train Loss: 2.5330, Validation Loss: 2.5337 \n",
      "\n",
      "\n",
      "Early stopping!\n"
     ]
    }
   ],
   "source": [
    "import copy\n",
    "\n",
    "total_epochs = 50\n",
    "train_losses, valid_losses = [], []\n",
    "max_acc = 0\n",
    "patience = 0\n",
    "min_loss = math.inf\n",
    "for epoch in range(total_epochs):\n",
    "    \n",
    "    model.train() # gradient tracking is on\n",
    "    \n",
    "    train_loss = train_epoch(train_loader, model, optimizer, loss_function)\n",
    "\n",
    "    model.eval() # we don't need gradients on to do reporting\n",
    "    \n",
    "    valid_loss = eval_epoch(valid_loader, model, loss_function)\n",
    "\n",
    "    train_losses.append(train_loss)\n",
    "    valid_losses.append(valid_loss)\n",
    " \n",
    "    if valid_loss < min_loss:\n",
    "        min_loss = valid_loss\n",
    "        best_model = copy.deepcopy(model)\n",
    "        \n",
    "    print(f\"Epoch: {epoch+1}, Train Loss: {train_loss:>0.4f}, Validation Loss: {valid_loss:>0.4f} \\n\")\n",
    "    \n",
    "    # early stop if model starts overfitting\n",
    "    if epoch > 0 and valid_loss > valid_losses[epoch - 1]:\n",
    "        patience += 1\n",
    "    if patience >= 10:\n",
    "        print('\\nEarly stopping!')\n",
    "        break\n",
    "\n",
    "model = best_model"
   ]
  },
  {
   "cell_type": "code",
   "execution_count": 74,
   "id": "36c7a41e",
   "metadata": {},
   "outputs": [
    {
     "data": {
      "image/png": "[encoded data removed]",
      "text/plain": [
       "<Figure size 432x288 with 2 Axes>"
      ]
     },
     "metadata": {
      "needs_background": "light"
     },
     "output_type": "display_data"
    }
   ],
   "source": [
    "import numpy as np\n",
    "import matplotlib.pyplot as plt\n",
    "\n",
    "plt.figure()\n",
    "e = len(train_losses)\n",
    "x_axis = np.arange(1, e + 1, 1)\n",
    "plt.subplot(121)\n",
    "plt.plot(x_axis, train_losses)\n",
    "plt.title('Training losses')\n",
    "plt.xlabel(\"Epochs\")\n",
    "plt.subplot(122)\n",
    "plt.plot(x_axis, valid_losses)\n",
    "plt.title('Validation losses')\n",
    "plt.xlabel(\"Epochs\")\n",
    "plt.show()"
   ]
  },
  {
   "cell_type": "code",
   "execution_count": 75,
   "id": "f33e3bf0",
   "metadata": {},
   "outputs": [],
   "source": [
    "# Running it on the final test set"
   ]
  },
  {
   "cell_type": "code",
   "execution_count": 76,
   "id": "4872dcf9",
   "metadata": {},
   "outputs": [],
   "source": [
    "# These are all of the files you are given\n",
    "df_test = pd.read_csv(\"kaggle_data/test_public.csv\")"
   ]
  },
  {
   "cell_type": "code",
   "execution_count": 77,
   "id": "4a5e8561",
   "metadata": {},
   "outputs": [],
   "source": [
    "titles = []\n",
    "test_vals = []\n",
    "for index, row in df_test.iterrows():\n",
    "    titles.append(row[\"TRIP_ID\"])\n",
    "    test_vals.append(process_data_row(row))\n",
    "\n",
    "test_vals = torch.tensor(test_vals).to(device)"
   ]
  },
  {
   "cell_type": "code",
   "execution_count": 78,
   "id": "7bab15e2",
   "metadata": {},
   "outputs": [],
   "source": [
    "output = model(test_vals)\n",
    "output.flatten()\n",
    "output = [i.item() for i in output]\n",
    "\n",
    "df = pd.DataFrame(data={\"TRIP_ID\": titles, \"TRAVEL_TIME\": output})\n",
    "df.to_csv(\"solution.csv\", index=False)"
   ]
  },
  {
   "cell_type": "code",
   "execution_count": null,
   "id": "3dabe1c7",
   "metadata": {},
   "outputs": [],
   "source": []
  }
 ],
 "metadata": {
  "kernelspec": {
   "display_name": "Python 3 (ipykernel)",
   "language": "python",
   "name": "python3"
  },
  "language_info": {
   "codemirror_mode": {
    "name": "ipython",
    "version": 3
   },
   "file_extension": ".py",
   "mimetype": "text/x-python",
   "name": "python",
   "nbconvert_exporter": "python",
   "pygments_lexer": "ipython3",
   "version": "3.9.5"
  }
 },
 "nbformat": 4,
 "nbformat_minor": 5
}
